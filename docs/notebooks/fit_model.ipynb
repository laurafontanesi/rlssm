{
 "cells": [
  {
   "cell_type": "markdown",
   "id": "introductory-nashville",
   "metadata": {},
   "source": [
    "# How to fit a model"
   ]
  },
  {
   "cell_type": "markdown",
   "id": "descending-plate",
   "metadata": {},
   "source": [
    "To fit a model, there are 3 main things to specify:\n",
    "\n",
    "**1. Data:**\n",
    "The `data`, which should be in the form of a pandas DataFrame.\n",
    "\n",
    "Different model classes might require different columns in the data. You should check in the [API Reference](https://rlssm.readthedocs.io/en/latest/models/model_classes.html) of each model class (or using `model.fit?`) what the required data columns are.\n",
    "\n",
    "**2. The priors (optional):**\n",
    "You can decide whether to use the default priors (which you can see after initializing the model) or whether you want to change the mean or SD of the prior or hyper-prior distributions. Whether you changed the priors or not, they are always printed out when the model starts fitting.\n",
    "\n",
    "**3. Sampling parameters:**\n",
    "The sampling parameters **(number of chains, iterations, warmups, thinning, etc.)** are the arguments to the `pystan.StanModel.sampling()` function, and we simply refer to the [pystan documentation](https://pystan.readthedocs.io/) for a better overview.\n",
    "\n",
    "**Additional learning parameters:**\n",
    "While all sequential sampling models (DDM and race models) **without a learning component** only require a `data` argument, all models with a learning components (RL models, RLDDMs, and RL+race models) also require a `K` argument, which is the total number of different options in a learning block (note that this can be different from the number of options presented in each trial), and `initial_value_learning`, which is the initial Q value (before learning)."
   ]
  },
  {
   "cell_type": "code",
   "execution_count": 1,
   "id": "associate-police",
   "metadata": {},
   "outputs": [],
   "source": [
    "import rlssm"
   ]
  },
  {
   "cell_type": "markdown",
   "id": "electrical-factor",
   "metadata": {},
   "source": [
    "## Non-learning example (non-hierarchical, simulated data)"
   ]
  },
  {
   "cell_type": "code",
   "execution_count": 2,
   "id": "flying-stomach",
   "metadata": {},
   "outputs": [
    {
     "name": "stdout",
     "output_type": "stream",
     "text": [
      "Using cached StanModel\n"
     ]
    }
   ],
   "source": [
    "model_ddm = rlssm.DDModel(hierarchical_levels=1)"
   ]
  },
  {
   "cell_type": "code",
   "execution_count": 3,
   "id": "aggregate-northern",
   "metadata": {},
   "outputs": [],
   "source": [
    "# simulate some DDM data:\n",
    "from rlssm.random import simulate_ddm\n",
    "data_ddm = simulate_ddm(\n",
    "    n_trials=400, \n",
    "    gen_drift=.8, \n",
    "    gen_threshold=1.3, \n",
    "    gen_ndt=.23)"
   ]
  },
  {
   "cell_type": "markdown",
   "id": "direct-anaheim",
   "metadata": {},
   "source": [
    "For the simple, non-hierarchical DDM, it is only necessary to have `rt` and `accuracy` columns:\n",
    "\n",
    "- *rt*, response times in seconds.\n",
    "\n",
    "- *accuracy*, 0 if the incorrect option was chosen, 1 if the correct option was chosen."
   ]
  },
  {
   "cell_type": "code",
   "execution_count": 4,
   "id": "expired-kruger",
   "metadata": {},
   "outputs": [
    {
     "data": {
      "text/html": [
       "<div>\n",
       "<style scoped>\n",
       "    .dataframe tbody tr th:only-of-type {\n",
       "        vertical-align: middle;\n",
       "    }\n",
       "\n",
       "    .dataframe tbody tr th {\n",
       "        vertical-align: top;\n",
       "    }\n",
       "\n",
       "    .dataframe thead th {\n",
       "        text-align: right;\n",
       "    }\n",
       "</style>\n",
       "<table border=\"1\" class=\"dataframe\">\n",
       "  <thead>\n",
       "    <tr style=\"text-align: right;\">\n",
       "      <th></th>\n",
       "      <th></th>\n",
       "      <th>drift</th>\n",
       "      <th>rel_sp</th>\n",
       "      <th>threshold</th>\n",
       "      <th>ndt</th>\n",
       "      <th>rt</th>\n",
       "      <th>accuracy</th>\n",
       "    </tr>\n",
       "    <tr>\n",
       "      <th>participant</th>\n",
       "      <th>trial</th>\n",
       "      <th></th>\n",
       "      <th></th>\n",
       "      <th></th>\n",
       "      <th></th>\n",
       "      <th></th>\n",
       "      <th></th>\n",
       "    </tr>\n",
       "  </thead>\n",
       "  <tbody>\n",
       "    <tr>\n",
       "      <th rowspan=\"5\" valign=\"top\">1</th>\n",
       "      <th>1</th>\n",
       "      <td>0.8</td>\n",
       "      <td>0.5</td>\n",
       "      <td>1.3</td>\n",
       "      <td>0.23</td>\n",
       "      <td>1.134</td>\n",
       "      <td>0.0</td>\n",
       "    </tr>\n",
       "    <tr>\n",
       "      <th>2</th>\n",
       "      <td>0.8</td>\n",
       "      <td>0.5</td>\n",
       "      <td>1.3</td>\n",
       "      <td>0.23</td>\n",
       "      <td>0.433</td>\n",
       "      <td>1.0</td>\n",
       "    </tr>\n",
       "    <tr>\n",
       "      <th>3</th>\n",
       "      <td>0.8</td>\n",
       "      <td>0.5</td>\n",
       "      <td>1.3</td>\n",
       "      <td>0.23</td>\n",
       "      <td>0.702</td>\n",
       "      <td>1.0</td>\n",
       "    </tr>\n",
       "    <tr>\n",
       "      <th>4</th>\n",
       "      <td>0.8</td>\n",
       "      <td>0.5</td>\n",
       "      <td>1.3</td>\n",
       "      <td>0.23</td>\n",
       "      <td>0.695</td>\n",
       "      <td>1.0</td>\n",
       "    </tr>\n",
       "    <tr>\n",
       "      <th>5</th>\n",
       "      <td>0.8</td>\n",
       "      <td>0.5</td>\n",
       "      <td>1.3</td>\n",
       "      <td>0.23</td>\n",
       "      <td>0.351</td>\n",
       "      <td>1.0</td>\n",
       "    </tr>\n",
       "  </tbody>\n",
       "</table>\n",
       "</div>"
      ],
      "text/plain": [
       "                   drift  rel_sp  threshold   ndt     rt  accuracy\n",
       "participant trial                                                 \n",
       "1           1        0.8     0.5        1.3  0.23  1.134       0.0\n",
       "            2        0.8     0.5        1.3  0.23  0.433       1.0\n",
       "            3        0.8     0.5        1.3  0.23  0.702       1.0\n",
       "            4        0.8     0.5        1.3  0.23  0.695       1.0\n",
       "            5        0.8     0.5        1.3  0.23  0.351       1.0"
      ]
     },
     "execution_count": 4,
     "metadata": {},
     "output_type": "execute_result"
    }
   ],
   "source": [
    "data_ddm.head()"
   ]
  },
  {
   "cell_type": "code",
   "execution_count": 5,
   "id": "verified-daughter",
   "metadata": {},
   "outputs": [
    {
     "name": "stdout",
     "output_type": "stream",
     "text": [
      "Fitting the model using the priors:\n",
      "drift_priors {'mu': 0.5, 'sd': 1}\n",
      "threshold_priors {'mu': 0, 'sd': 0.5}\n",
      "ndt_priors {'mu': 0, 'sd': 0.1}\n"
     ]
    },
    {
     "name": "stderr",
     "output_type": "stream",
     "text": [
      "WARNING:pystan:Maximum (flat) parameter count (1000) exceeded: skipping diagnostic tests for n_eff and Rhat.\n",
      "To run all diagnostics call pystan.check_hmc_diagnostics(fit)\n"
     ]
    },
    {
     "name": "stdout",
     "output_type": "stream",
     "text": [
      "Checks MCMC diagnostics:\n",
      "n_eff / iter looks reasonable for all parameters\n",
      "0.0 of 2000 iterations ended with a divergence (0.0%)\n",
      "0 of 2000 iterations saturated the maximum tree depth of 10 (0.0%)\n",
      "E-BFMI indicated no pathological behavior\n"
     ]
    }
   ],
   "source": [
    "# Run 2 chains, with 2000 samples each, 1000 of which warmup, with custom priors:\n",
    "model_fit_ddm = model_ddm.fit(\n",
    "    data_ddm,\n",
    "    drift_priors={'mu':.5, 'sd':1},\n",
    "    threshold_priors={'mu':0, 'sd':.5},\n",
    "    ndt_priors={'mu':0, 'sd':.1},\n",
    "    chains=2,\n",
    "    iter=2000,\n",
    "    warmup=1000,\n",
    "    thin=1)"
   ]
  },
  {
   "cell_type": "markdown",
   "id": "curious-alloy",
   "metadata": {},
   "source": [
    "## Learning example (hierarchical, real data)"
   ]
  },
  {
   "cell_type": "code",
   "execution_count": 6,
   "id": "comparative-transportation",
   "metadata": {},
   "outputs": [
    {
     "name": "stdout",
     "output_type": "stream",
     "text": [
      "Using cached StanModel\n"
     ]
    }
   ],
   "source": [
    "model_rl = rlssm.RLModel_2A(hierarchical_levels = 2)"
   ]
  },
  {
   "cell_type": "code",
   "execution_count": 7,
   "id": "revised-museum",
   "metadata": {},
   "outputs": [
    {
     "data": {
      "text/html": [
       "<div>\n",
       "<style scoped>\n",
       "    .dataframe tbody tr th:only-of-type {\n",
       "        vertical-align: middle;\n",
       "    }\n",
       "\n",
       "    .dataframe tbody tr th {\n",
       "        vertical-align: top;\n",
       "    }\n",
       "\n",
       "    .dataframe thead th {\n",
       "        text-align: right;\n",
       "    }\n",
       "</style>\n",
       "<table border=\"1\" class=\"dataframe\">\n",
       "  <thead>\n",
       "    <tr style=\"text-align: right;\">\n",
       "      <th></th>\n",
       "      <th>participant</th>\n",
       "      <th>block_label</th>\n",
       "      <th>trial_block</th>\n",
       "      <th>f_cor</th>\n",
       "      <th>f_inc</th>\n",
       "      <th>cor_option</th>\n",
       "      <th>inc_option</th>\n",
       "      <th>times_seen</th>\n",
       "      <th>rt</th>\n",
       "      <th>accuracy</th>\n",
       "    </tr>\n",
       "  </thead>\n",
       "  <tbody>\n",
       "    <tr>\n",
       "      <th>0</th>\n",
       "      <td>1</td>\n",
       "      <td>1</td>\n",
       "      <td>1</td>\n",
       "      <td>43</td>\n",
       "      <td>39</td>\n",
       "      <td>2</td>\n",
       "      <td>1</td>\n",
       "      <td>1</td>\n",
       "      <td>1.244082</td>\n",
       "      <td>0</td>\n",
       "    </tr>\n",
       "    <tr>\n",
       "      <th>1</th>\n",
       "      <td>1</td>\n",
       "      <td>1</td>\n",
       "      <td>2</td>\n",
       "      <td>60</td>\n",
       "      <td>50</td>\n",
       "      <td>4</td>\n",
       "      <td>3</td>\n",
       "      <td>1</td>\n",
       "      <td>1.101821</td>\n",
       "      <td>1</td>\n",
       "    </tr>\n",
       "    <tr>\n",
       "      <th>2</th>\n",
       "      <td>1</td>\n",
       "      <td>1</td>\n",
       "      <td>3</td>\n",
       "      <td>44</td>\n",
       "      <td>36</td>\n",
       "      <td>4</td>\n",
       "      <td>2</td>\n",
       "      <td>2</td>\n",
       "      <td>1.029923</td>\n",
       "      <td>0</td>\n",
       "    </tr>\n",
       "    <tr>\n",
       "      <th>3</th>\n",
       "      <td>1</td>\n",
       "      <td>1</td>\n",
       "      <td>4</td>\n",
       "      <td>55</td>\n",
       "      <td>55</td>\n",
       "      <td>4</td>\n",
       "      <td>3</td>\n",
       "      <td>2</td>\n",
       "      <td>1.368007</td>\n",
       "      <td>0</td>\n",
       "    </tr>\n",
       "    <tr>\n",
       "      <th>4</th>\n",
       "      <td>1</td>\n",
       "      <td>1</td>\n",
       "      <td>5</td>\n",
       "      <td>52</td>\n",
       "      <td>49</td>\n",
       "      <td>4</td>\n",
       "      <td>3</td>\n",
       "      <td>3</td>\n",
       "      <td>1.039329</td>\n",
       "      <td>1</td>\n",
       "    </tr>\n",
       "  </tbody>\n",
       "</table>\n",
       "</div>"
      ],
      "text/plain": [
       "   participant  block_label  trial_block  f_cor  f_inc  cor_option  \\\n",
       "0            1            1            1     43     39           2   \n",
       "1            1            1            2     60     50           4   \n",
       "2            1            1            3     44     36           4   \n",
       "3            1            1            4     55     55           4   \n",
       "4            1            1            5     52     49           4   \n",
       "\n",
       "   inc_option  times_seen        rt  accuracy  \n",
       "0           1           1  1.244082         0  \n",
       "1           3           1  1.101821         1  \n",
       "2           2           2  1.029923         0  \n",
       "3           3           2  1.368007         0  \n",
       "4           3           3  1.039329         1  "
      ]
     },
     "execution_count": 7,
     "metadata": {},
     "output_type": "execute_result"
    }
   ],
   "source": [
    "# import some example data:\n",
    "data_rl = rlssm.load_example_dataset(hierarchical_levels = 2)\n",
    "\n",
    "data_rl.head()"
   ]
  },
  {
   "cell_type": "markdown",
   "id": "respective-finger",
   "metadata": {},
   "source": [
    "Since this learning model is only fit on choices, `rt` are not required.\n",
    "\n",
    "Other columns/indexes that should be included are:\n",
    "\n",
    "- *accuracy*, 0 if the incorrect option was chosen, 1 if the correct option was chosen.\n",
    "\n",
    "- *trial_block*, the number of trial in a learning session. Should be integers starting from 1.\n",
    "\n",
    "- *f_cor*, the output from the correct option in the presented pair (the option with higher outcome on average).\n",
    "\n",
    "- *f_inc*, the output from the incorrect option in the presented pair (the option with lower outcome on average).\n",
    "\n",
    "- *cor_option*, the number identifying the correct option in the presented pair (the option with higher outcome on average).\n",
    "\n",
    "- *inc_option*, the number identifying the incorrect option in the presented pair(the option with lower outcome on average).\n",
    "\n",
    "- *block_label*, the number identifying the learning session. Should be integers starting from 1. Set to 1 in case there is only one learning session.\n",
    "\n",
    "If the model is hierarchical, also include:\n",
    "\n",
    "- *participant*, the participant number. Should be integers starting from 1.\n",
    "\n",
    "If increasing_sensitivity is True, also include:\n",
    "\n",
    "- *times_seen*, average number of times the presented options have been seen in a learning session."
   ]
  },
  {
   "cell_type": "code",
   "execution_count": 8,
   "id": "diagnostic-norfolk",
   "metadata": {},
   "outputs": [
    {
     "data": {
      "text/html": [
       "<div>\n",
       "<style scoped>\n",
       "    .dataframe tbody tr th:only-of-type {\n",
       "        vertical-align: middle;\n",
       "    }\n",
       "\n",
       "    .dataframe tbody tr th {\n",
       "        vertical-align: top;\n",
       "    }\n",
       "\n",
       "    .dataframe thead th {\n",
       "        text-align: right;\n",
       "    }\n",
       "</style>\n",
       "<table border=\"1\" class=\"dataframe\">\n",
       "  <thead>\n",
       "    <tr style=\"text-align: right;\">\n",
       "      <th></th>\n",
       "      <th>participant</th>\n",
       "      <th>block_label</th>\n",
       "      <th>trial_block</th>\n",
       "      <th>f_cor</th>\n",
       "      <th>f_inc</th>\n",
       "      <th>cor_option</th>\n",
       "      <th>inc_option</th>\n",
       "      <th>times_seen</th>\n",
       "      <th>rt</th>\n",
       "      <th>accuracy</th>\n",
       "    </tr>\n",
       "  </thead>\n",
       "  <tbody>\n",
       "    <tr>\n",
       "      <th>0</th>\n",
       "      <td>1</td>\n",
       "      <td>1</td>\n",
       "      <td>1</td>\n",
       "      <td>43</td>\n",
       "      <td>39</td>\n",
       "      <td>2</td>\n",
       "      <td>1</td>\n",
       "      <td>1</td>\n",
       "      <td>1.244082</td>\n",
       "      <td>0</td>\n",
       "    </tr>\n",
       "    <tr>\n",
       "      <th>1</th>\n",
       "      <td>1</td>\n",
       "      <td>1</td>\n",
       "      <td>2</td>\n",
       "      <td>60</td>\n",
       "      <td>50</td>\n",
       "      <td>4</td>\n",
       "      <td>3</td>\n",
       "      <td>1</td>\n",
       "      <td>1.101821</td>\n",
       "      <td>1</td>\n",
       "    </tr>\n",
       "    <tr>\n",
       "      <th>2</th>\n",
       "      <td>1</td>\n",
       "      <td>1</td>\n",
       "      <td>3</td>\n",
       "      <td>44</td>\n",
       "      <td>36</td>\n",
       "      <td>4</td>\n",
       "      <td>2</td>\n",
       "      <td>2</td>\n",
       "      <td>1.029923</td>\n",
       "      <td>0</td>\n",
       "    </tr>\n",
       "    <tr>\n",
       "      <th>3</th>\n",
       "      <td>1</td>\n",
       "      <td>1</td>\n",
       "      <td>4</td>\n",
       "      <td>55</td>\n",
       "      <td>55</td>\n",
       "      <td>4</td>\n",
       "      <td>3</td>\n",
       "      <td>2</td>\n",
       "      <td>1.368007</td>\n",
       "      <td>0</td>\n",
       "    </tr>\n",
       "    <tr>\n",
       "      <th>4</th>\n",
       "      <td>1</td>\n",
       "      <td>1</td>\n",
       "      <td>5</td>\n",
       "      <td>52</td>\n",
       "      <td>49</td>\n",
       "      <td>4</td>\n",
       "      <td>3</td>\n",
       "      <td>3</td>\n",
       "      <td>1.039329</td>\n",
       "      <td>1</td>\n",
       "    </tr>\n",
       "  </tbody>\n",
       "</table>\n",
       "</div>"
      ],
      "text/plain": [
       "   participant  block_label  trial_block  f_cor  f_inc  cor_option  \\\n",
       "0            1            1            1     43     39           2   \n",
       "1            1            1            2     60     50           4   \n",
       "2            1            1            3     44     36           4   \n",
       "3            1            1            4     55     55           4   \n",
       "4            1            1            5     52     49           4   \n",
       "\n",
       "   inc_option  times_seen        rt  accuracy  \n",
       "0           1           1  1.244082         0  \n",
       "1           3           1  1.101821         1  \n",
       "2           2           2  1.029923         0  \n",
       "3           3           2  1.368007         0  \n",
       "4           3           3  1.039329         1  "
      ]
     },
     "execution_count": 8,
     "metadata": {},
     "output_type": "execute_result"
    }
   ],
   "source": [
    "data_rl.head()"
   ]
  },
  {
   "cell_type": "code",
   "execution_count": 9,
   "id": "trained-landscape",
   "metadata": {},
   "outputs": [
    {
     "name": "stdout",
     "output_type": "stream",
     "text": [
      "Fitting the model using the priors:\n",
      "alpha_priors {'mu_mu': -0.3, 'sd_mu': 0.1, 'mu_sd': 0, 'sd_sd': 0.1}\n",
      "sensitivity_priors {'mu_mu': -0.1, 'sd_mu': 0.1, 'mu_sd': 0, 'sd_sd': 0.1}\n"
     ]
    },
    {
     "name": "stderr",
     "output_type": "stream",
     "text": [
      "WARNING:pystan:Maximum (flat) parameter count (1000) exceeded: skipping diagnostic tests for n_eff and Rhat.\n",
      "To run all diagnostics call pystan.check_hmc_diagnostics(fit)\n"
     ]
    }
   ],
   "source": [
    "# Run 2 chains, with 3000 samples each, 1000 of which warmup, with thinning and custom priors:\n",
    "model_fit_rl = model_rl.fit(\n",
    "    data_rl,\n",
    "    K=4,\n",
    "    initial_value_learning=27.5,\n",
    "    alpha_priors={'mu_mu':-.3, 'sd_mu':.1, 'mu_sd':0, 'sd_sd':.1},\n",
    "    sensitivity_priors={'mu_mu':-.1, 'sd_mu':.1, 'mu_sd':0, 'sd_sd':.1},\n",
    "    chains=2,\n",
    "    iter=3000,\n",
    "    warmup=1000,\n",
    "    print_diagnostics=False, # (not suggested, see below)\n",
    "    thin=2)"
   ]
  },
  {
   "cell_type": "markdown",
   "id": "frank-lindsay",
   "metadata": {},
   "source": [
    "## Diagnostics"
   ]
  },
  {
   "cell_type": "markdown",
   "id": "weird-diameter",
   "metadata": {},
   "source": [
    "As you can see, the MCMC diagnostics are already printed by default (if you do not want this, you can set `print_diagnostics` to `False`). I refer to https://mc-stan.org/users/documentation/case-studies/divergences_and_bias.html for an excellent explanation of what these diagnostics actually mean and how to assess them.\n",
    "\n",
    "On top of these, you can also check the convergence of the chains and the WAIC:"
   ]
  },
  {
   "cell_type": "code",
   "execution_count": 10,
   "id": "civic-student",
   "metadata": {},
   "outputs": [
    {
     "data": {
      "text/html": [
       "<div>\n",
       "<style scoped>\n",
       "    .dataframe tbody tr th:only-of-type {\n",
       "        vertical-align: middle;\n",
       "    }\n",
       "\n",
       "    .dataframe tbody tr th {\n",
       "        vertical-align: top;\n",
       "    }\n",
       "\n",
       "    .dataframe thead th {\n",
       "        text-align: right;\n",
       "    }\n",
       "</style>\n",
       "<table border=\"1\" class=\"dataframe\">\n",
       "  <thead>\n",
       "    <tr style=\"text-align: right;\">\n",
       "      <th></th>\n",
       "      <th>rhat</th>\n",
       "      <th>variable</th>\n",
       "    </tr>\n",
       "  </thead>\n",
       "  <tbody>\n",
       "    <tr>\n",
       "      <th>0</th>\n",
       "      <td>1.000630</td>\n",
       "      <td>drift</td>\n",
       "    </tr>\n",
       "    <tr>\n",
       "      <th>1</th>\n",
       "      <td>0.999847</td>\n",
       "      <td>threshold</td>\n",
       "    </tr>\n",
       "    <tr>\n",
       "      <th>2</th>\n",
       "      <td>0.999237</td>\n",
       "      <td>ndt</td>\n",
       "    </tr>\n",
       "  </tbody>\n",
       "</table>\n",
       "</div>"
      ],
      "text/plain": [
       "       rhat   variable\n",
       "0  1.000630      drift\n",
       "1  0.999847  threshold\n",
       "2  0.999237        ndt"
      ]
     },
     "execution_count": 10,
     "metadata": {},
     "output_type": "execute_result"
    }
   ],
   "source": [
    "model_fit_ddm.rhat"
   ]
  },
  {
   "cell_type": "code",
   "execution_count": 11,
   "id": "moral-strap",
   "metadata": {},
   "outputs": [
    {
     "data": {
      "text/html": [
       "<div>\n",
       "<style scoped>\n",
       "    .dataframe tbody tr th:only-of-type {\n",
       "        vertical-align: middle;\n",
       "    }\n",
       "\n",
       "    .dataframe tbody tr th {\n",
       "        vertical-align: top;\n",
       "    }\n",
       "\n",
       "    .dataframe thead th {\n",
       "        text-align: right;\n",
       "    }\n",
       "</style>\n",
       "<table border=\"1\" class=\"dataframe\">\n",
       "  <thead>\n",
       "    <tr style=\"text-align: right;\">\n",
       "      <th></th>\n",
       "      <th>rhat</th>\n",
       "    </tr>\n",
       "  </thead>\n",
       "  <tbody>\n",
       "    <tr>\n",
       "      <th>count</th>\n",
       "      <td>58.000000</td>\n",
       "    </tr>\n",
       "    <tr>\n",
       "      <th>mean</th>\n",
       "      <td>1.000025</td>\n",
       "    </tr>\n",
       "    <tr>\n",
       "      <th>std</th>\n",
       "      <td>0.000724</td>\n",
       "    </tr>\n",
       "    <tr>\n",
       "      <th>min</th>\n",
       "      <td>0.999071</td>\n",
       "    </tr>\n",
       "    <tr>\n",
       "      <th>25%</th>\n",
       "      <td>0.999492</td>\n",
       "    </tr>\n",
       "    <tr>\n",
       "      <th>50%</th>\n",
       "      <td>0.999797</td>\n",
       "    </tr>\n",
       "    <tr>\n",
       "      <th>75%</th>\n",
       "      <td>1.000427</td>\n",
       "    </tr>\n",
       "    <tr>\n",
       "      <th>max</th>\n",
       "      <td>1.001968</td>\n",
       "    </tr>\n",
       "  </tbody>\n",
       "</table>\n",
       "</div>"
      ],
      "text/plain": [
       "            rhat\n",
       "count  58.000000\n",
       "mean    1.000025\n",
       "std     0.000724\n",
       "min     0.999071\n",
       "25%     0.999492\n",
       "50%     0.999797\n",
       "75%     1.000427\n",
       "max     1.001968"
      ]
     },
     "execution_count": 11,
     "metadata": {},
     "output_type": "execute_result"
    }
   ],
   "source": [
    "model_fit_rl.rhat.describe()"
   ]
  },
  {
   "cell_type": "code",
   "execution_count": 12,
   "id": "conceptual-appointment",
   "metadata": {},
   "outputs": [
    {
     "data": {
      "text/plain": [
       "{'lppd': -201.4814621446239,\n",
       " 'p_waic': 3.304311118929816,\n",
       " 'waic': 409.5715465271074,\n",
       " 'waic_se': 45.969396831225254}"
      ]
     },
     "execution_count": 12,
     "metadata": {},
     "output_type": "execute_result"
    }
   ],
   "source": [
    "model_fit_ddm.waic"
   ]
  },
  {
   "cell_type": "code",
   "execution_count": 13,
   "id": "closed-ballot",
   "metadata": {},
   "outputs": [
    {
     "data": {
      "text/plain": [
       "{'lppd': -2632.8620973496854,\n",
       " 'p_waic': 53.04664551553182,\n",
       " 'waic': 5371.817485730435,\n",
       " 'waic_se': 94.06444827215812}"
      ]
     },
     "execution_count": 13,
     "metadata": {},
     "output_type": "execute_result"
    }
   ],
   "source": [
    "model_fit_rl.waic"
   ]
  },
  {
   "cell_type": "markdown",
   "id": "taken-conjunction",
   "metadata": {},
   "source": [
    "If you want to also see the point-wise WAIC, you can set `pointwise_waic` to `True`."
   ]
  },
  {
   "cell_type": "markdown",
   "id": "several-kernel",
   "metadata": {},
   "source": [
    "## Save the results"
   ]
  },
  {
   "cell_type": "markdown",
   "id": "noble-engagement",
   "metadata": {},
   "source": [
    "By default, the model fit results are saved in the same folder, using the `model_label` as filename. you can specify a different location using the `filename` argument."
   ]
  },
  {
   "cell_type": "code",
   "execution_count": 14,
   "id": "weird-brief",
   "metadata": {},
   "outputs": [
    {
     "name": "stdout",
     "output_type": "stream",
     "text": [
      "Saving file as: /Users/laurafontanesi/git/rlssm/docs/notebooks/DDM.pkl\n"
     ]
    }
   ],
   "source": [
    "model_fit_ddm.to_pickle()"
   ]
  },
  {
   "cell_type": "code",
   "execution_count": 15,
   "id": "announced-combination",
   "metadata": {},
   "outputs": [
    {
     "name": "stdout",
     "output_type": "stream",
     "text": [
      "Saving file as: /Users/laurafontanesi/git/rlssm/docs/notebooks/hierRL_2A.pkl\n"
     ]
    }
   ],
   "source": [
    "model_fit_rl.to_pickle()"
   ]
  },
  {
   "cell_type": "markdown",
   "id": "tropical-hamburg",
   "metadata": {},
   "source": [
    "## Re-load previously saved results"
   ]
  },
  {
   "cell_type": "code",
   "execution_count": 16,
   "id": "administrative-overhead",
   "metadata": {},
   "outputs": [],
   "source": [
    "model_fit_ddm = rlssm.load_model_results('/Users/laurafontanesi/git/rlssm/docs/notebooks/DDM.pkl')"
   ]
  },
  {
   "cell_type": "code",
   "execution_count": 17,
   "id": "weighted-significance",
   "metadata": {},
   "outputs": [],
   "source": [
    "model_fit_rl = rlssm.load_model_results('/Users/laurafontanesi/git/rlssm/docs/notebooks/hierRL_2A.pkl')"
   ]
  },
  {
   "cell_type": "markdown",
   "id": "colonial-cloud",
   "metadata": {},
   "source": [
    "The data the model was fit on are stored in `data_info`:"
   ]
  },
  {
   "cell_type": "code",
   "execution_count": 18,
   "id": "mighty-school",
   "metadata": {},
   "outputs": [
    {
     "data": {
      "text/html": [
       "<div>\n",
       "<style scoped>\n",
       "    .dataframe tbody tr th:only-of-type {\n",
       "        vertical-align: middle;\n",
       "    }\n",
       "\n",
       "    .dataframe tbody tr th {\n",
       "        vertical-align: top;\n",
       "    }\n",
       "\n",
       "    .dataframe thead th {\n",
       "        text-align: right;\n",
       "    }\n",
       "</style>\n",
       "<table border=\"1\" class=\"dataframe\">\n",
       "  <thead>\n",
       "    <tr style=\"text-align: right;\">\n",
       "      <th></th>\n",
       "      <th>index</th>\n",
       "      <th>participant</th>\n",
       "      <th>block_label</th>\n",
       "      <th>trial_block</th>\n",
       "      <th>f_cor</th>\n",
       "      <th>f_inc</th>\n",
       "      <th>cor_option</th>\n",
       "      <th>inc_option</th>\n",
       "      <th>times_seen</th>\n",
       "      <th>rt</th>\n",
       "      <th>accuracy</th>\n",
       "    </tr>\n",
       "  </thead>\n",
       "  <tbody>\n",
       "    <tr>\n",
       "      <th>0</th>\n",
       "      <td>0</td>\n",
       "      <td>1</td>\n",
       "      <td>1</td>\n",
       "      <td>1</td>\n",
       "      <td>43</td>\n",
       "      <td>39</td>\n",
       "      <td>2</td>\n",
       "      <td>1</td>\n",
       "      <td>1</td>\n",
       "      <td>1.244082</td>\n",
       "      <td>0</td>\n",
       "    </tr>\n",
       "    <tr>\n",
       "      <th>1</th>\n",
       "      <td>1</td>\n",
       "      <td>1</td>\n",
       "      <td>1</td>\n",
       "      <td>2</td>\n",
       "      <td>60</td>\n",
       "      <td>50</td>\n",
       "      <td>4</td>\n",
       "      <td>3</td>\n",
       "      <td>1</td>\n",
       "      <td>1.101821</td>\n",
       "      <td>1</td>\n",
       "    </tr>\n",
       "    <tr>\n",
       "      <th>2</th>\n",
       "      <td>2</td>\n",
       "      <td>1</td>\n",
       "      <td>1</td>\n",
       "      <td>3</td>\n",
       "      <td>44</td>\n",
       "      <td>36</td>\n",
       "      <td>4</td>\n",
       "      <td>2</td>\n",
       "      <td>2</td>\n",
       "      <td>1.029923</td>\n",
       "      <td>0</td>\n",
       "    </tr>\n",
       "    <tr>\n",
       "      <th>3</th>\n",
       "      <td>3</td>\n",
       "      <td>1</td>\n",
       "      <td>1</td>\n",
       "      <td>4</td>\n",
       "      <td>55</td>\n",
       "      <td>55</td>\n",
       "      <td>4</td>\n",
       "      <td>3</td>\n",
       "      <td>2</td>\n",
       "      <td>1.368007</td>\n",
       "      <td>0</td>\n",
       "    </tr>\n",
       "    <tr>\n",
       "      <th>4</th>\n",
       "      <td>4</td>\n",
       "      <td>1</td>\n",
       "      <td>1</td>\n",
       "      <td>5</td>\n",
       "      <td>52</td>\n",
       "      <td>49</td>\n",
       "      <td>4</td>\n",
       "      <td>3</td>\n",
       "      <td>3</td>\n",
       "      <td>1.039329</td>\n",
       "      <td>1</td>\n",
       "    </tr>\n",
       "    <tr>\n",
       "      <th>...</th>\n",
       "      <td>...</td>\n",
       "      <td>...</td>\n",
       "      <td>...</td>\n",
       "      <td>...</td>\n",
       "      <td>...</td>\n",
       "      <td>...</td>\n",
       "      <td>...</td>\n",
       "      <td>...</td>\n",
       "      <td>...</td>\n",
       "      <td>...</td>\n",
       "      <td>...</td>\n",
       "    </tr>\n",
       "    <tr>\n",
       "      <th>6459</th>\n",
       "      <td>6459</td>\n",
       "      <td>27</td>\n",
       "      <td>3</td>\n",
       "      <td>76</td>\n",
       "      <td>37</td>\n",
       "      <td>36</td>\n",
       "      <td>2</td>\n",
       "      <td>1</td>\n",
       "      <td>39</td>\n",
       "      <td>1.875327</td>\n",
       "      <td>1</td>\n",
       "    </tr>\n",
       "    <tr>\n",
       "      <th>6460</th>\n",
       "      <td>6460</td>\n",
       "      <td>27</td>\n",
       "      <td>3</td>\n",
       "      <td>77</td>\n",
       "      <td>58</td>\n",
       "      <td>41</td>\n",
       "      <td>4</td>\n",
       "      <td>2</td>\n",
       "      <td>39</td>\n",
       "      <td>1.696957</td>\n",
       "      <td>1</td>\n",
       "    </tr>\n",
       "    <tr>\n",
       "      <th>6461</th>\n",
       "      <td>6461</td>\n",
       "      <td>27</td>\n",
       "      <td>3</td>\n",
       "      <td>78</td>\n",
       "      <td>64</td>\n",
       "      <td>49</td>\n",
       "      <td>4</td>\n",
       "      <td>3</td>\n",
       "      <td>38</td>\n",
       "      <td>2.059956</td>\n",
       "      <td>1</td>\n",
       "    </tr>\n",
       "    <tr>\n",
       "      <th>6462</th>\n",
       "      <td>6462</td>\n",
       "      <td>27</td>\n",
       "      <td>3</td>\n",
       "      <td>79</td>\n",
       "      <td>44</td>\n",
       "      <td>37</td>\n",
       "      <td>3</td>\n",
       "      <td>1</td>\n",
       "      <td>39</td>\n",
       "      <td>1.623731</td>\n",
       "      <td>1</td>\n",
       "    </tr>\n",
       "    <tr>\n",
       "      <th>6463</th>\n",
       "      <td>6463</td>\n",
       "      <td>27</td>\n",
       "      <td>3</td>\n",
       "      <td>80</td>\n",
       "      <td>51</td>\n",
       "      <td>51</td>\n",
       "      <td>4</td>\n",
       "      <td>3</td>\n",
       "      <td>40</td>\n",
       "      <td>1.115363</td>\n",
       "      <td>1</td>\n",
       "    </tr>\n",
       "  </tbody>\n",
       "</table>\n",
       "<p>6464 rows × 11 columns</p>\n",
       "</div>"
      ],
      "text/plain": [
       "      index  participant  block_label  trial_block  f_cor  f_inc  cor_option  \\\n",
       "0         0            1            1            1     43     39           2   \n",
       "1         1            1            1            2     60     50           4   \n",
       "2         2            1            1            3     44     36           4   \n",
       "3         3            1            1            4     55     55           4   \n",
       "4         4            1            1            5     52     49           4   \n",
       "...     ...          ...          ...          ...    ...    ...         ...   \n",
       "6459   6459           27            3           76     37     36           2   \n",
       "6460   6460           27            3           77     58     41           4   \n",
       "6461   6461           27            3           78     64     49           4   \n",
       "6462   6462           27            3           79     44     37           3   \n",
       "6463   6463           27            3           80     51     51           4   \n",
       "\n",
       "      inc_option  times_seen        rt  accuracy  \n",
       "0              1           1  1.244082         0  \n",
       "1              3           1  1.101821         1  \n",
       "2              2           2  1.029923         0  \n",
       "3              3           2  1.368007         0  \n",
       "4              3           3  1.039329         1  \n",
       "...          ...         ...       ...       ...  \n",
       "6459           1          39  1.875327         1  \n",
       "6460           2          39  1.696957         1  \n",
       "6461           3          38  2.059956         1  \n",
       "6462           1          39  1.623731         1  \n",
       "6463           3          40  1.115363         1  \n",
       "\n",
       "[6464 rows x 11 columns]"
      ]
     },
     "execution_count": 18,
     "metadata": {},
     "output_type": "execute_result"
    }
   ],
   "source": [
    "model_fit_rl.data_info['data']"
   ]
  },
  {
   "cell_type": "markdown",
   "id": "impressive-bulgarian",
   "metadata": {},
   "source": [
    "The priors are stored in `priors`:"
   ]
  },
  {
   "cell_type": "code",
   "execution_count": 19,
   "id": "excited-victory",
   "metadata": {},
   "outputs": [
    {
     "data": {
      "text/plain": [
       "{'drift_priors': {'mu': 0.5, 'sd': 1},\n",
       " 'threshold_priors': {'mu': 0, 'sd': 0.5},\n",
       " 'ndt_priors': {'mu': 0, 'sd': 0.1}}"
      ]
     },
     "execution_count": 19,
     "metadata": {},
     "output_type": "execute_result"
    }
   ],
   "source": [
    "model_fit_ddm.priors"
   ]
  },
  {
   "cell_type": "code",
   "execution_count": 20,
   "id": "representative-express",
   "metadata": {},
   "outputs": [
    {
     "data": {
      "text/plain": [
       "{'alpha_priors': {'mu_mu': -0.3, 'sd_mu': 0.1, 'mu_sd': 0, 'sd_sd': 0.1},\n",
       " 'sensitivity_priors': {'mu_mu': -0.1, 'sd_mu': 0.1, 'mu_sd': 0, 'sd_sd': 0.1}}"
      ]
     },
     "execution_count": 20,
     "metadata": {},
     "output_type": "execute_result"
    }
   ],
   "source": [
    "model_fit_rl.priors"
   ]
  },
  {
   "cell_type": "markdown",
   "id": "settled-genetics",
   "metadata": {},
   "source": [
    "And different parameter information are stored in `parameter_info`:"
   ]
  },
  {
   "cell_type": "code",
   "execution_count": 21,
   "id": "extensive-evolution",
   "metadata": {},
   "outputs": [
    {
     "data": {
      "text/plain": [
       "{'hierarchical_levels': 1,\n",
       " 'n_parameters_individual': 3,\n",
       " 'n_parameters_trial': 0,\n",
       " 'n_posterior_samples': 2000,\n",
       " 'parameters_names': ['drift', 'threshold', 'ndt'],\n",
       " 'parameters_names_transf': ['transf_drift', 'transf_threshold', 'transf_ndt'],\n",
       " 'parameters_names_all': ['drift', 'threshold', 'ndt']}"
      ]
     },
     "execution_count": 21,
     "metadata": {},
     "output_type": "execute_result"
    }
   ],
   "source": [
    "model_fit_ddm.parameters_info"
   ]
  },
  {
   "cell_type": "code",
   "execution_count": 22,
   "id": "digital-arthur",
   "metadata": {},
   "outputs": [
    {
     "data": {
      "text/plain": [
       "{'lppd': -2632.8620973496854,\n",
       " 'p_waic': 53.04664551553182,\n",
       " 'waic': 5371.817485730435,\n",
       " 'waic_se': 94.06444827215812}"
      ]
     },
     "execution_count": 22,
     "metadata": {},
     "output_type": "execute_result"
    }
   ],
   "source": [
    "model_fit_rl.waic"
   ]
  },
  {
   "cell_type": "markdown",
   "id": "foreign-staff",
   "metadata": {},
   "source": [
    "And, of course, you can inspect the model's posteriors, see [How to inspect a model](https://rlssm.readthedocs.io/en/latest/notebooks/inspect_model.html) for more details on this."
   ]
  }
 ],
 "metadata": {
  "kernelspec": {
   "display_name": "Python 3",
   "language": "python",
   "name": "python3"
  },
  "language_info": {
   "codemirror_mode": {
    "name": "ipython",
    "version": 3
   },
   "file_extension": ".py",
   "mimetype": "text/x-python",
   "name": "python",
   "nbconvert_exporter": "python",
   "pygments_lexer": "ipython3",
   "version": "3.7.9"
  }
 },
 "nbformat": 4,
 "nbformat_minor": 5
}
