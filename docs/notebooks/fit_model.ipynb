{
 "cells": [
  {
   "cell_type": "markdown",
   "id": "introductory-nashville",
   "metadata": {
    "pycharm": {
     "name": "#%% md\n"
    }
   },
   "source": [
    "# How to fit a model"
   ]
  },
  {
   "cell_type": "markdown",
   "id": "descending-plate",
   "metadata": {
    "pycharm": {
     "name": "#%% md\n"
    }
   },
   "source": [
    "To fit a model, there are 3 main things to specify:\n",
    "\n",
    "**1. Data:**\n",
    "The `data`, which should be in the form of a pandas DataFrame.\n",
    "\n",
    "Different model classes might require different columns in the data. You should check in the [API Reference](https://rlssm.readthedocs.io/en/latest/models/model_classes.html) of each model class (or using `model.fit?`) what the required data columns are.\n",
    "\n",
    "**2. The priors (optional):**\n",
    "You can decide whether to use the default priors (which you can see after initializing the model) or whether you want to change the mean or SD of the prior or hyper-prior distributions. Whether you changed the priors or not, they are always printed out when the model starts fitting.\n",
    "\n",
    "**3. Sampling parameters:**\n",
    "The sampling parameters **(number of chains, iterations, warmups, thinning, etc.)** are the arguments to the `pystan.StanModel.sampling()` function, and we simply refer to the [pystan documentation](https://pystan.readthedocs.io/) for a better overview.\n",
    "\n",
    "**Additional learning parameters:**\n",
    "While all sequential sampling models (DDM and race models) **without a learning component** only require a `data` argument, all models with a learning components (RL models, RLDDMs, and RL+race models) also require a `K` argument, which is the total number of different options in a learning block (note that this can be different from the number of options presented in each trial), and `initial_value_learning`, which is the initial Q value (before learning)."
   ]
  },
  {
   "cell_type": "code",
   "execution_count": 10,
   "id": "associate-police",
   "metadata": {
    "pycharm": {
     "name": "#%%\n"
    }
   },
   "outputs": [],
   "source": [
    "from rlssm.model.models_DDM import DDModel\n",
    "from rlssm.model.models_RL import RLModel_2A\n",
    "from rlssm.utility.load_data import load_example_dataset\n",
    "from rlssm.utility.utils import load_model_results"
   ]
  },
  {
   "cell_type": "markdown",
   "id": "electrical-factor",
   "metadata": {
    "pycharm": {
     "name": "#%% md\n"
    }
   },
   "source": [
    "## Non-learning example (non-hierarchical, simulated data)"
   ]
  },
  {
   "cell_type": "code",
   "execution_count": 11,
   "id": "flying-stomach",
   "metadata": {
    "pycharm": {
     "name": "#%%\n"
    }
   },
   "outputs": [
    {
     "name": "stdout",
     "output_type": "stream",
     "text": [
      "Using cached StanModel\n"
     ]
    }
   ],
   "source": [
    "model_ddm = DDModel(hierarchical_levels=1)"
   ]
  },
  {
   "cell_type": "code",
   "execution_count": 12,
   "id": "aggregate-northern",
   "metadata": {
    "pycharm": {
     "name": "#%%\n"
    }
   },
   "outputs": [],
   "source": [
    "# simulate some DDM data:\n",
    "from rlssm.random.random_DDM import simulate_ddm\n",
    "data_ddm = simulate_ddm(\n",
    "    n_trials=400, \n",
    "    gen_drift=.8, \n",
    "    gen_threshold=1.3, \n",
    "    gen_ndt=.23)"
   ]
  },
  {
   "cell_type": "markdown",
   "id": "direct-anaheim",
   "metadata": {
    "pycharm": {
     "name": "#%% md\n"
    }
   },
   "source": [
    "For the simple, non-hierarchical DDM, it is only necessary to have `rt` and `accuracy` columns:\n",
    "\n",
    "- *rt*, response times in seconds.\n",
    "\n",
    "- *accuracy*, 0 if the incorrect option was chosen, 1 if the correct option was chosen."
   ]
  },
  {
   "cell_type": "code",
   "execution_count": 13,
   "id": "expired-kruger",
   "metadata": {
    "pycharm": {
     "name": "#%%\n"
    }
   },
   "outputs": [
    {
     "data": {
      "text/plain": "                   drift  rel_sp  threshold   ndt     rt  accuracy\nparticipant trial                                                 \n1           1        0.8     0.5        1.3  0.23  1.176       1.0\n            2        0.8     0.5        1.3  0.23  0.842       1.0\n            3        0.8     0.5        1.3  0.23  0.946       0.0\n            4        0.8     0.5        1.3  0.23  0.528       0.0\n            5        0.8     0.5        1.3  0.23  0.730       1.0",
      "text/html": "<div>\n<style scoped>\n    .dataframe tbody tr th:only-of-type {\n        vertical-align: middle;\n    }\n\n    .dataframe tbody tr th {\n        vertical-align: top;\n    }\n\n    .dataframe thead th {\n        text-align: right;\n    }\n</style>\n<table border=\"1\" class=\"dataframe\">\n  <thead>\n    <tr style=\"text-align: right;\">\n      <th></th>\n      <th></th>\n      <th>drift</th>\n      <th>rel_sp</th>\n      <th>threshold</th>\n      <th>ndt</th>\n      <th>rt</th>\n      <th>accuracy</th>\n    </tr>\n    <tr>\n      <th>participant</th>\n      <th>trial</th>\n      <th></th>\n      <th></th>\n      <th></th>\n      <th></th>\n      <th></th>\n      <th></th>\n    </tr>\n  </thead>\n  <tbody>\n    <tr>\n      <th rowspan=\"5\" valign=\"top\">1</th>\n      <th>1</th>\n      <td>0.8</td>\n      <td>0.5</td>\n      <td>1.3</td>\n      <td>0.23</td>\n      <td>1.176</td>\n      <td>1.0</td>\n    </tr>\n    <tr>\n      <th>2</th>\n      <td>0.8</td>\n      <td>0.5</td>\n      <td>1.3</td>\n      <td>0.23</td>\n      <td>0.842</td>\n      <td>1.0</td>\n    </tr>\n    <tr>\n      <th>3</th>\n      <td>0.8</td>\n      <td>0.5</td>\n      <td>1.3</td>\n      <td>0.23</td>\n      <td>0.946</td>\n      <td>0.0</td>\n    </tr>\n    <tr>\n      <th>4</th>\n      <td>0.8</td>\n      <td>0.5</td>\n      <td>1.3</td>\n      <td>0.23</td>\n      <td>0.528</td>\n      <td>0.0</td>\n    </tr>\n    <tr>\n      <th>5</th>\n      <td>0.8</td>\n      <td>0.5</td>\n      <td>1.3</td>\n      <td>0.23</td>\n      <td>0.730</td>\n      <td>1.0</td>\n    </tr>\n  </tbody>\n</table>\n</div>"
     },
     "execution_count": 13,
     "metadata": {},
     "output_type": "execute_result"
    }
   ],
   "source": [
    "data_ddm.head()"
   ]
  },
  {
   "cell_type": "code",
   "execution_count": 14,
   "id": "verified-daughter",
   "metadata": {
    "pycharm": {
     "name": "#%%\n"
    }
   },
   "outputs": [
    {
     "name": "stderr",
     "output_type": "stream",
     "text": [
      "14:12:07 - cmdstanpy - INFO - CmdStan start processing\n"
     ]
    },
    {
     "name": "stdout",
     "output_type": "stream",
     "text": [
      "Fitting the model using the priors:\n",
      "drift_priors {'mu': 0.5, 'sd': 1}\n",
      "threshold_priors {'mu': 0, 'sd': 0.5}\n",
      "ndt_priors {'mu': 0, 'sd': 0.1}\n"
     ]
    },
    {
     "data": {
      "text/plain": "chain 1 |          | 00:00 Status",
      "application/vnd.jupyter.widget-view+json": {
       "version_major": 2,
       "version_minor": 0,
       "model_id": "0aa99554a35c4feeae7f9ed5ac2a371a"
      }
     },
     "metadata": {},
     "output_type": "display_data"
    },
    {
     "data": {
      "text/plain": "chain 2 |          | 00:00 Status",
      "application/vnd.jupyter.widget-view+json": {
       "version_major": 2,
       "version_minor": 0,
       "model_id": "12a4265f5550455388a22d42187705e9"
      }
     },
     "metadata": {},
     "output_type": "display_data"
    },
    {
     "name": "stdout",
     "output_type": "stream",
     "text": [
      "                                                                                                                                                                "
     ]
    },
    {
     "name": "stderr",
     "output_type": "stream",
     "text": [
      "14:12:24 - cmdstanpy - INFO - CmdStan done processing.\n",
      "14:12:24 - cmdstanpy - WARNING - Non-fatal error during sampling:\n",
      "Exception: wiener_lpdf: Random variable  = 1.176, but must be greater than nondecision time = 1.32152 (in '/home/andrei/PycharmProjects/rlssm/rlssm/stan_models/DDM/DDM.stan', line 43, column 1 to column 59)\n",
      "\tException: wiener_lpdf: Random variable  = 1.176, but must be greater than nondecision time = 1.85439 (in '/home/andrei/PycharmProjects/rlssm/rlssm/stan_models/DDM/DDM.stan', line 43, column 1 to column 59)\n",
      "\tException: wiener_lpdf: Random variable  = 1.176, but must be greater than nondecision time = 1.79002 (in '/home/andrei/PycharmProjects/rlssm/rlssm/stan_models/DDM/DDM.stan', line 43, column 1 to column 59)\n",
      "\tException: wiener_lpdf: Random variable  = 0.842, but must be greater than nondecision time = 0.962284 (in '/home/andrei/PycharmProjects/rlssm/rlssm/stan_models/DDM/DDM.stan', line 43, column 1 to column 59)\n",
      "\tException: wiener_lpdf: Random variable  = 1.176, but must be greater than nondecision time = 1.58376 (in '/home/andrei/PycharmProjects/rlssm/rlssm/stan_models/DDM/DDM.stan', line 43, column 1 to column 59)\n",
      "\tException: wiener_lpdf: Boundary separation[1] is 0, but must be positive finite! (in '/home/andrei/PycharmProjects/rlssm/rlssm/stan_models/DDM/DDM.stan', line 43, column 1 to column 59)\n",
      "\tException: wiener_lpdf: Boundary separation[1] is 0, but must be positive finite! (in '/home/andrei/PycharmProjects/rlssm/rlssm/stan_models/DDM/DDM.stan', line 43, column 1 to column 59)\n",
      "\tException: wiener_lpdf: Boundary separation[1] is 0, but must be positive finite! (in '/home/andrei/PycharmProjects/rlssm/rlssm/stan_models/DDM/DDM.stan', line 43, column 1 to column 59)\n",
      "\tException: wiener_lpdf: Boundary separation[1] is inf, but must be positive finite! (in '/home/andrei/PycharmProjects/rlssm/rlssm/stan_models/DDM/DDM.stan', line 43, column 1 to column 59)\n",
      "\tException: wiener_lpdf: Boundary separation[1] is inf, but must be positive finite! (in '/home/andrei/PycharmProjects/rlssm/rlssm/stan_models/DDM/DDM.stan', line 43, column 1 to column 59)\n",
      "\tException: wiener_lpdf: Random variable  = 1.176, but must be greater than nondecision time = 8.89031 (in '/home/andrei/PycharmProjects/rlssm/rlssm/stan_models/DDM/DDM.stan', line 43, column 1 to column 59)\n",
      "\tException: wiener_lpdf: Random variable  = 0.272, but must be greater than nondecision time = 0.278139 (in '/home/andrei/PycharmProjects/rlssm/rlssm/stan_models/DDM/DDM.stan', line 43, column 1 to column 59)\n",
      "\tException: wiener_lpdf: Random variable  = 0.272, but must be greater than nondecision time = 0.274643 (in '/home/andrei/PycharmProjects/rlssm/rlssm/stan_models/DDM/DDM.stan', line 43, column 1 to column 59)\n",
      "\tException: wiener_lpdf: Random variable  = 0.293, but must be greater than nondecision time = 0.297394 (in '/home/andrei/PycharmProjects/rlssm/rlssm/stan_models/DDM/DDM.stan', line 43, column 1 to column 59)\n",
      "\tException: wiener_lpdf: Random variable  = 0.272, but must be greater than nondecision time = 0.279311 (in '/home/andrei/PycharmProjects/rlssm/rlssm/stan_models/DDM/DDM.stan', line 43, column 1 to column 59)\n",
      "\tException: wiener_lpdf: Random variable  = 0.293, but must be greater than nondecision time = 0.366026 (in '/home/andrei/PycharmProjects/rlssm/rlssm/stan_models/DDM/DDM.stan', line 43, column 1 to column 59)\n",
      "\tException: wiener_lpdf: Random variable  = 0.293, but must be greater than nondecision time = 0.322585 (in '/home/andrei/PycharmProjects/rlssm/rlssm/stan_models/DDM/DDM.stan', line 43, column 1 to column 59)\n",
      "\tException: wiener_lpdf: Random variable  = 0.293, but must be greater than nondecision time = 0.297925 (in '/home/andrei/PycharmProjects/rlssm/rlssm/stan_models/DDM/DDM.stan', line 43, column 1 to column 59)\n",
      "\tException: wiener_lpdf: Random variable  = 0.293, but must be greater than nondecision time = 0.389575 (in '/home/andrei/PycharmProjects/rlssm/rlssm/stan_models/DDM/DDM.stan', line 43, column 1 to column 59)\n",
      "\tException: wiener_lpdf: Random variable  = 0.272, but must be greater than nondecision time = 0.277614 (in '/home/andrei/PycharmProjects/rlssm/rlssm/stan_models/DDM/DDM.stan', line 43, column 1 to column 59)\n",
      "Exception: wiener_lpdf: Random variable  = 0.842, but must be greater than nondecision time = 1.04373 (in '/home/andrei/PycharmProjects/rlssm/rlssm/stan_models/DDM/DDM.stan', line 43, column 1 to column 59)\n",
      "\tException: wiener_lpdf: Random variable  = 0.528, but must be greater than nondecision time = 0.740449 (in '/home/andrei/PycharmProjects/rlssm/rlssm/stan_models/DDM/DDM.stan', line 43, column 1 to column 59)\n",
      "\tException: wiener_lpdf: Random variable  = 1.176, but must be greater than nondecision time = 2.01369 (in '/home/andrei/PycharmProjects/rlssm/rlssm/stan_models/DDM/DDM.stan', line 43, column 1 to column 59)\n",
      "\tException: wiener_lpdf: Boundary separation[1] is inf, but must be positive finite! (in '/home/andrei/PycharmProjects/rlssm/rlssm/stan_models/DDM/DDM.stan', line 43, column 1 to column 59)\n",
      "\tException: wiener_lpdf: Boundary separation[1] is inf, but must be positive finite! (in '/home/andrei/PycharmProjects/rlssm/rlssm/stan_models/DDM/DDM.stan', line 43, column 1 to column 59)\n",
      "\tException: wiener_lpdf: Boundary separation[1] is inf, but must be positive finite! (in '/home/andrei/PycharmProjects/rlssm/rlssm/stan_models/DDM/DDM.stan', line 43, column 1 to column 59)\n",
      "\tException: wiener_lpdf: Random variable  = 1.176, but must be greater than nondecision time = 43.1474 (in '/home/andrei/PycharmProjects/rlssm/rlssm/stan_models/DDM/DDM.stan', line 43, column 1 to column 59)\n",
      "\tException: wiener_lpdf: Random variable  = 1.176, but must be greater than nondecision time = 9.522 (in '/home/andrei/PycharmProjects/rlssm/rlssm/stan_models/DDM/DDM.stan', line 43, column 1 to column 59)\n",
      "\tException: wiener_lpdf: Random variable  = 1.176, but must be greater than nondecision time = 1.33019 (in '/home/andrei/PycharmProjects/rlssm/rlssm/stan_models/DDM/DDM.stan', line 43, column 1 to column 59)\n",
      "\tException: wiener_lpdf: Random variable  = 0.272, but must be greater than nondecision time = 0.282522 (in '/home/andrei/PycharmProjects/rlssm/rlssm/stan_models/DDM/DDM.stan', line 43, column 1 to column 59)\n",
      "\tException: wiener_lpdf: Boundary separation[1] is inf, but must be positive finite! (in '/home/andrei/PycharmProjects/rlssm/rlssm/stan_models/DDM/DDM.stan', line 43, column 1 to column 59)\n",
      "\tException: wiener_lpdf: Boundary separation[1] is inf, but must be positive finite! (in '/home/andrei/PycharmProjects/rlssm/rlssm/stan_models/DDM/DDM.stan', line 43, column 1 to column 59)\n",
      "\tException: wiener_lpdf: Random variable  = 1.176, but must be greater than nondecision time = 17.2994 (in '/home/andrei/PycharmProjects/rlssm/rlssm/stan_models/DDM/DDM.stan', line 43, column 1 to column 59)\n",
      "\tException: wiener_lpdf: Random variable  = 0.293, but must be greater than nondecision time = 0.295028 (in '/home/andrei/PycharmProjects/rlssm/rlssm/stan_models/DDM/DDM.stan', line 43, column 1 to column 59)\n",
      "\tException: wiener_lpdf: Random variable  = 0.293, but must be greater than nondecision time = 0.293362 (in '/home/andrei/PycharmProjects/rlssm/rlssm/stan_models/DDM/DDM.stan', line 43, column 1 to column 59)\n",
      "\tException: wiener_lpdf: Random variable  = 0.272, but must be greater than nondecision time = 0.282618 (in '/home/andrei/PycharmProjects/rlssm/rlssm/stan_models/DDM/DDM.stan', line 43, column 1 to column 59)\n",
      "\tException: wiener_lpdf: Random variable  = 0.272, but must be greater than nondecision time = 0.28131 (in '/home/andrei/PycharmProjects/rlssm/rlssm/stan_models/DDM/DDM.stan', line 43, column 1 to column 59)\n",
      "\tException: wiener_lpdf: Random variable  = 0.39, but must be greater than nondecision time = 0.433737 (in '/home/andrei/PycharmProjects/rlssm/rlssm/stan_models/DDM/DDM.stan', line 43, column 1 to column 59)\n",
      "Consider re-running with show_console=True if the above output is unclear!\n"
     ]
    },
    {
     "name": "stdout",
     "output_type": "stream",
     "text": [
      "\n",
      "Checks MCMC diagnostics:\n",
      "n_eff / iter looks reasonable for all parameters\n",
      "0 of 4000 iterations saturated the maximum tree depth of 10 (0.0%)\n",
      "E-BFMI indicated no pathological behavior\n",
      "0.0 of 4000 iterations ended with a divergence (0.0%)\n"
     ]
    }
   ],
   "source": [
    "# Run 2 chains, with 2000 samples each, 1000 of which warmup, with custom priors:\n",
    "model_fit_ddm = model_ddm.fit(\n",
    "    data_ddm,\n",
    "    drift_priors={'mu':.5, 'sd':1},\n",
    "    threshold_priors={'mu':0, 'sd':.5},\n",
    "    ndt_priors={'mu':0, 'sd':.1},\n",
    "    chains=2,\n",
    "    iter_warmup=1000,\n",
    "    iter_sampling=2000,\n",
    "    thin=1)"
   ]
  },
  {
   "cell_type": "markdown",
   "id": "curious-alloy",
   "metadata": {
    "pycharm": {
     "name": "#%% md\n"
    }
   },
   "source": [
    "## Learning example (hierarchical, real data)"
   ]
  },
  {
   "cell_type": "code",
   "execution_count": 15,
   "id": "comparative-transportation",
   "metadata": {
    "pycharm": {
     "name": "#%%\n"
    }
   },
   "outputs": [
    {
     "name": "stdout",
     "output_type": "stream",
     "text": [
      "Using cached StanModel\n"
     ]
    }
   ],
   "source": [
    "model_rl = RLModel_2A(hierarchical_levels = 2)"
   ]
  },
  {
   "cell_type": "code",
   "execution_count": 16,
   "id": "revised-museum",
   "metadata": {
    "pycharm": {
     "name": "#%%\n"
    }
   },
   "outputs": [
    {
     "data": {
      "text/plain": "   participant  block_label  trial_block  f_cor  f_inc  cor_option  \\\n0            1            1            1     43     39           2   \n1            1            1            2     60     50           4   \n2            1            1            3     44     36           4   \n3            1            1            4     55     55           4   \n4            1            1            5     52     49           4   \n\n   inc_option  times_seen        rt  accuracy  \n0           1           1  1.244082         0  \n1           3           1  1.101821         1  \n2           2           2  1.029923         0  \n3           3           2  1.368007         0  \n4           3           3  1.039329         1  ",
      "text/html": "<div>\n<style scoped>\n    .dataframe tbody tr th:only-of-type {\n        vertical-align: middle;\n    }\n\n    .dataframe tbody tr th {\n        vertical-align: top;\n    }\n\n    .dataframe thead th {\n        text-align: right;\n    }\n</style>\n<table border=\"1\" class=\"dataframe\">\n  <thead>\n    <tr style=\"text-align: right;\">\n      <th></th>\n      <th>participant</th>\n      <th>block_label</th>\n      <th>trial_block</th>\n      <th>f_cor</th>\n      <th>f_inc</th>\n      <th>cor_option</th>\n      <th>inc_option</th>\n      <th>times_seen</th>\n      <th>rt</th>\n      <th>accuracy</th>\n    </tr>\n  </thead>\n  <tbody>\n    <tr>\n      <th>0</th>\n      <td>1</td>\n      <td>1</td>\n      <td>1</td>\n      <td>43</td>\n      <td>39</td>\n      <td>2</td>\n      <td>1</td>\n      <td>1</td>\n      <td>1.244082</td>\n      <td>0</td>\n    </tr>\n    <tr>\n      <th>1</th>\n      <td>1</td>\n      <td>1</td>\n      <td>2</td>\n      <td>60</td>\n      <td>50</td>\n      <td>4</td>\n      <td>3</td>\n      <td>1</td>\n      <td>1.101821</td>\n      <td>1</td>\n    </tr>\n    <tr>\n      <th>2</th>\n      <td>1</td>\n      <td>1</td>\n      <td>3</td>\n      <td>44</td>\n      <td>36</td>\n      <td>4</td>\n      <td>2</td>\n      <td>2</td>\n      <td>1.029923</td>\n      <td>0</td>\n    </tr>\n    <tr>\n      <th>3</th>\n      <td>1</td>\n      <td>1</td>\n      <td>4</td>\n      <td>55</td>\n      <td>55</td>\n      <td>4</td>\n      <td>3</td>\n      <td>2</td>\n      <td>1.368007</td>\n      <td>0</td>\n    </tr>\n    <tr>\n      <th>4</th>\n      <td>1</td>\n      <td>1</td>\n      <td>5</td>\n      <td>52</td>\n      <td>49</td>\n      <td>4</td>\n      <td>3</td>\n      <td>3</td>\n      <td>1.039329</td>\n      <td>1</td>\n    </tr>\n  </tbody>\n</table>\n</div>"
     },
     "execution_count": 16,
     "metadata": {},
     "output_type": "execute_result"
    }
   ],
   "source": [
    "# import some example data:\n",
    "data_rl = load_example_dataset(hierarchical_levels = 2)\n",
    "\n",
    "data_rl.head()"
   ]
  },
  {
   "cell_type": "markdown",
   "id": "respective-finger",
   "metadata": {
    "pycharm": {
     "name": "#%% md\n"
    }
   },
   "source": [
    "Since this learning model is only fit on choices, `rt` are not required.\n",
    "\n",
    "Other columns/indexes that should be included are:\n",
    "\n",
    "- *accuracy*, 0 if the incorrect option was chosen, 1 if the correct option was chosen.\n",
    "\n",
    "- *trial_block*, the number of trial in a learning session. Should be integers starting from 1.\n",
    "\n",
    "- *f_cor*, the output from the correct option in the presented pair (the option with higher outcome on average).\n",
    "\n",
    "- *f_inc*, the output from the incorrect option in the presented pair (the option with lower outcome on average).\n",
    "\n",
    "- *cor_option*, the number identifying the correct option in the presented pair (the option with higher outcome on average).\n",
    "\n",
    "- *inc_option*, the number identifying the incorrect option in the presented pair(the option with lower outcome on average).\n",
    "\n",
    "- *block_label*, the number identifying the learning session. Should be integers starting from 1. Set to 1 in case there is only one learning session.\n",
    "\n",
    "If the model is hierarchical, also include:\n",
    "\n",
    "- *participant*, the participant number. Should be integers starting from 1.\n",
    "\n",
    "If increasing_sensitivity is True, also include:\n",
    "\n",
    "- *times_seen*, average number of times the presented options have been seen in a learning session."
   ]
  },
  {
   "cell_type": "code",
   "execution_count": 17,
   "id": "diagnostic-norfolk",
   "metadata": {
    "pycharm": {
     "name": "#%%\n"
    }
   },
   "outputs": [
    {
     "data": {
      "text/plain": "   participant  block_label  trial_block  f_cor  f_inc  cor_option  \\\n0            1            1            1     43     39           2   \n1            1            1            2     60     50           4   \n2            1            1            3     44     36           4   \n3            1            1            4     55     55           4   \n4            1            1            5     52     49           4   \n\n   inc_option  times_seen        rt  accuracy  \n0           1           1  1.244082         0  \n1           3           1  1.101821         1  \n2           2           2  1.029923         0  \n3           3           2  1.368007         0  \n4           3           3  1.039329         1  ",
      "text/html": "<div>\n<style scoped>\n    .dataframe tbody tr th:only-of-type {\n        vertical-align: middle;\n    }\n\n    .dataframe tbody tr th {\n        vertical-align: top;\n    }\n\n    .dataframe thead th {\n        text-align: right;\n    }\n</style>\n<table border=\"1\" class=\"dataframe\">\n  <thead>\n    <tr style=\"text-align: right;\">\n      <th></th>\n      <th>participant</th>\n      <th>block_label</th>\n      <th>trial_block</th>\n      <th>f_cor</th>\n      <th>f_inc</th>\n      <th>cor_option</th>\n      <th>inc_option</th>\n      <th>times_seen</th>\n      <th>rt</th>\n      <th>accuracy</th>\n    </tr>\n  </thead>\n  <tbody>\n    <tr>\n      <th>0</th>\n      <td>1</td>\n      <td>1</td>\n      <td>1</td>\n      <td>43</td>\n      <td>39</td>\n      <td>2</td>\n      <td>1</td>\n      <td>1</td>\n      <td>1.244082</td>\n      <td>0</td>\n    </tr>\n    <tr>\n      <th>1</th>\n      <td>1</td>\n      <td>1</td>\n      <td>2</td>\n      <td>60</td>\n      <td>50</td>\n      <td>4</td>\n      <td>3</td>\n      <td>1</td>\n      <td>1.101821</td>\n      <td>1</td>\n    </tr>\n    <tr>\n      <th>2</th>\n      <td>1</td>\n      <td>1</td>\n      <td>3</td>\n      <td>44</td>\n      <td>36</td>\n      <td>4</td>\n      <td>2</td>\n      <td>2</td>\n      <td>1.029923</td>\n      <td>0</td>\n    </tr>\n    <tr>\n      <th>3</th>\n      <td>1</td>\n      <td>1</td>\n      <td>4</td>\n      <td>55</td>\n      <td>55</td>\n      <td>4</td>\n      <td>3</td>\n      <td>2</td>\n      <td>1.368007</td>\n      <td>0</td>\n    </tr>\n    <tr>\n      <th>4</th>\n      <td>1</td>\n      <td>1</td>\n      <td>5</td>\n      <td>52</td>\n      <td>49</td>\n      <td>4</td>\n      <td>3</td>\n      <td>3</td>\n      <td>1.039329</td>\n      <td>1</td>\n    </tr>\n  </tbody>\n</table>\n</div>"
     },
     "execution_count": 17,
     "metadata": {},
     "output_type": "execute_result"
    }
   ],
   "source": [
    "data_rl.head()"
   ]
  },
  {
   "cell_type": "code",
   "execution_count": 18,
   "id": "trained-landscape",
   "metadata": {
    "pycharm": {
     "name": "#%%\n"
    }
   },
   "outputs": [
    {
     "name": "stderr",
     "output_type": "stream",
     "text": [
      "14:12:48 - cmdstanpy - INFO - CmdStan start processing\n"
     ]
    },
    {
     "name": "stdout",
     "output_type": "stream",
     "text": [
      "Fitting the model using the priors:\n",
      "alpha_priors {'mu_mu': -0.3, 'sd_mu': 0.1, 'mu_sd': 0, 'sd_sd': 0.1}\n",
      "sensitivity_priors {'mu_mu': -0.1, 'sd_mu': 0.1, 'mu_sd': 0, 'sd_sd': 0.1}\n"
     ]
    },
    {
     "data": {
      "text/plain": "chain 1 |          | 00:00 Status",
      "application/vnd.jupyter.widget-view+json": {
       "version_major": 2,
       "version_minor": 0,
       "model_id": "1dc7401d78354cdcb3ef834540d51326"
      }
     },
     "metadata": {},
     "output_type": "display_data"
    },
    {
     "data": {
      "text/plain": "chain 2 |          | 00:00 Status",
      "application/vnd.jupyter.widget-view+json": {
       "version_major": 2,
       "version_minor": 0,
       "model_id": "8cde9bf10c6047aa9029796db45ba94b"
      }
     },
     "metadata": {},
     "output_type": "display_data"
    },
    {
     "name": "stdout",
     "output_type": "stream",
     "text": [
      "                                                                                                                                                                "
     ]
    },
    {
     "name": "stderr",
     "output_type": "stream",
     "text": [
      "14:18:41 - cmdstanpy - INFO - CmdStan done processing.\n",
      "14:18:41 - cmdstanpy - WARNING - Non-fatal error during sampling:\n",
      "Exception: bernoulli_lpmf: Probability parameter[1] is -nan, but must be in the interval [0, 1] (in '/home/andrei/PycharmProjects/rlssm/rlssm/stan_models/RL_2A/hierRL_2A.stan', line 80, column 1 to column 36)\n",
      "\tException: bernoulli_lpmf: Probability parameter[1] is -nan, but must be in the interval [0, 1] (in '/home/andrei/PycharmProjects/rlssm/rlssm/stan_models/RL_2A/hierRL_2A.stan', line 80, column 1 to column 36)\n",
      "Consider re-running with show_console=True if the above output is unclear!\n"
     ]
    },
    {
     "name": "stdout",
     "output_type": "stream",
     "text": [
      "\n"
     ]
    }
   ],
   "source": [
    "# Run 2 chains, with 3000 samples each, 1000 of which warmup, with thinning and custom priors:\n",
    "model_fit_rl = model_rl.fit(\n",
    "    data_rl,\n",
    "    K=4,\n",
    "    initial_value_learning=27.5,\n",
    "    alpha_priors={'mu_mu':-.3, 'sd_mu':.1, 'mu_sd':0, 'sd_sd':.1},\n",
    "    sensitivity_priors={'mu_mu':-.1, 'sd_mu':.1, 'mu_sd':0, 'sd_sd':.1},\n",
    "    chains=2,\n",
    "    iter_sampling=3000,\n",
    "    iter_warmup=1000,\n",
    "    print_diagnostics=False, # (not suggested, see below)\n",
    "    thin=2)"
   ]
  },
  {
   "cell_type": "markdown",
   "id": "frank-lindsay",
   "metadata": {
    "pycharm": {
     "name": "#%% md\n"
    }
   },
   "source": [
    "## Diagnostics"
   ]
  },
  {
   "cell_type": "markdown",
   "id": "weird-diameter",
   "metadata": {
    "pycharm": {
     "name": "#%% md\n"
    }
   },
   "source": [
    "As you can see, the MCMC diagnostics are already printed by default (if you do not want this, you can set `print_diagnostics` to `False`). I refer to https://mc-stan.org/users/documentation/case-studies/divergences_and_bias.html for an excellent explanation of what these diagnostics actually mean and how to assess them.\n",
    "\n",
    "On top of these, you can also check the convergence of the chains and the WAIC:"
   ]
  },
  {
   "cell_type": "code",
   "execution_count": 19,
   "id": "civic-student",
   "metadata": {
    "pycharm": {
     "name": "#%%\n"
    }
   },
   "outputs": [
    {
     "data": {
      "text/plain": "                  rhat      variable\nname                                \nlp__          0.999848          lp__\ndrift         0.999679         drift\nthreshold     1.000200     threshold\nndt           0.999675           ndt\ndrift_ll[1]   0.999679   drift_ll[1]\n...                ...           ...\nlog_lik[396]  1.000230  log_lik[396]\nlog_lik[397]  0.999938  log_lik[397]\nlog_lik[398]  1.000220  log_lik[398]\nlog_lik[399]  1.000260  log_lik[399]\nlog_lik[400]  0.999905  log_lik[400]\n\n[2007 rows x 2 columns]",
      "text/html": "<div>\n<style scoped>\n    .dataframe tbody tr th:only-of-type {\n        vertical-align: middle;\n    }\n\n    .dataframe tbody tr th {\n        vertical-align: top;\n    }\n\n    .dataframe thead th {\n        text-align: right;\n    }\n</style>\n<table border=\"1\" class=\"dataframe\">\n  <thead>\n    <tr style=\"text-align: right;\">\n      <th></th>\n      <th>rhat</th>\n      <th>variable</th>\n    </tr>\n    <tr>\n      <th>name</th>\n      <th></th>\n      <th></th>\n    </tr>\n  </thead>\n  <tbody>\n    <tr>\n      <th>lp__</th>\n      <td>0.999848</td>\n      <td>lp__</td>\n    </tr>\n    <tr>\n      <th>drift</th>\n      <td>0.999679</td>\n      <td>drift</td>\n    </tr>\n    <tr>\n      <th>threshold</th>\n      <td>1.000200</td>\n      <td>threshold</td>\n    </tr>\n    <tr>\n      <th>ndt</th>\n      <td>0.999675</td>\n      <td>ndt</td>\n    </tr>\n    <tr>\n      <th>drift_ll[1]</th>\n      <td>0.999679</td>\n      <td>drift_ll[1]</td>\n    </tr>\n    <tr>\n      <th>...</th>\n      <td>...</td>\n      <td>...</td>\n    </tr>\n    <tr>\n      <th>log_lik[396]</th>\n      <td>1.000230</td>\n      <td>log_lik[396]</td>\n    </tr>\n    <tr>\n      <th>log_lik[397]</th>\n      <td>0.999938</td>\n      <td>log_lik[397]</td>\n    </tr>\n    <tr>\n      <th>log_lik[398]</th>\n      <td>1.000220</td>\n      <td>log_lik[398]</td>\n    </tr>\n    <tr>\n      <th>log_lik[399]</th>\n      <td>1.000260</td>\n      <td>log_lik[399]</td>\n    </tr>\n    <tr>\n      <th>log_lik[400]</th>\n      <td>0.999905</td>\n      <td>log_lik[400]</td>\n    </tr>\n  </tbody>\n</table>\n<p>2007 rows × 2 columns</p>\n</div>"
     },
     "execution_count": 19,
     "metadata": {},
     "output_type": "execute_result"
    }
   ],
   "source": [
    "model_fit_ddm.rhat"
   ]
  },
  {
   "cell_type": "code",
   "execution_count": 20,
   "id": "moral-strap",
   "metadata": {
    "pycharm": {
     "name": "#%%\n"
    }
   },
   "outputs": [
    {
     "data": {
      "text/plain": "               rhat\ncount  12814.000000\nmean       1.000014\nstd        0.000573\nmin        0.999336\n25%        0.999582\n50%        0.999870\n75%        1.000270\nmax        1.003950",
      "text/html": "<div>\n<style scoped>\n    .dataframe tbody tr th:only-of-type {\n        vertical-align: middle;\n    }\n\n    .dataframe tbody tr th {\n        vertical-align: top;\n    }\n\n    .dataframe thead th {\n        text-align: right;\n    }\n</style>\n<table border=\"1\" class=\"dataframe\">\n  <thead>\n    <tr style=\"text-align: right;\">\n      <th></th>\n      <th>rhat</th>\n    </tr>\n  </thead>\n  <tbody>\n    <tr>\n      <th>count</th>\n      <td>12814.000000</td>\n    </tr>\n    <tr>\n      <th>mean</th>\n      <td>1.000014</td>\n    </tr>\n    <tr>\n      <th>std</th>\n      <td>0.000573</td>\n    </tr>\n    <tr>\n      <th>min</th>\n      <td>0.999336</td>\n    </tr>\n    <tr>\n      <th>25%</th>\n      <td>0.999582</td>\n    </tr>\n    <tr>\n      <th>50%</th>\n      <td>0.999870</td>\n    </tr>\n    <tr>\n      <th>75%</th>\n      <td>1.000270</td>\n    </tr>\n    <tr>\n      <th>max</th>\n      <td>1.003950</td>\n    </tr>\n  </tbody>\n</table>\n</div>"
     },
     "execution_count": 20,
     "metadata": {},
     "output_type": "execute_result"
    }
   ],
   "source": [
    "model_fit_rl.rhat.describe()"
   ]
  },
  {
   "cell_type": "code",
   "execution_count": 21,
   "id": "conceptual-appointment",
   "metadata": {
    "pycharm": {
     "name": "#%%\n"
    }
   },
   "outputs": [
    {
     "data": {
      "text/plain": "{'lppd': -210.84588753511633,\n 'p_waic': 3.3902554935310523,\n 'waic': 428.47228605729475,\n 'waic_se': 47.0241656587446}"
     },
     "execution_count": 21,
     "metadata": {},
     "output_type": "execute_result"
    }
   ],
   "source": [
    "model_fit_ddm.waic"
   ]
  },
  {
   "cell_type": "code",
   "execution_count": 22,
   "id": "closed-ballot",
   "metadata": {
    "pycharm": {
     "name": "#%%\n"
    }
   },
   "outputs": [
    {
     "data": {
      "text/plain": "{'lppd': -2632.9513369711012,\n 'p_waic': 52.72743982796608,\n 'waic': 5371.3575535981345,\n 'waic_se': 94.06933293481356}"
     },
     "execution_count": 22,
     "metadata": {},
     "output_type": "execute_result"
    }
   ],
   "source": [
    "model_fit_rl.waic"
   ]
  },
  {
   "cell_type": "markdown",
   "id": "taken-conjunction",
   "metadata": {
    "pycharm": {
     "name": "#%% md\n"
    }
   },
   "source": [
    "If you want to also see the point-wise WAIC, you can set `pointwise_waic` to `True`."
   ]
  },
  {
   "cell_type": "markdown",
   "id": "several-kernel",
   "metadata": {
    "pycharm": {
     "name": "#%% md\n"
    }
   },
   "source": [
    "## Save the results"
   ]
  },
  {
   "cell_type": "markdown",
   "id": "noble-engagement",
   "metadata": {
    "pycharm": {
     "name": "#%% md\n"
    }
   },
   "source": [
    "By default, the model fit results are saved in the same folder, using the `model_label` as filename. you can specify a different location using the `filename` argument."
   ]
  },
  {
   "cell_type": "code",
   "execution_count": 23,
   "id": "weird-brief",
   "metadata": {
    "pycharm": {
     "name": "#%%\n"
    }
   },
   "outputs": [
    {
     "name": "stdout",
     "output_type": "stream",
     "text": [
      "Saving file as: /home/andrei/PycharmProjects/rlssm/docs/notebooks/DDM.pkl\n"
     ]
    }
   ],
   "source": [
    "model_fit_ddm.to_pickle()"
   ]
  },
  {
   "cell_type": "code",
   "execution_count": 24,
   "id": "announced-combination",
   "metadata": {
    "pycharm": {
     "name": "#%%\n"
    }
   },
   "outputs": [
    {
     "name": "stdout",
     "output_type": "stream",
     "text": [
      "Saving file as: /home/andrei/PycharmProjects/rlssm/docs/notebooks/hierRL_2A.pkl\n"
     ]
    }
   ],
   "source": [
    "model_fit_rl.to_pickle()"
   ]
  },
  {
   "cell_type": "markdown",
   "id": "tropical-hamburg",
   "metadata": {
    "pycharm": {
     "name": "#%% md\n"
    }
   },
   "source": [
    "## Re-load previously saved results"
   ]
  },
  {
   "cell_type": "code",
   "execution_count": 25,
   "id": "administrative-overhead",
   "metadata": {
    "pycharm": {
     "name": "#%%\n"
    }
   },
   "outputs": [],
   "source": [
    "model_fit_ddm = load_model_results('DDM.pkl')"
   ]
  },
  {
   "cell_type": "code",
   "execution_count": 26,
   "id": "weighted-significance",
   "metadata": {
    "pycharm": {
     "name": "#%%\n"
    }
   },
   "outputs": [],
   "source": [
    "model_fit_rl = load_model_results('hierRL_2A.pkl')"
   ]
  },
  {
   "cell_type": "markdown",
   "id": "colonial-cloud",
   "metadata": {
    "pycharm": {
     "name": "#%% md\n"
    }
   },
   "source": [
    "The data the model was fit on are stored in `data_info`:"
   ]
  },
  {
   "cell_type": "code",
   "execution_count": 27,
   "id": "mighty-school",
   "metadata": {
    "pycharm": {
     "name": "#%%\n"
    }
   },
   "outputs": [
    {
     "data": {
      "text/plain": "      index  participant  block_label  trial_block  f_cor  f_inc  cor_option  \\\n0         0            1            1            1     43     39           2   \n1         1            1            1            2     60     50           4   \n2         2            1            1            3     44     36           4   \n3         3            1            1            4     55     55           4   \n4         4            1            1            5     52     49           4   \n...     ...          ...          ...          ...    ...    ...         ...   \n6459   6459           27            3           76     37     36           2   \n6460   6460           27            3           77     58     41           4   \n6461   6461           27            3           78     64     49           4   \n6462   6462           27            3           79     44     37           3   \n6463   6463           27            3           80     51     51           4   \n\n      inc_option  times_seen        rt  accuracy  \n0              1           1  1.244082         0  \n1              3           1  1.101821         1  \n2              2           2  1.029923         0  \n3              3           2  1.368007         0  \n4              3           3  1.039329         1  \n...          ...         ...       ...       ...  \n6459           1          39  1.875327         1  \n6460           2          39  1.696957         1  \n6461           3          38  2.059956         1  \n6462           1          39  1.623731         1  \n6463           3          40  1.115363         1  \n\n[6464 rows x 11 columns]",
      "text/html": "<div>\n<style scoped>\n    .dataframe tbody tr th:only-of-type {\n        vertical-align: middle;\n    }\n\n    .dataframe tbody tr th {\n        vertical-align: top;\n    }\n\n    .dataframe thead th {\n        text-align: right;\n    }\n</style>\n<table border=\"1\" class=\"dataframe\">\n  <thead>\n    <tr style=\"text-align: right;\">\n      <th></th>\n      <th>index</th>\n      <th>participant</th>\n      <th>block_label</th>\n      <th>trial_block</th>\n      <th>f_cor</th>\n      <th>f_inc</th>\n      <th>cor_option</th>\n      <th>inc_option</th>\n      <th>times_seen</th>\n      <th>rt</th>\n      <th>accuracy</th>\n    </tr>\n  </thead>\n  <tbody>\n    <tr>\n      <th>0</th>\n      <td>0</td>\n      <td>1</td>\n      <td>1</td>\n      <td>1</td>\n      <td>43</td>\n      <td>39</td>\n      <td>2</td>\n      <td>1</td>\n      <td>1</td>\n      <td>1.244082</td>\n      <td>0</td>\n    </tr>\n    <tr>\n      <th>1</th>\n      <td>1</td>\n      <td>1</td>\n      <td>1</td>\n      <td>2</td>\n      <td>60</td>\n      <td>50</td>\n      <td>4</td>\n      <td>3</td>\n      <td>1</td>\n      <td>1.101821</td>\n      <td>1</td>\n    </tr>\n    <tr>\n      <th>2</th>\n      <td>2</td>\n      <td>1</td>\n      <td>1</td>\n      <td>3</td>\n      <td>44</td>\n      <td>36</td>\n      <td>4</td>\n      <td>2</td>\n      <td>2</td>\n      <td>1.029923</td>\n      <td>0</td>\n    </tr>\n    <tr>\n      <th>3</th>\n      <td>3</td>\n      <td>1</td>\n      <td>1</td>\n      <td>4</td>\n      <td>55</td>\n      <td>55</td>\n      <td>4</td>\n      <td>3</td>\n      <td>2</td>\n      <td>1.368007</td>\n      <td>0</td>\n    </tr>\n    <tr>\n      <th>4</th>\n      <td>4</td>\n      <td>1</td>\n      <td>1</td>\n      <td>5</td>\n      <td>52</td>\n      <td>49</td>\n      <td>4</td>\n      <td>3</td>\n      <td>3</td>\n      <td>1.039329</td>\n      <td>1</td>\n    </tr>\n    <tr>\n      <th>...</th>\n      <td>...</td>\n      <td>...</td>\n      <td>...</td>\n      <td>...</td>\n      <td>...</td>\n      <td>...</td>\n      <td>...</td>\n      <td>...</td>\n      <td>...</td>\n      <td>...</td>\n      <td>...</td>\n    </tr>\n    <tr>\n      <th>6459</th>\n      <td>6459</td>\n      <td>27</td>\n      <td>3</td>\n      <td>76</td>\n      <td>37</td>\n      <td>36</td>\n      <td>2</td>\n      <td>1</td>\n      <td>39</td>\n      <td>1.875327</td>\n      <td>1</td>\n    </tr>\n    <tr>\n      <th>6460</th>\n      <td>6460</td>\n      <td>27</td>\n      <td>3</td>\n      <td>77</td>\n      <td>58</td>\n      <td>41</td>\n      <td>4</td>\n      <td>2</td>\n      <td>39</td>\n      <td>1.696957</td>\n      <td>1</td>\n    </tr>\n    <tr>\n      <th>6461</th>\n      <td>6461</td>\n      <td>27</td>\n      <td>3</td>\n      <td>78</td>\n      <td>64</td>\n      <td>49</td>\n      <td>4</td>\n      <td>3</td>\n      <td>38</td>\n      <td>2.059956</td>\n      <td>1</td>\n    </tr>\n    <tr>\n      <th>6462</th>\n      <td>6462</td>\n      <td>27</td>\n      <td>3</td>\n      <td>79</td>\n      <td>44</td>\n      <td>37</td>\n      <td>3</td>\n      <td>1</td>\n      <td>39</td>\n      <td>1.623731</td>\n      <td>1</td>\n    </tr>\n    <tr>\n      <th>6463</th>\n      <td>6463</td>\n      <td>27</td>\n      <td>3</td>\n      <td>80</td>\n      <td>51</td>\n      <td>51</td>\n      <td>4</td>\n      <td>3</td>\n      <td>40</td>\n      <td>1.115363</td>\n      <td>1</td>\n    </tr>\n  </tbody>\n</table>\n<p>6464 rows × 11 columns</p>\n</div>"
     },
     "execution_count": 27,
     "metadata": {},
     "output_type": "execute_result"
    }
   ],
   "source": [
    "model_fit_rl.data_info['data']"
   ]
  },
  {
   "cell_type": "markdown",
   "id": "impressive-bulgarian",
   "metadata": {
    "pycharm": {
     "name": "#%% md\n"
    }
   },
   "source": [
    "The priors are stored in `priors`:"
   ]
  },
  {
   "cell_type": "code",
   "execution_count": 46,
   "id": "excited-victory",
   "metadata": {
    "pycharm": {
     "name": "#%%\n"
    }
   },
   "outputs": [
    {
     "ename": "AttributeError",
     "evalue": "'DDModelResults' object has no attribute 'priors'",
     "output_type": "error",
     "traceback": [
      "\u001B[0;31m---------------------------------------------------------------------------\u001B[0m",
      "\u001B[0;31mAttributeError\u001B[0m                            Traceback (most recent call last)",
      "Input \u001B[0;32mIn [46]\u001B[0m, in \u001B[0;36m<cell line: 1>\u001B[0;34m()\u001B[0m\n\u001B[0;32m----> 1\u001B[0m \u001B[43mmodel_fit_ddm\u001B[49m\u001B[38;5;241;43m.\u001B[39;49m\u001B[43mpriors\u001B[49m\n",
      "\u001B[0;31mAttributeError\u001B[0m: 'DDModelResults' object has no attribute 'priors'"
     ]
    }
   ],
   "source": [
    "model_fit_ddm.priors"
   ]
  },
  {
   "cell_type": "code",
   "execution_count": 30,
   "id": "representative-express",
   "metadata": {
    "pycharm": {
     "name": "#%%\n"
    }
   },
   "outputs": [
    {
     "ename": "AttributeError",
     "evalue": "'RLModelResults_2A' object has no attribute 'priors'",
     "output_type": "error",
     "traceback": [
      "\u001B[0;31m---------------------------------------------------------------------------\u001B[0m",
      "\u001B[0;31mAttributeError\u001B[0m                            Traceback (most recent call last)",
      "Input \u001B[0;32mIn [30]\u001B[0m, in \u001B[0;36m<cell line: 1>\u001B[0;34m()\u001B[0m\n\u001B[0;32m----> 1\u001B[0m \u001B[43mmodel_fit_rl\u001B[49m\u001B[38;5;241;43m.\u001B[39;49m\u001B[43mpriors\u001B[49m\n",
      "\u001B[0;31mAttributeError\u001B[0m: 'RLModelResults_2A' object has no attribute 'priors'"
     ]
    }
   ],
   "source": [
    "model_fit_rl.priors"
   ]
  },
  {
   "cell_type": "markdown",
   "id": "settled-genetics",
   "metadata": {
    "pycharm": {
     "name": "#%% md\n"
    }
   },
   "source": [
    "And different parameter information are stored in `parameter_info`:"
   ]
  },
  {
   "cell_type": "code",
   "execution_count": 31,
   "id": "extensive-evolution",
   "metadata": {
    "pycharm": {
     "name": "#%%\n"
    }
   },
   "outputs": [
    {
     "data": {
      "text/plain": "{'hierarchical_levels': 1,\n 'n_parameters_individual': 3,\n 'n_parameters_trial': 0,\n 'n_posterior_samples': 2000,\n 'parameters_names': ['drift', 'threshold', 'ndt'],\n 'parameters_names_transf': ['transf_drift', 'transf_threshold', 'transf_ndt'],\n 'parameters_names_all': ['drift', 'threshold', 'ndt']}"
     },
     "execution_count": 31,
     "metadata": {},
     "output_type": "execute_result"
    }
   ],
   "source": [
    "model_fit_ddm.parameters_info"
   ]
  },
  {
   "cell_type": "code",
   "execution_count": 32,
   "id": "digital-arthur",
   "metadata": {
    "pycharm": {
     "name": "#%%\n"
    }
   },
   "outputs": [
    {
     "data": {
      "text/plain": "{'lppd': -2632.9513369711012,\n 'p_waic': 52.72743982796608,\n 'waic': 5371.3575535981345,\n 'waic_se': 94.06933293481356}"
     },
     "execution_count": 32,
     "metadata": {},
     "output_type": "execute_result"
    }
   ],
   "source": [
    "model_fit_rl.waic"
   ]
  },
  {
   "cell_type": "markdown",
   "id": "foreign-staff",
   "metadata": {
    "pycharm": {
     "name": "#%% md\n"
    }
   },
   "source": [
    "And, of course, you can inspect the model's posteriors, see [How to inspect a model](https://rlssm.readthedocs.io/en/latest/notebooks/inspect_model.html) for more details on this."
   ]
  }
 ],
 "metadata": {
  "kernelspec": {
   "display_name": "Python 3 (ipykernel)",
   "language": "python",
   "name": "python3"
  },
  "language_info": {
   "codemirror_mode": {
    "name": "ipython",
    "version": 3
   },
   "file_extension": ".py",
   "mimetype": "text/x-python",
   "name": "python",
   "nbconvert_exporter": "python",
   "pygments_lexer": "ipython3",
   "version": "3.8.10"
  }
 },
 "nbformat": 4,
 "nbformat_minor": 5
}