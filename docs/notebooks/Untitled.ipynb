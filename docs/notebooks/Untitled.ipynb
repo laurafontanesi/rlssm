{
 "cells": [
  {
   "cell_type": "code",
   "execution_count": 1,
   "id": "weighted-liabilities",
   "metadata": {
    "pycharm": {
     "name": "#%%\n"
    }
   },
   "outputs": [],
   "source": [
    "import rlssm"
   ]
  },
  {
   "cell_type": "code",
   "execution_count": 2,
   "id": "elegant-velvet",
   "metadata": {
    "pycharm": {
     "name": "#%%\n"
    }
   },
   "outputs": [
    {
     "name": "stderr",
     "output_type": "stream",
     "text": [
      "15:30:50 - cmdstanpy - INFO - compiling stan file /home/andrei/PycharmProjects/rlssm/rlssm/stan_models/RLDDM/RLDDM_2lr.stan to exe file /home/andrei/PycharmProjects/rlssm/rlssm/stan_models/RLDDM/RLDDM_2lr\n",
      "15:30:59 - cmdstanpy - INFO - compiled model executable: /home/andrei/PycharmProjects/rlssm/rlssm/stan_models/RLDDM/RLDDM_2lr\n",
      "15:30:59 - cmdstanpy - WARNING - Stan compiler has produced 12 warnings:\n",
      "15:30:59 - cmdstanpy - WARNING - \n",
      "--- Translating Stan model to C++ code ---\n",
      "bin/stanc  --o=/home/andrei/PycharmProjects/rlssm/rlssm/stan_models/RLDDM/RLDDM_2lr.hpp /home/andrei/PycharmProjects/rlssm/rlssm/stan_models/RLDDM/RLDDM_2lr.stan\n",
      "Warning in '/home/andrei/PycharmProjects/rlssm/rlssm/stan_models/RLDDM/RLDDM_2lr.stan', line 4, column 1: Declaration\n",
      "    of arrays by placing brackets after a variable name is deprecated and\n",
      "    will be removed in Stan 2.32.0. Instead use the array keyword before the\n",
      "    type. This can be changed automatically using the auto-format flag to\n",
      "    stanc\n",
      "Warning in '/home/andrei/PycharmProjects/rlssm/rlssm/stan_models/RLDDM/RLDDM_2lr.stan', line 7, column 1: Declaration\n",
      "    of arrays by placing brackets after a variable name is deprecated and\n",
      "    will be removed in Stan 2.32.0. Instead use the array keyword before the\n",
      "    type. This can be changed automatically using the auto-format flag to\n",
      "    stanc\n",
      "Warning in '/home/andrei/PycharmProjects/rlssm/rlssm/stan_models/RLDDM/RLDDM_2lr.stan', line 8, column 1: Declaration\n",
      "    of arrays by placing brackets after a variable name is deprecated and\n",
      "    will be removed in Stan 2.32.0. Instead use the array keyword before the\n",
      "    type. This can be changed automatically using the auto-format flag to\n",
      "    stanc\n",
      "Warning in '/home/andrei/PycharmProjects/rlssm/rlssm/stan_models/RLDDM/RLDDM_2lr.stan', line 9, column 1: Declaration\n",
      "    of arrays by placing brackets after a variable name is deprecated and\n",
      "    will be removed in Stan 2.32.0. Instead use the array keyword before the\n",
      "    type. This can be changed automatically using the auto-format flag to\n",
      "    stanc\n",
      "Warning in '/home/andrei/PycharmProjects/rlssm/rlssm/stan_models/RLDDM/RLDDM_2lr.stan', line 11, column 1: Declaration\n",
      "    of arrays by placing brackets after a variable name is deprecated and\n",
      "    will be removed in Stan 2.32.0. Instead use the array keyword before the\n",
      "    type. This can be changed automatically using the auto-format flag to\n",
      "    stanc\n",
      "Warning in '/home/andrei/PycharmProjects/rlssm/rlssm/stan_models/RLDDM/RLDDM_2lr.stan', line 12, column 1: Declaration\n",
      "    of arrays by placing brackets after a variable name is deprecated and\n",
      "    will be removed in Stan 2.32.0. Instead use the array keyword before the\n",
      "    type. This can be changed automatically using the auto-format flag to\n",
      "    stanc\n",
      "Warning in '/home/andrei/PycharmProjects/rlssm/rlssm/stan_models/RLDDM/RLDDM_2lr.stan', line 35, column 1: Declaration\n",
      "    of arrays by placing brackets after a variable name is deprecated and\n",
      "    will be removed in Stan 2.32.0. Instead use the array keyword before the\n",
      "    type. This can be changed automatically using the auto-format flag to\n",
      "    stanc\n",
      "Warning in '/home/andrei/PycharmProjects/rlssm/rlssm/stan_models/RLDDM/RLDDM_2lr.stan', line 36, column 1: Declaration\n",
      "    of arrays by placing brackets after a variable name is deprecated and\n",
      "    will be removed in Stan 2.32.0. Instead use the array keyword before the\n",
      "    type. This can be changed automatically using the auto-format flag to\n",
      "    stanc\n",
      "Warning in '/home/andrei/PycharmProjects/rlssm/rlssm/stan_models/RLDDM/RLDDM_2lr.stan', line 37, column 1: Declaration\n",
      "    of arrays by placing brackets after a variable name is deprecated and\n",
      "    will be removed in Stan 2.32.0. Instead use the array keyword before the\n",
      "    type. This can be changed automatically using the auto-format flag to\n",
      "    stanc\n",
      "Warning in '/home/andrei/PycharmProjects/rlssm/rlssm/stan_models/RLDDM/RLDDM_2lr.stan', line 38, column 1: Declaration\n",
      "    of arrays by placing brackets after a variable name is deprecated and\n",
      "    will be removed in Stan 2.32.0. Instead use the array keyword before the\n",
      "    type. This can be changed automatically using the auto-format flag to\n",
      "    stanc\n",
      "Warning in '/home/andrei/PycharmProjects/rlssm/rlssm/stan_models/RLDDM/RLDDM_2lr.stan', line 43, column 1: Declaration\n",
      "    of arrays by placing brackets after a variable name is deprecated and\n",
      "    will be removed in Stan 2.32.0. Instead use the array keyword before the\n",
      "    type. This can be changed automatically using the auto-format flag to\n",
      "    stanc\n",
      "Warning in '/home/andrei/PycharmProjects/rlssm/rlssm/stan_models/RLDDM/RLDDM_2lr.stan', line 44, column 1: Declaration\n",
      "    of arrays by placing brackets after a variable name is deprecated and\n",
      "    will be removed in Stan 2.32.0. Instead use the array keyword before the\n",
      "    type. This can be changed automatically using the auto-format flag to\n",
      "    stanc\n",
      "\n",
      "--- Compiling, linking C++ code ---\n",
      "g++ -std=c++1y -pthread -D_REENTRANT -Wno-sign-compare -Wno-ignored-attributes      -I stan/lib/stan_math/lib/tbb_2020.3/include    -O3 -I src -I stan/src -I lib/rapidjson_1.1.0/ -I lib/CLI11-1.9.1/ -I stan/lib/stan_math/ -I stan/lib/stan_math/lib/eigen_3.3.9 -I stan/lib/stan_math/lib/boost_1.78.0 -I stan/lib/stan_math/lib/sundials_6.1.1/include -I stan/lib/stan_math/lib/sundials_6.1.1/src/sundials    -DBOOST_DISABLE_ASSERTS          -c -Wno-ignored-attributes   -x c++ -o /home/andrei/PycharmProjects/rlssm/rlssm/stan_models/RLDDM/RLDDM_2lr.o /home/andrei/PycharmProjects/rlssm/rlssm/stan_models/RLDDM/RLDDM_2lr.hpp\n",
      "g++ -std=c++1y -pthread -D_REENTRANT -Wno-sign-compare -Wno-ignored-attributes      -I stan/lib/stan_math/lib/tbb_2020.3/include    -O3 -I src -I stan/src -I lib/rapidjson_1.1.0/ -I lib/CLI11-1.9.1/ -I stan/lib/stan_math/ -I stan/lib/stan_math/lib/eigen_3.3.9 -I stan/lib/stan_math/lib/boost_1.78.0 -I stan/lib/stan_math/lib/sundials_6.1.1/include -I stan/lib/stan_math/lib/sundials_6.1.1/src/sundials    -DBOOST_DISABLE_ASSERTS                -Wl,-L,\"/home/andrei/.cmdstan/cmdstan-2.30.0/stan/lib/stan_math/lib/tbb\" -Wl,-rpath,\"/home/andrei/.cmdstan/cmdstan-2.30.0/stan/lib/stan_math/lib/tbb\"      /home/andrei/PycharmProjects/rlssm/rlssm/stan_models/RLDDM/RLDDM_2lr.o src/cmdstan/main.o        -Wl,-L,\"/home/andrei/.cmdstan/cmdstan-2.30.0/stan/lib/stan_math/lib/tbb\" -Wl,-rpath,\"/home/andrei/.cmdstan/cmdstan-2.30.0/stan/lib/stan_math/lib/tbb\"   stan/lib/stan_math/lib/sundials_6.1.1/lib/libsundials_nvecserial.a stan/lib/stan_math/lib/sundials_6.1.1/lib/libsundials_cvodes.a stan/lib/stan_math/lib/sundials_6.1.1/lib/libsundials_idas.a stan/lib/stan_math/lib/sundials_6.1.1/lib/libsundials_kinsol.a  stan/lib/stan_math/lib/tbb/libtbb.so.2 -o /home/andrei/PycharmProjects/rlssm/rlssm/stan_models/RLDDM/RLDDM_2lr\n",
      "rm -f /home/andrei/PycharmProjects/rlssm/rlssm/stan_models/RLDDM/RLDDM_2lr.o\n",
      "\n"
     ]
    }
   ],
   "source": [
    "model = rlssm.RLDDModel(hierarchical_levels=1, separate_learning_rates=True)"
   ]
  },
  {
   "cell_type": "code",
   "execution_count": 3,
   "id": "pursuant-ground",
   "metadata": {
    "pycharm": {
     "name": "#%%\n"
    }
   },
   "outputs": [
    {
     "data": {
      "text/plain": "{'alpha_pos_priors': {'mu': 0, 'sd': 1},\n 'alpha_neg_priors': {'mu': 0, 'sd': 1},\n 'drift_scaling_priors': {'mu': 1, 'sd': 50},\n 'threshold_priors': {'mu': 1, 'sd': 5},\n 'ndt_priors': {'mu': 1, 'sd': 1}}"
     },
     "execution_count": 3,
     "metadata": {},
     "output_type": "execute_result"
    }
   ],
   "source": [
    "model.priors"
   ]
  },
  {
   "cell_type": "code",
   "execution_count": 4,
   "id": "rough-monthly",
   "metadata": {
    "pycharm": {
     "name": "#%%\n"
    }
   },
   "outputs": [],
   "source": [
    "model = rlssm.ALBAModel_2A(hierarchical_levels=1)"
   ]
  },
  {
   "cell_type": "code",
   "execution_count": 5,
   "id": "acquired-verse",
   "metadata": {
    "pycharm": {
     "name": "#%%\n"
    }
   },
   "outputs": [
    {
     "data": {
      "text/plain": "{'k_priors': {'mu': 1, 'sd': 1},\n 'sp_trial_var_priors': {'mu': 0.3, 'sd': 1},\n 'ndt_priors': {'mu': 0, 'sd': 1},\n 'v0_priors': {'mu': 9, 'sd': 2},\n 'ws_priors': {'mu': 0, 'sd': 2},\n 'wd_priors': {'mu': 3, 'sd': 3},\n 'drift_variability_priors': {'mu': 1, 'sd': 1}}"
     },
     "execution_count": 5,
     "metadata": {},
     "output_type": "execute_result"
    }
   ],
   "source": [
    "model.priors"
   ]
  },
  {
   "cell_type": "code",
   "execution_count": 6,
   "id": "marine-reverse",
   "metadata": {
    "pycharm": {
     "name": "#%%\n"
    }
   },
   "outputs": [
    {
     "name": "stderr",
     "output_type": "stream",
     "text": [
      "15:30:59 - cmdstanpy - INFO - compiling stan file /home/andrei/PycharmProjects/rlssm/rlssm/stan_models/RLLBA_2A/RLLBA_2A.stan to exe file /home/andrei/PycharmProjects/rlssm/rlssm/stan_models/RLLBA_2A/RLLBA_2A\n",
      "15:31:08 - cmdstanpy - INFO - compiled model executable: /home/andrei/PycharmProjects/rlssm/rlssm/stan_models/RLLBA_2A/RLLBA_2A\n",
      "15:31:08 - cmdstanpy - WARNING - Stan compiler has produced 12 warnings:\n",
      "15:31:08 - cmdstanpy - WARNING - \n",
      "--- Translating Stan model to C++ code ---\n",
      "bin/stanc  --o=/home/andrei/PycharmProjects/rlssm/rlssm/stan_models/RLLBA_2A/RLLBA_2A.hpp /home/andrei/PycharmProjects/rlssm/rlssm/stan_models/RLLBA_2A/RLLBA_2A.stan\n",
      "Warning in '/home/andrei/PycharmProjects/rlssm/rlssm/stan_models/RLLBA_2A/RLLBA_2A.stan', line 95, column 2: Declaration\n",
      "    of arrays by placing brackets after a variable name is deprecated and\n",
      "    will be removed in Stan 2.32.0. Instead use the array keyword before the\n",
      "    type. This can be changed automatically using the auto-format flag to\n",
      "    stanc\n",
      "Warning in '/home/andrei/PycharmProjects/rlssm/rlssm/stan_models/RLLBA_2A/RLLBA_2A.stan', line 96, column 2: Declaration\n",
      "    of arrays by placing brackets after a variable name is deprecated and\n",
      "    will be removed in Stan 2.32.0. Instead use the array keyword before the\n",
      "    type. This can be changed automatically using the auto-format flag to\n",
      "    stanc\n",
      "Warning in '/home/andrei/PycharmProjects/rlssm/rlssm/stan_models/RLLBA_2A/RLLBA_2A.stan', line 101, column 2: Declaration\n",
      "    of arrays by placing brackets after a variable name is deprecated and\n",
      "    will be removed in Stan 2.32.0. Instead use the array keyword before the\n",
      "    type. This can be changed automatically using the auto-format flag to\n",
      "    stanc\n",
      "Warning in '/home/andrei/PycharmProjects/rlssm/rlssm/stan_models/RLLBA_2A/RLLBA_2A.stan', line 102, column 1: Declaration\n",
      "    of arrays by placing brackets after a variable name is deprecated and\n",
      "    will be removed in Stan 2.32.0. Instead use the array keyword before the\n",
      "    type. This can be changed automatically using the auto-format flag to\n",
      "    stanc\n",
      "Warning in '/home/andrei/PycharmProjects/rlssm/rlssm/stan_models/RLLBA_2A/RLLBA_2A.stan', line 104, column 1: Declaration\n",
      "    of arrays by placing brackets after a variable name is deprecated and\n",
      "    will be removed in Stan 2.32.0. Instead use the array keyword before the\n",
      "    type. This can be changed automatically using the auto-format flag to\n",
      "    stanc\n",
      "Warning in '/home/andrei/PycharmProjects/rlssm/rlssm/stan_models/RLLBA_2A/RLLBA_2A.stan', line 105, column 1: Declaration\n",
      "    of arrays by placing brackets after a variable name is deprecated and\n",
      "    will be removed in Stan 2.32.0. Instead use the array keyword before the\n",
      "    type. This can be changed automatically using the auto-format flag to\n",
      "    stanc\n",
      "Warning in '/home/andrei/PycharmProjects/rlssm/rlssm/stan_models/RLLBA_2A/RLLBA_2A.stan', line 16, column 25: normal_log\n",
      "    is deprecated and will be removed in Stan 2.32.0. Use normal_lpdf\n",
      "    instead. This can be automatically changed using the canonicalize flag\n",
      "    for stanc\n",
      "Warning in '/home/andrei/PycharmProjects/rlssm/rlssm/stan_models/RLLBA_2A/RLLBA_2A.stan', line 18, column 25: normal_log\n",
      "    is deprecated and will be removed in Stan 2.32.0. Use normal_lpdf\n",
      "    instead. This can be automatically changed using the canonicalize flag\n",
      "    for stanc\n",
      "Warning in '/home/andrei/PycharmProjects/rlssm/rlssm/stan_models/RLLBA_2A/RLLBA_2A.stan', line 41, column 30: normal_log\n",
      "    is deprecated and will be removed in Stan 2.32.0. Use normal_lpdf\n",
      "    instead. This can be automatically changed using the canonicalize flag\n",
      "    for stanc\n",
      "Warning in '/home/andrei/PycharmProjects/rlssm/rlssm/stan_models/RLLBA_2A/RLLBA_2A.stan', line 42, column 30: normal_log\n",
      "    is deprecated and will be removed in Stan 2.32.0. Use normal_lpdf\n",
      "    instead. This can be automatically changed using the canonicalize flag\n",
      "    for stanc\n",
      "Warning in '/home/andrei/PycharmProjects/rlssm/rlssm/stan_models/RLLBA_2A/RLLBA_2A.stan', line 69, column 30: Use\n",
      "    of lba_cdf without a vertical bar (|) between the first two arguments of\n",
      "    a CDF is deprecated and will be removed in Stan 2.32.0. This can be\n",
      "    automatically changed using the canonicalize flag for stanc\n",
      "Warning in '/home/andrei/PycharmProjects/rlssm/rlssm/stan_models/RLLBA_2A/RLLBA_2A.stan', line 73, column 30: Use\n",
      "    of lba_cdf without a vertical bar (|) between the first two arguments of\n",
      "    a CDF is deprecated and will be removed in Stan 2.32.0. This can be\n",
      "    automatically changed using the canonicalize flag for stanc\n",
      "\n",
      "--- Compiling, linking C++ code ---\n",
      "g++ -std=c++1y -pthread -D_REENTRANT -Wno-sign-compare -Wno-ignored-attributes      -I stan/lib/stan_math/lib/tbb_2020.3/include    -O3 -I src -I stan/src -I lib/rapidjson_1.1.0/ -I lib/CLI11-1.9.1/ -I stan/lib/stan_math/ -I stan/lib/stan_math/lib/eigen_3.3.9 -I stan/lib/stan_math/lib/boost_1.78.0 -I stan/lib/stan_math/lib/sundials_6.1.1/include -I stan/lib/stan_math/lib/sundials_6.1.1/src/sundials    -DBOOST_DISABLE_ASSERTS          -c -Wno-ignored-attributes   -x c++ -o /home/andrei/PycharmProjects/rlssm/rlssm/stan_models/RLLBA_2A/RLLBA_2A.o /home/andrei/PycharmProjects/rlssm/rlssm/stan_models/RLLBA_2A/RLLBA_2A.hpp\n",
      "g++ -std=c++1y -pthread -D_REENTRANT -Wno-sign-compare -Wno-ignored-attributes      -I stan/lib/stan_math/lib/tbb_2020.3/include    -O3 -I src -I stan/src -I lib/rapidjson_1.1.0/ -I lib/CLI11-1.9.1/ -I stan/lib/stan_math/ -I stan/lib/stan_math/lib/eigen_3.3.9 -I stan/lib/stan_math/lib/boost_1.78.0 -I stan/lib/stan_math/lib/sundials_6.1.1/include -I stan/lib/stan_math/lib/sundials_6.1.1/src/sundials    -DBOOST_DISABLE_ASSERTS                -Wl,-L,\"/home/andrei/.cmdstan/cmdstan-2.30.0/stan/lib/stan_math/lib/tbb\" -Wl,-rpath,\"/home/andrei/.cmdstan/cmdstan-2.30.0/stan/lib/stan_math/lib/tbb\"      /home/andrei/PycharmProjects/rlssm/rlssm/stan_models/RLLBA_2A/RLLBA_2A.o src/cmdstan/main.o        -Wl,-L,\"/home/andrei/.cmdstan/cmdstan-2.30.0/stan/lib/stan_math/lib/tbb\" -Wl,-rpath,\"/home/andrei/.cmdstan/cmdstan-2.30.0/stan/lib/stan_math/lib/tbb\"   stan/lib/stan_math/lib/sundials_6.1.1/lib/libsundials_nvecserial.a stan/lib/stan_math/lib/sundials_6.1.1/lib/libsundials_cvodes.a stan/lib/stan_math/lib/sundials_6.1.1/lib/libsundials_idas.a stan/lib/stan_math/lib/sundials_6.1.1/lib/libsundials_kinsol.a  stan/lib/stan_math/lib/tbb/libtbb.so.2 -o /home/andrei/PycharmProjects/rlssm/rlssm/stan_models/RLLBA_2A/RLLBA_2A\n",
      "rm -f /home/andrei/PycharmProjects/rlssm/rlssm/stan_models/RLLBA_2A/RLLBA_2A.o\n",
      "\n"
     ]
    }
   ],
   "source": [
    "model = rlssm.RLLBAModel_2A(hierarchical_levels=1)"
   ]
  },
  {
   "cell_type": "code",
   "execution_count": 7,
   "id": "palestinian-morris",
   "metadata": {
    "pycharm": {
     "name": "#%%\n"
    }
   },
   "outputs": [
    {
     "data": {
      "text/plain": "{'alpha_priors': {'mu': 0, 'sd': 1},\n 'k_priors': {'mu': 1, 'sd': 1},\n 'ndt_priors': {'mu': 0, 'sd': 1},\n 'sp_trial_var_priors': {'mu': 0.3, 'sd': 1},\n 'drift_asym_priors': {'mu': 0, 'sd': 1},\n 'drift_variability_priors': {'mu': 1, 'sd': 1}}"
     },
     "execution_count": 7,
     "metadata": {},
     "output_type": "execute_result"
    }
   ],
   "source": [
    "model.priors"
   ]
  },
  {
   "cell_type": "code",
   "execution_count": 8,
   "id": "banner-surgeon",
   "metadata": {
    "pycharm": {
     "name": "#%%\n"
    }
   },
   "outputs": [
    {
     "name": "stderr",
     "output_type": "stream",
     "text": [
      "15:31:08 - cmdstanpy - INFO - compiling stan file /home/andrei/PycharmProjects/rlssm/rlssm/stan_models/ARDM_2A/ARDM_2A.stan to exe file /home/andrei/PycharmProjects/rlssm/rlssm/stan_models/ARDM_2A/ARDM_2A\n",
      "15:31:17 - cmdstanpy - INFO - compiled model executable: /home/andrei/PycharmProjects/rlssm/rlssm/stan_models/ARDM_2A/ARDM_2A\n",
      "15:31:17 - cmdstanpy - WARNING - Stan compiler has produced 4 warnings:\n",
      "15:31:17 - cmdstanpy - WARNING - \n",
      "--- Translating Stan model to C++ code ---\n",
      "bin/stanc  --o=/home/andrei/PycharmProjects/rlssm/rlssm/stan_models/ARDM_2A/ARDM_2A.hpp /home/andrei/PycharmProjects/rlssm/rlssm/stan_models/ARDM_2A/ARDM_2A.stan\n",
      "Warning in '/home/andrei/PycharmProjects/rlssm/rlssm/stan_models/ARDM_2A/ARDM_2A.stan', line 51, column 1: Declaration\n",
      "    of arrays by placing brackets after a variable name is deprecated and\n",
      "    will be removed in Stan 2.32.0. Instead use the array keyword before the\n",
      "    type. This can be changed automatically using the auto-format flag to\n",
      "    stanc\n",
      "Warning in '/home/andrei/PycharmProjects/rlssm/rlssm/stan_models/ARDM_2A/ARDM_2A.stan', line 52, column 1: Declaration\n",
      "    of arrays by placing brackets after a variable name is deprecated and\n",
      "    will be removed in Stan 2.32.0. Instead use the array keyword before the\n",
      "    type. This can be changed automatically using the auto-format flag to\n",
      "    stanc\n",
      "Warning in '/home/andrei/PycharmProjects/rlssm/rlssm/stan_models/ARDM_2A/ARDM_2A.stan', line 27, column 30: Use\n",
      "    of race_cdf without a vertical bar (|) between the first two arguments of\n",
      "    a CDF is deprecated and will be removed in Stan 2.32.0. This can be\n",
      "    automatically changed using the canonicalize flag for stanc\n",
      "Warning in '/home/andrei/PycharmProjects/rlssm/rlssm/stan_models/ARDM_2A/ARDM_2A.stan', line 31, column 30: Use\n",
      "    of race_cdf without a vertical bar (|) between the first two arguments of\n",
      "    a CDF is deprecated and will be removed in Stan 2.32.0. This can be\n",
      "    automatically changed using the canonicalize flag for stanc\n",
      "\n",
      "--- Compiling, linking C++ code ---\n",
      "g++ -std=c++1y -pthread -D_REENTRANT -Wno-sign-compare -Wno-ignored-attributes      -I stan/lib/stan_math/lib/tbb_2020.3/include    -O3 -I src -I stan/src -I lib/rapidjson_1.1.0/ -I lib/CLI11-1.9.1/ -I stan/lib/stan_math/ -I stan/lib/stan_math/lib/eigen_3.3.9 -I stan/lib/stan_math/lib/boost_1.78.0 -I stan/lib/stan_math/lib/sundials_6.1.1/include -I stan/lib/stan_math/lib/sundials_6.1.1/src/sundials    -DBOOST_DISABLE_ASSERTS          -c -Wno-ignored-attributes   -x c++ -o /home/andrei/PycharmProjects/rlssm/rlssm/stan_models/ARDM_2A/ARDM_2A.o /home/andrei/PycharmProjects/rlssm/rlssm/stan_models/ARDM_2A/ARDM_2A.hpp\n",
      "g++ -std=c++1y -pthread -D_REENTRANT -Wno-sign-compare -Wno-ignored-attributes      -I stan/lib/stan_math/lib/tbb_2020.3/include    -O3 -I src -I stan/src -I lib/rapidjson_1.1.0/ -I lib/CLI11-1.9.1/ -I stan/lib/stan_math/ -I stan/lib/stan_math/lib/eigen_3.3.9 -I stan/lib/stan_math/lib/boost_1.78.0 -I stan/lib/stan_math/lib/sundials_6.1.1/include -I stan/lib/stan_math/lib/sundials_6.1.1/src/sundials    -DBOOST_DISABLE_ASSERTS                -Wl,-L,\"/home/andrei/.cmdstan/cmdstan-2.30.0/stan/lib/stan_math/lib/tbb\" -Wl,-rpath,\"/home/andrei/.cmdstan/cmdstan-2.30.0/stan/lib/stan_math/lib/tbb\"      /home/andrei/PycharmProjects/rlssm/rlssm/stan_models/ARDM_2A/ARDM_2A.o src/cmdstan/main.o        -Wl,-L,\"/home/andrei/.cmdstan/cmdstan-2.30.0/stan/lib/stan_math/lib/tbb\" -Wl,-rpath,\"/home/andrei/.cmdstan/cmdstan-2.30.0/stan/lib/stan_math/lib/tbb\"   stan/lib/stan_math/lib/sundials_6.1.1/lib/libsundials_nvecserial.a stan/lib/stan_math/lib/sundials_6.1.1/lib/libsundials_cvodes.a stan/lib/stan_math/lib/sundials_6.1.1/lib/libsundials_idas.a stan/lib/stan_math/lib/sundials_6.1.1/lib/libsundials_kinsol.a  stan/lib/stan_math/lib/tbb/libtbb.so.2 -o /home/andrei/PycharmProjects/rlssm/rlssm/stan_models/ARDM_2A/ARDM_2A\n",
      "rm -f /home/andrei/PycharmProjects/rlssm/rlssm/stan_models/ARDM_2A/ARDM_2A.o\n",
      "\n"
     ]
    }
   ],
   "source": [
    "model = rlssm.ARDModel_2A(hierarchical_levels=1)"
   ]
  },
  {
   "cell_type": "code",
   "execution_count": 9,
   "id": "blond-soccer",
   "metadata": {
    "pycharm": {
     "name": "#%%\n"
    }
   },
   "outputs": [
    {
     "data": {
      "text/plain": "{'threshold_priors': {'mu': 0, 'sd': 5},\n 'ndt_priors': {'mu': 0, 'sd': 5},\n 'v0_priors': {'mu': 9, 'sd': 2},\n 'ws_priors': {'mu': 0, 'sd': 2},\n 'wd_priors': {'mu': 3, 'sd': 3}}"
     },
     "execution_count": 9,
     "metadata": {},
     "output_type": "execute_result"
    }
   ],
   "source": [
    "model.priors"
   ]
  },
  {
   "cell_type": "code",
   "execution_count": 10,
   "id": "knowing-onion",
   "metadata": {
    "pycharm": {
     "name": "#%%\n"
    }
   },
   "outputs": [
    {
     "name": "stderr",
     "output_type": "stream",
     "text": [
      "15:31:17 - cmdstanpy - INFO - compiling stan file /home/andrei/PycharmProjects/rlssm/rlssm/stan_models/RLARDM_2A/RLARDM_2A_2lr.stan to exe file /home/andrei/PycharmProjects/rlssm/rlssm/stan_models/RLARDM_2A/RLARDM_2A_2lr\n",
      "15:31:26 - cmdstanpy - INFO - compiled model executable: /home/andrei/PycharmProjects/rlssm/rlssm/stan_models/RLARDM_2A/RLARDM_2A_2lr\n",
      "15:31:26 - cmdstanpy - WARNING - Stan compiler has produced 8 warnings:\n",
      "15:31:26 - cmdstanpy - WARNING - \n",
      "--- Translating Stan model to C++ code ---\n",
      "bin/stanc  --o=/home/andrei/PycharmProjects/rlssm/rlssm/stan_models/RLARDM_2A/RLARDM_2A_2lr.hpp /home/andrei/PycharmProjects/rlssm/rlssm/stan_models/RLARDM_2A/RLARDM_2A_2lr.stan\n",
      "Warning in '/home/andrei/PycharmProjects/rlssm/rlssm/stan_models/RLARDM_2A/RLARDM_2A_2lr.stan', line 52, column 2: Declaration\n",
      "    of arrays by placing brackets after a variable name is deprecated and\n",
      "    will be removed in Stan 2.32.0. Instead use the array keyword before the\n",
      "    type. This can be changed automatically using the auto-format flag to\n",
      "    stanc\n",
      "Warning in '/home/andrei/PycharmProjects/rlssm/rlssm/stan_models/RLARDM_2A/RLARDM_2A_2lr.stan', line 53, column 2: Declaration\n",
      "    of arrays by placing brackets after a variable name is deprecated and\n",
      "    will be removed in Stan 2.32.0. Instead use the array keyword before the\n",
      "    type. This can be changed automatically using the auto-format flag to\n",
      "    stanc\n",
      "Warning in '/home/andrei/PycharmProjects/rlssm/rlssm/stan_models/RLARDM_2A/RLARDM_2A_2lr.stan', line 59, column 2: Declaration\n",
      "    of arrays by placing brackets after a variable name is deprecated and\n",
      "    will be removed in Stan 2.32.0. Instead use the array keyword before the\n",
      "    type. This can be changed automatically using the auto-format flag to\n",
      "    stanc\n",
      "Warning in '/home/andrei/PycharmProjects/rlssm/rlssm/stan_models/RLARDM_2A/RLARDM_2A_2lr.stan', line 60, column 1: Declaration\n",
      "    of arrays by placing brackets after a variable name is deprecated and\n",
      "    will be removed in Stan 2.32.0. Instead use the array keyword before the\n",
      "    type. This can be changed automatically using the auto-format flag to\n",
      "    stanc\n",
      "Warning in '/home/andrei/PycharmProjects/rlssm/rlssm/stan_models/RLARDM_2A/RLARDM_2A_2lr.stan', line 61, column 2: Declaration\n",
      "    of arrays by placing brackets after a variable name is deprecated and\n",
      "    will be removed in Stan 2.32.0. Instead use the array keyword before the\n",
      "    type. This can be changed automatically using the auto-format flag to\n",
      "    stanc\n",
      "Warning in '/home/andrei/PycharmProjects/rlssm/rlssm/stan_models/RLARDM_2A/RLARDM_2A_2lr.stan', line 63, column 2: Declaration\n",
      "    of arrays by placing brackets after a variable name is deprecated and\n",
      "    will be removed in Stan 2.32.0. Instead use the array keyword before the\n",
      "    type. This can be changed automatically using the auto-format flag to\n",
      "    stanc\n",
      "Warning in '/home/andrei/PycharmProjects/rlssm/rlssm/stan_models/RLARDM_2A/RLARDM_2A_2lr.stan', line 27, column 30: Use\n",
      "    of race_cdf without a vertical bar (|) between the first two arguments of\n",
      "    a CDF is deprecated and will be removed in Stan 2.32.0. This can be\n",
      "    automatically changed using the canonicalize flag for stanc\n",
      "Warning in '/home/andrei/PycharmProjects/rlssm/rlssm/stan_models/RLARDM_2A/RLARDM_2A_2lr.stan', line 31, column 30: Use\n",
      "    of race_cdf without a vertical bar (|) between the first two arguments of\n",
      "    a CDF is deprecated and will be removed in Stan 2.32.0. This can be\n",
      "    automatically changed using the canonicalize flag for stanc\n",
      "\n",
      "--- Compiling, linking C++ code ---\n",
      "g++ -std=c++1y -pthread -D_REENTRANT -Wno-sign-compare -Wno-ignored-attributes      -I stan/lib/stan_math/lib/tbb_2020.3/include    -O3 -I src -I stan/src -I lib/rapidjson_1.1.0/ -I lib/CLI11-1.9.1/ -I stan/lib/stan_math/ -I stan/lib/stan_math/lib/eigen_3.3.9 -I stan/lib/stan_math/lib/boost_1.78.0 -I stan/lib/stan_math/lib/sundials_6.1.1/include -I stan/lib/stan_math/lib/sundials_6.1.1/src/sundials    -DBOOST_DISABLE_ASSERTS          -c -Wno-ignored-attributes   -x c++ -o /home/andrei/PycharmProjects/rlssm/rlssm/stan_models/RLARDM_2A/RLARDM_2A_2lr.o /home/andrei/PycharmProjects/rlssm/rlssm/stan_models/RLARDM_2A/RLARDM_2A_2lr.hpp\n",
      "g++ -std=c++1y -pthread -D_REENTRANT -Wno-sign-compare -Wno-ignored-attributes      -I stan/lib/stan_math/lib/tbb_2020.3/include    -O3 -I src -I stan/src -I lib/rapidjson_1.1.0/ -I lib/CLI11-1.9.1/ -I stan/lib/stan_math/ -I stan/lib/stan_math/lib/eigen_3.3.9 -I stan/lib/stan_math/lib/boost_1.78.0 -I stan/lib/stan_math/lib/sundials_6.1.1/include -I stan/lib/stan_math/lib/sundials_6.1.1/src/sundials    -DBOOST_DISABLE_ASSERTS                -Wl,-L,\"/home/andrei/.cmdstan/cmdstan-2.30.0/stan/lib/stan_math/lib/tbb\" -Wl,-rpath,\"/home/andrei/.cmdstan/cmdstan-2.30.0/stan/lib/stan_math/lib/tbb\"      /home/andrei/PycharmProjects/rlssm/rlssm/stan_models/RLARDM_2A/RLARDM_2A_2lr.o src/cmdstan/main.o        -Wl,-L,\"/home/andrei/.cmdstan/cmdstan-2.30.0/stan/lib/stan_math/lib/tbb\" -Wl,-rpath,\"/home/andrei/.cmdstan/cmdstan-2.30.0/stan/lib/stan_math/lib/tbb\"   stan/lib/stan_math/lib/sundials_6.1.1/lib/libsundials_nvecserial.a stan/lib/stan_math/lib/sundials_6.1.1/lib/libsundials_cvodes.a stan/lib/stan_math/lib/sundials_6.1.1/lib/libsundials_idas.a stan/lib/stan_math/lib/sundials_6.1.1/lib/libsundials_kinsol.a  stan/lib/stan_math/lib/tbb/libtbb.so.2 -o /home/andrei/PycharmProjects/rlssm/rlssm/stan_models/RLARDM_2A/RLARDM_2A_2lr\n",
      "rm -f /home/andrei/PycharmProjects/rlssm/rlssm/stan_models/RLARDM_2A/RLARDM_2A_2lr.o\n",
      "\n"
     ]
    }
   ],
   "source": [
    "model = rlssm.RLARDModel_2A(hierarchical_levels=1, separate_learning_rates=True)"
   ]
  },
  {
   "cell_type": "code",
   "execution_count": 11,
   "id": "critical-reset",
   "metadata": {
    "pycharm": {
     "name": "#%%\n"
    }
   },
   "outputs": [
    {
     "data": {
      "text/plain": "{'threshold_priors': {'mu': 0, 'sd': 5},\n 'ndt_priors': {'mu': 0, 'sd': 5},\n 'alpha_pos_priors': {'mu': 0, 'sd': 1},\n 'alpha_neg_priors': {'mu': 0, 'sd': 1},\n 'v0_priors': {'mu': 9, 'sd': 2},\n 'ws_priors': {'mu': 0, 'sd': 2},\n 'wd_priors': {'mu': 3, 'sd': 3}}"
     },
     "execution_count": 11,
     "metadata": {},
     "output_type": "execute_result"
    }
   ],
   "source": [
    "model.priors"
   ]
  },
  {
   "cell_type": "code",
   "execution_count": 11,
   "id": "formed-springer",
   "metadata": {
    "pycharm": {
     "name": "#%%\n"
    }
   },
   "outputs": [],
   "source": []
  }
 ],
 "metadata": {
  "kernelspec": {
   "display_name": "Python 3",
   "language": "python",
   "name": "python3"
  },
  "language_info": {
   "codemirror_mode": {
    "name": "ipython",
    "version": 3
   },
   "file_extension": ".py",
   "mimetype": "text/x-python",
   "name": "python",
   "nbconvert_exporter": "python",
   "pygments_lexer": "ipython3",
   "version": "3.7.9"
  }
 },
 "nbformat": 4,
 "nbformat_minor": 5
}