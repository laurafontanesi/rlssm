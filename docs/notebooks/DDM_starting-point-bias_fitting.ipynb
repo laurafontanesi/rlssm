{
 "cells": [
  {
   "cell_type": "markdown",
   "metadata": {},
   "source": [
    "# Parameter recovery of the DDM with starting point bias"
   ]
  },
  {
   "cell_type": "code",
   "execution_count": 1,
   "metadata": {},
   "outputs": [],
   "source": [
    "import rlssm\n",
    "import pandas as pd"
   ]
  },
  {
   "cell_type": "markdown",
   "metadata": {},
   "source": [
    "## Simulate individual data"
   ]
  },
  {
   "cell_type": "code",
   "execution_count": 2,
   "metadata": {},
   "outputs": [],
   "source": [
    "from rlssm.random import simulate_ddm"
   ]
  },
  {
   "cell_type": "code",
   "execution_count": 3,
   "metadata": {},
   "outputs": [],
   "source": [
    "data = simulate_ddm(\n",
    "    n_trials=400, \n",
    "    gen_drift=.8, \n",
    "    gen_threshold=1.3, \n",
    "    gen_ndt=.23, \n",
    "    gen_rel_sp=.6)"
   ]
  },
  {
   "cell_type": "code",
   "execution_count": 4,
   "metadata": {},
   "outputs": [
    {
     "data": {
      "text/html": [
       "<div>\n",
       "<style scoped>\n",
       "    .dataframe tbody tr th:only-of-type {\n",
       "        vertical-align: middle;\n",
       "    }\n",
       "\n",
       "    .dataframe tbody tr th {\n",
       "        vertical-align: top;\n",
       "    }\n",
       "\n",
       "    .dataframe thead th {\n",
       "        text-align: right;\n",
       "    }\n",
       "</style>\n",
       "<table border=\"1\" class=\"dataframe\">\n",
       "  <thead>\n",
       "    <tr style=\"text-align: right;\">\n",
       "      <th></th>\n",
       "      <th>rt</th>\n",
       "      <th>accuracy</th>\n",
       "    </tr>\n",
       "  </thead>\n",
       "  <tbody>\n",
       "    <tr>\n",
       "      <th>count</th>\n",
       "      <td>400.000000</td>\n",
       "      <td>400.00000</td>\n",
       "    </tr>\n",
       "    <tr>\n",
       "      <th>mean</th>\n",
       "      <td>0.583140</td>\n",
       "      <td>0.81750</td>\n",
       "    </tr>\n",
       "    <tr>\n",
       "      <th>std</th>\n",
       "      <td>0.296395</td>\n",
       "      <td>0.38674</td>\n",
       "    </tr>\n",
       "    <tr>\n",
       "      <th>min</th>\n",
       "      <td>0.257000</td>\n",
       "      <td>0.00000</td>\n",
       "    </tr>\n",
       "    <tr>\n",
       "      <th>25%</th>\n",
       "      <td>0.366000</td>\n",
       "      <td>1.00000</td>\n",
       "    </tr>\n",
       "    <tr>\n",
       "      <th>50%</th>\n",
       "      <td>0.493500</td>\n",
       "      <td>1.00000</td>\n",
       "    </tr>\n",
       "    <tr>\n",
       "      <th>75%</th>\n",
       "      <td>0.706500</td>\n",
       "      <td>1.00000</td>\n",
       "    </tr>\n",
       "    <tr>\n",
       "      <th>max</th>\n",
       "      <td>1.916000</td>\n",
       "      <td>1.00000</td>\n",
       "    </tr>\n",
       "  </tbody>\n",
       "</table>\n",
       "</div>"
      ],
      "text/plain": [
       "               rt   accuracy\n",
       "count  400.000000  400.00000\n",
       "mean     0.583140    0.81750\n",
       "std      0.296395    0.38674\n",
       "min      0.257000    0.00000\n",
       "25%      0.366000    1.00000\n",
       "50%      0.493500    1.00000\n",
       "75%      0.706500    1.00000\n",
       "max      1.916000    1.00000"
      ]
     },
     "execution_count": 4,
     "metadata": {},
     "output_type": "execute_result"
    }
   ],
   "source": [
    "data.describe()[['rt', 'accuracy']]"
   ]
  },
  {
   "cell_type": "markdown",
   "metadata": {},
   "source": [
    "## Initialize the model"
   ]
  },
  {
   "cell_type": "code",
   "execution_count": 5,
   "metadata": {},
   "outputs": [
    {
     "name": "stdout",
     "output_type": "stream",
     "text": [
      "Using cached StanModel\n"
     ]
    }
   ],
   "source": [
    "model = rlssm.DDModel(hierarchical_levels = 1, starting_point_bias=True)"
   ]
  },
  {
   "cell_type": "markdown",
   "metadata": {},
   "source": [
    "## Fit"
   ]
  },
  {
   "cell_type": "code",
   "execution_count": 6,
   "metadata": {},
   "outputs": [],
   "source": [
    "# sampling parameters\n",
    "n_iter = 3000\n",
    "n_chains = 2\n",
    "n_thin = 1\n",
    "\n",
    "# bayesian model, change default priors:\n",
    "drift_priors = {'mu':1, 'sd':3}\n",
    "threshold_priors = {'mu':-1, 'sd':3}\n",
    "ndt_priors = {'mu':-1, 'sd':1}"
   ]
  },
  {
   "cell_type": "code",
   "execution_count": 7,
   "metadata": {},
   "outputs": [
    {
     "name": "stdout",
     "output_type": "stream",
     "text": [
      "Fitting the model using the priors:\n",
      "drift_priors {'mu': 1, 'sd': 3}\n",
      "threshold_priors {'mu': -1, 'sd': 3}\n",
      "ndt_priors {'mu': -1, 'sd': 1}\n",
      "rel_sp_priors {'mu': 0, 'sd': 0.8}\n"
     ]
    },
    {
     "name": "stderr",
     "output_type": "stream",
     "text": [
      "WARNING:pystan:Maximum (flat) parameter count (1000) exceeded: skipping diagnostic tests for n_eff and Rhat.\n",
      "To run all diagnostics call pystan.check_hmc_diagnostics(fit)\n"
     ]
    },
    {
     "name": "stdout",
     "output_type": "stream",
     "text": [
      "Checks MCMC diagnostics:\n",
      "n_eff / iter looks reasonable for all parameters\n",
      "0.0 of 3000 iterations ended with a divergence (0.0%)\n",
      "0 of 3000 iterations saturated the maximum tree depth of 10 (0.0%)\n",
      "E-BFMI indicated no pathological behavior\n"
     ]
    }
   ],
   "source": [
    "model_fit = model.fit(\n",
    "    data,\n",
    "    drift_priors=drift_priors,\n",
    "    threshold_priors=threshold_priors,\n",
    "    ndt_priors=ndt_priors,\n",
    "    thin = n_thin,\n",
    "    iter = n_iter,\n",
    "    chains = n_chains,\n",
    "    verbose = False)"
   ]
  },
  {
   "cell_type": "markdown",
   "metadata": {},
   "source": [
    "### get Rhat"
   ]
  },
  {
   "cell_type": "code",
   "execution_count": 8,
   "metadata": {},
   "outputs": [
    {
     "data": {
      "text/html": [
       "<div>\n",
       "<style scoped>\n",
       "    .dataframe tbody tr th:only-of-type {\n",
       "        vertical-align: middle;\n",
       "    }\n",
       "\n",
       "    .dataframe tbody tr th {\n",
       "        vertical-align: top;\n",
       "    }\n",
       "\n",
       "    .dataframe thead th {\n",
       "        text-align: right;\n",
       "    }\n",
       "</style>\n",
       "<table border=\"1\" class=\"dataframe\">\n",
       "  <thead>\n",
       "    <tr style=\"text-align: right;\">\n",
       "      <th></th>\n",
       "      <th>rhat</th>\n",
       "      <th>variable</th>\n",
       "    </tr>\n",
       "  </thead>\n",
       "  <tbody>\n",
       "    <tr>\n",
       "      <th>0</th>\n",
       "      <td>1.002813</td>\n",
       "      <td>drift</td>\n",
       "    </tr>\n",
       "    <tr>\n",
       "      <th>1</th>\n",
       "      <td>1.000353</td>\n",
       "      <td>threshold</td>\n",
       "    </tr>\n",
       "    <tr>\n",
       "      <th>2</th>\n",
       "      <td>0.999921</td>\n",
       "      <td>ndt</td>\n",
       "    </tr>\n",
       "    <tr>\n",
       "      <th>3</th>\n",
       "      <td>1.003156</td>\n",
       "      <td>rel_sp</td>\n",
       "    </tr>\n",
       "  </tbody>\n",
       "</table>\n",
       "</div>"
      ],
      "text/plain": [
       "       rhat   variable\n",
       "0  1.002813      drift\n",
       "1  1.000353  threshold\n",
       "2  0.999921        ndt\n",
       "3  1.003156     rel_sp"
      ]
     },
     "execution_count": 8,
     "metadata": {},
     "output_type": "execute_result"
    }
   ],
   "source": [
    "model_fit.rhat"
   ]
  },
  {
   "cell_type": "markdown",
   "metadata": {},
   "source": [
    "### calculate wAIC"
   ]
  },
  {
   "cell_type": "code",
   "execution_count": 9,
   "metadata": {},
   "outputs": [
    {
     "data": {
      "text/plain": [
       "{'lppd': -122.26126045695726,\n",
       " 'p_waic': 3.682425753566376,\n",
       " 'waic': 251.88737242104727,\n",
       " 'waic_se': 47.269086540763105}"
      ]
     },
     "execution_count": 9,
     "metadata": {},
     "output_type": "execute_result"
    }
   ],
   "source": [
    "model_fit.waic"
   ]
  },
  {
   "cell_type": "markdown",
   "metadata": {},
   "source": [
    "## Posteriors"
   ]
  },
  {
   "cell_type": "code",
   "execution_count": 10,
   "metadata": {},
   "outputs": [
    {
     "data": {
      "text/html": [
       "<div>\n",
       "<style scoped>\n",
       "    .dataframe tbody tr th:only-of-type {\n",
       "        vertical-align: middle;\n",
       "    }\n",
       "\n",
       "    .dataframe tbody tr th {\n",
       "        vertical-align: top;\n",
       "    }\n",
       "\n",
       "    .dataframe thead th {\n",
       "        text-align: right;\n",
       "    }\n",
       "</style>\n",
       "<table border=\"1\" class=\"dataframe\">\n",
       "  <thead>\n",
       "    <tr style=\"text-align: right;\">\n",
       "      <th></th>\n",
       "      <th>chain</th>\n",
       "      <th>draw</th>\n",
       "      <th>transf_drift</th>\n",
       "      <th>transf_threshold</th>\n",
       "      <th>transf_ndt</th>\n",
       "      <th>transf_rel_sp</th>\n",
       "    </tr>\n",
       "  </thead>\n",
       "  <tbody>\n",
       "    <tr>\n",
       "      <th>count</th>\n",
       "      <td>3000.000000</td>\n",
       "      <td>3000.000000</td>\n",
       "      <td>3000.000000</td>\n",
       "      <td>3000.000000</td>\n",
       "      <td>3000.000000</td>\n",
       "      <td>3000.000000</td>\n",
       "    </tr>\n",
       "    <tr>\n",
       "      <th>mean</th>\n",
       "      <td>0.500000</td>\n",
       "      <td>749.500000</td>\n",
       "      <td>0.792928</td>\n",
       "      <td>1.306639</td>\n",
       "      <td>0.233079</td>\n",
       "      <td>0.604580</td>\n",
       "    </tr>\n",
       "    <tr>\n",
       "      <th>std</th>\n",
       "      <td>0.500083</td>\n",
       "      <td>433.084792</td>\n",
       "      <td>0.103006</td>\n",
       "      <td>0.033952</td>\n",
       "      <td>0.004736</td>\n",
       "      <td>0.019013</td>\n",
       "    </tr>\n",
       "    <tr>\n",
       "      <th>min</th>\n",
       "      <td>0.000000</td>\n",
       "      <td>0.000000</td>\n",
       "      <td>0.338697</td>\n",
       "      <td>1.204520</td>\n",
       "      <td>0.214251</td>\n",
       "      <td>0.537698</td>\n",
       "    </tr>\n",
       "    <tr>\n",
       "      <th>25%</th>\n",
       "      <td>0.000000</td>\n",
       "      <td>374.750000</td>\n",
       "      <td>0.721867</td>\n",
       "      <td>1.283811</td>\n",
       "      <td>0.230113</td>\n",
       "      <td>0.591341</td>\n",
       "    </tr>\n",
       "    <tr>\n",
       "      <th>50%</th>\n",
       "      <td>0.500000</td>\n",
       "      <td>749.500000</td>\n",
       "      <td>0.793180</td>\n",
       "      <td>1.306182</td>\n",
       "      <td>0.233424</td>\n",
       "      <td>0.604716</td>\n",
       "    </tr>\n",
       "    <tr>\n",
       "      <th>75%</th>\n",
       "      <td>1.000000</td>\n",
       "      <td>1124.250000</td>\n",
       "      <td>0.863523</td>\n",
       "      <td>1.329765</td>\n",
       "      <td>0.236436</td>\n",
       "      <td>0.617648</td>\n",
       "    </tr>\n",
       "    <tr>\n",
       "      <th>max</th>\n",
       "      <td>1.000000</td>\n",
       "      <td>1499.000000</td>\n",
       "      <td>1.242643</td>\n",
       "      <td>1.431171</td>\n",
       "      <td>0.247481</td>\n",
       "      <td>0.668216</td>\n",
       "    </tr>\n",
       "  </tbody>\n",
       "</table>\n",
       "</div>"
      ],
      "text/plain": [
       "             chain         draw  transf_drift  transf_threshold   transf_ndt  \\\n",
       "count  3000.000000  3000.000000   3000.000000       3000.000000  3000.000000   \n",
       "mean      0.500000   749.500000      0.792928          1.306639     0.233079   \n",
       "std       0.500083   433.084792      0.103006          0.033952     0.004736   \n",
       "min       0.000000     0.000000      0.338697          1.204520     0.214251   \n",
       "25%       0.000000   374.750000      0.721867          1.283811     0.230113   \n",
       "50%       0.500000   749.500000      0.793180          1.306182     0.233424   \n",
       "75%       1.000000  1124.250000      0.863523          1.329765     0.236436   \n",
       "max       1.000000  1499.000000      1.242643          1.431171     0.247481   \n",
       "\n",
       "       transf_rel_sp  \n",
       "count    3000.000000  \n",
       "mean        0.604580  \n",
       "std         0.019013  \n",
       "min         0.537698  \n",
       "25%         0.591341  \n",
       "50%         0.604716  \n",
       "75%         0.617648  \n",
       "max         0.668216  "
      ]
     },
     "execution_count": 10,
     "metadata": {},
     "output_type": "execute_result"
    }
   ],
   "source": [
    "model_fit.samples.describe()"
   ]
  },
  {
   "cell_type": "code",
   "execution_count": 11,
   "metadata": {},
   "outputs": [],
   "source": [
    "import seaborn as sns\n",
    "sns.set(context = \"talk\", \n",
    "        style = \"white\", \n",
    "        palette = \"husl\",\n",
    "        rc={'figure.figsize':(15, 8)})"
   ]
  },
  {
   "cell_type": "markdown",
   "metadata": {},
   "source": [
    "Here we plot the estimated posterior distributions against the generating parameters, to see whether the model parameters are recovering well:"
   ]
  },
  {
   "cell_type": "code",
   "execution_count": 12,
   "metadata": {},
   "outputs": [
    {
     "data": {
      "image/png": "[encoded data removed]",
      "text/plain": [
       "<Figure size 1440x360 with 4 Axes>"
      ]
     },
     "metadata": {},
     "output_type": "display_data"
    }
   ],
   "source": [
    "g = model_fit.plot_posteriors(height=5, show_intervals='HDI')\n",
    "\n",
    "for i, ax in enumerate(g.axes.flatten()):\n",
    "    ax.axvline(data[['drift', 'threshold', 'ndt', 'rel_sp']].mean().values[i], color='grey', linestyle='--')"
   ]
  }
 ],
 "metadata": {
  "kernelspec": {
   "display_name": "Python 3",
   "language": "python",
   "name": "python3"
  },
  "language_info": {
   "codemirror_mode": {
    "name": "ipython",
    "version": 3
   },
   "file_extension": ".py",
   "mimetype": "text/x-python",
   "name": "python",
   "nbconvert_exporter": "python",
   "pygments_lexer": "ipython3",
   "version": "3.7.9"
  }
 },
 "nbformat": 4,
 "nbformat_minor": 4
}
