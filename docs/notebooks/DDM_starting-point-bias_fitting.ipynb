{
 "cells": [
  {
   "cell_type": "markdown",
   "metadata": {
    "pycharm": {
     "name": "#%% md\n"
    }
   },
   "source": [
    "# Parameter recovery of the DDM with starting point bias"
   ]
  },
  {
   "cell_type": "code",
   "execution_count": 1,
   "metadata": {
    "pycharm": {
     "name": "#%%\n"
    }
   },
   "outputs": [],
   "source": [
    "from rlssm.random.random_DDM import simulate_ddm\n",
    "from rlssm.model.models_DDM import DDModel"
   ]
  },
  {
   "cell_type": "markdown",
   "metadata": {
    "pycharm": {
     "name": "#%% md\n"
    }
   },
   "source": [
    "## Simulate individual data"
   ]
  },
  {
   "cell_type": "code",
   "execution_count": 2,
   "metadata": {
    "pycharm": {
     "name": "#%%\n"
    }
   },
   "outputs": [],
   "source": [
    "data = simulate_ddm(\n",
    "    n_trials=400, \n",
    "    gen_drift=.8, \n",
    "    gen_threshold=1.3, \n",
    "    gen_ndt=.23, \n",
    "    gen_rel_sp=.6)"
   ]
  },
  {
   "cell_type": "code",
   "execution_count": 3,
   "metadata": {
    "pycharm": {
     "name": "#%%\n"
    }
   },
   "outputs": [
    {
     "data": {
      "text/plain": "               rt    accuracy\ncount  400.000000  400.000000\nmean     0.613583    0.852500\nstd      0.325006    0.355048\nmin      0.263000    0.000000\n25%      0.381500    1.000000\n50%      0.518500    1.000000\n75%      0.746000    1.000000\nmax      2.204000    1.000000",
      "text/html": "<div>\n<style scoped>\n    .dataframe tbody tr th:only-of-type {\n        vertical-align: middle;\n    }\n\n    .dataframe tbody tr th {\n        vertical-align: top;\n    }\n\n    .dataframe thead th {\n        text-align: right;\n    }\n</style>\n<table border=\"1\" class=\"dataframe\">\n  <thead>\n    <tr style=\"text-align: right;\">\n      <th></th>\n      <th>rt</th>\n      <th>accuracy</th>\n    </tr>\n  </thead>\n  <tbody>\n    <tr>\n      <th>count</th>\n      <td>400.000000</td>\n      <td>400.000000</td>\n    </tr>\n    <tr>\n      <th>mean</th>\n      <td>0.613583</td>\n      <td>0.852500</td>\n    </tr>\n    <tr>\n      <th>std</th>\n      <td>0.325006</td>\n      <td>0.355048</td>\n    </tr>\n    <tr>\n      <th>min</th>\n      <td>0.263000</td>\n      <td>0.000000</td>\n    </tr>\n    <tr>\n      <th>25%</th>\n      <td>0.381500</td>\n      <td>1.000000</td>\n    </tr>\n    <tr>\n      <th>50%</th>\n      <td>0.518500</td>\n      <td>1.000000</td>\n    </tr>\n    <tr>\n      <th>75%</th>\n      <td>0.746000</td>\n      <td>1.000000</td>\n    </tr>\n    <tr>\n      <th>max</th>\n      <td>2.204000</td>\n      <td>1.000000</td>\n    </tr>\n  </tbody>\n</table>\n</div>"
     },
     "execution_count": 3,
     "metadata": {},
     "output_type": "execute_result"
    }
   ],
   "source": [
    "data.describe()[['rt', 'accuracy']]"
   ]
  },
  {
   "cell_type": "markdown",
   "metadata": {
    "pycharm": {
     "name": "#%% md\n"
    }
   },
   "source": [
    "## Initialize the model"
   ]
  },
  {
   "cell_type": "code",
   "execution_count": 4,
   "metadata": {
    "pycharm": {
     "name": "#%%\n"
    }
   },
   "outputs": [
    {
     "name": "stderr",
     "output_type": "stream",
     "text": [
      "14:06:09 - cmdstanpy - INFO - compiling stan file /home/andrei/PycharmProjects/rlssm/rlssm/stan_models/DDM/DDM_bias.stan to exe file /home/andrei/PycharmProjects/rlssm/rlssm/stan_models/DDM/DDM_bias\n",
      "14:06:24 - cmdstanpy - INFO - compiled model executable: /home/andrei/PycharmProjects/rlssm/rlssm/stan_models/DDM/DDM_bias\n",
      "14:06:24 - cmdstanpy - WARNING - Stan compiler has produced 9 warnings:\n",
      "14:06:24 - cmdstanpy - WARNING - \n",
      "--- Translating Stan model to C++ code ---\n",
      "bin/stanc  --o=/home/andrei/PycharmProjects/rlssm/rlssm/stan_models/DDM/DDM_bias.hpp /home/andrei/PycharmProjects/rlssm/rlssm/stan_models/DDM/DDM_bias.stan\n",
      "Warning in '/home/andrei/PycharmProjects/rlssm/rlssm/stan_models/DDM/DDM_bias.stan', line 4, column 1: Declaration\n",
      "    of arrays by placing brackets after a variable name is deprecated and\n",
      "    will be removed in Stan 2.32.0. Instead use the array keyword before the\n",
      "    type. This can be changed automatically using the auto-format flag to\n",
      "    stanc\n",
      "Warning in '/home/andrei/PycharmProjects/rlssm/rlssm/stan_models/DDM/DDM_bias.stan', line 5, column 1: Declaration\n",
      "    of arrays by placing brackets after a variable name is deprecated and\n",
      "    will be removed in Stan 2.32.0. Instead use the array keyword before the\n",
      "    type. This can be changed automatically using the auto-format flag to\n",
      "    stanc\n",
      "Warning in '/home/andrei/PycharmProjects/rlssm/rlssm/stan_models/DDM/DDM_bias.stan', line 6, column 1: Declaration\n",
      "    of arrays by placing brackets after a variable name is deprecated and\n",
      "    will be removed in Stan 2.32.0. Instead use the array keyword before the\n",
      "    type. This can be changed automatically using the auto-format flag to\n",
      "    stanc\n",
      "Warning in '/home/andrei/PycharmProjects/rlssm/rlssm/stan_models/DDM/DDM_bias.stan', line 20, column 1: Declaration\n",
      "    of arrays by placing brackets after a variable name is deprecated and\n",
      "    will be removed in Stan 2.32.0. Instead use the array keyword before the\n",
      "    type. This can be changed automatically using the auto-format flag to\n",
      "    stanc\n",
      "Warning in '/home/andrei/PycharmProjects/rlssm/rlssm/stan_models/DDM/DDM_bias.stan', line 21, column 1: Declaration\n",
      "    of arrays by placing brackets after a variable name is deprecated and\n",
      "    will be removed in Stan 2.32.0. Instead use the array keyword before the\n",
      "    type. This can be changed automatically using the auto-format flag to\n",
      "    stanc\n",
      "Warning in '/home/andrei/PycharmProjects/rlssm/rlssm/stan_models/DDM/DDM_bias.stan', line 22, column 1: Declaration\n",
      "    of arrays by placing brackets after a variable name is deprecated and\n",
      "    will be removed in Stan 2.32.0. Instead use the array keyword before the\n",
      "    type. This can be changed automatically using the auto-format flag to\n",
      "    stanc\n",
      "Warning in '/home/andrei/PycharmProjects/rlssm/rlssm/stan_models/DDM/DDM_bias.stan', line 23, column 1: Declaration\n",
      "    of arrays by placing brackets after a variable name is deprecated and\n",
      "    will be removed in Stan 2.32.0. Instead use the array keyword before the\n",
      "    type. This can be changed automatically using the auto-format flag to\n",
      "    stanc\n",
      "Warning in '/home/andrei/PycharmProjects/rlssm/rlssm/stan_models/DDM/DDM_bias.stan', line 24, column 1: Declaration\n",
      "    of arrays by placing brackets after a variable name is deprecated and\n",
      "    will be removed in Stan 2.32.0. Instead use the array keyword before the\n",
      "    type. This can be changed automatically using the auto-format flag to\n",
      "    stanc\n",
      "Warning in '/home/andrei/PycharmProjects/rlssm/rlssm/stan_models/DDM/DDM_bias.stan', line 25, column 1: Declaration\n",
      "    of arrays by placing brackets after a variable name is deprecated and\n",
      "    will be removed in Stan 2.32.0. Instead use the array keyword before the\n",
      "    type. This can be changed automatically using the auto-format flag to\n",
      "    stanc\n",
      "\n",
      "--- Compiling, linking C++ code ---\n",
      "g++ -std=c++1y -pthread -D_REENTRANT -Wno-sign-compare -Wno-ignored-attributes      -I stan/lib/stan_math/lib/tbb_2020.3/include    -O3 -I src -I stan/src -I lib/rapidjson_1.1.0/ -I lib/CLI11-1.9.1/ -I stan/lib/stan_math/ -I stan/lib/stan_math/lib/eigen_3.3.9 -I stan/lib/stan_math/lib/boost_1.78.0 -I stan/lib/stan_math/lib/sundials_6.1.1/include -I stan/lib/stan_math/lib/sundials_6.1.1/src/sundials    -DBOOST_DISABLE_ASSERTS          -c -Wno-ignored-attributes   -x c++ -o /home/andrei/PycharmProjects/rlssm/rlssm/stan_models/DDM/DDM_bias.o /home/andrei/PycharmProjects/rlssm/rlssm/stan_models/DDM/DDM_bias.hpp\n",
      "g++ -std=c++1y -pthread -D_REENTRANT -Wno-sign-compare -Wno-ignored-attributes      -I stan/lib/stan_math/lib/tbb_2020.3/include    -O3 -I src -I stan/src -I lib/rapidjson_1.1.0/ -I lib/CLI11-1.9.1/ -I stan/lib/stan_math/ -I stan/lib/stan_math/lib/eigen_3.3.9 -I stan/lib/stan_math/lib/boost_1.78.0 -I stan/lib/stan_math/lib/sundials_6.1.1/include -I stan/lib/stan_math/lib/sundials_6.1.1/src/sundials    -DBOOST_DISABLE_ASSERTS                -Wl,-L,\"/home/andrei/.cmdstan/cmdstan-2.30.0/stan/lib/stan_math/lib/tbb\" -Wl,-rpath,\"/home/andrei/.cmdstan/cmdstan-2.30.0/stan/lib/stan_math/lib/tbb\"      /home/andrei/PycharmProjects/rlssm/rlssm/stan_models/DDM/DDM_bias.o src/cmdstan/main.o        -Wl,-L,\"/home/andrei/.cmdstan/cmdstan-2.30.0/stan/lib/stan_math/lib/tbb\" -Wl,-rpath,\"/home/andrei/.cmdstan/cmdstan-2.30.0/stan/lib/stan_math/lib/tbb\"   stan/lib/stan_math/lib/sundials_6.1.1/lib/libsundials_nvecserial.a stan/lib/stan_math/lib/sundials_6.1.1/lib/libsundials_cvodes.a stan/lib/stan_math/lib/sundials_6.1.1/lib/libsundials_idas.a stan/lib/stan_math/lib/sundials_6.1.1/lib/libsundials_kinsol.a  stan/lib/stan_math/lib/tbb/libtbb.so.2 -o /home/andrei/PycharmProjects/rlssm/rlssm/stan_models/DDM/DDM_bias\n",
      "rm -f /home/andrei/PycharmProjects/rlssm/rlssm/stan_models/DDM/DDM_bias.o\n",
      "\n"
     ]
    }
   ],
   "source": [
    "model = DDModel(hierarchical_levels = 1, starting_point_bias=True)"
   ]
  },
  {
   "cell_type": "markdown",
   "metadata": {
    "pycharm": {
     "name": "#%% md\n"
    }
   },
   "source": [
    "## Fit"
   ]
  },
  {
   "cell_type": "code",
   "execution_count": 5,
   "outputs": [],
   "source": [
    "# sampling parameters\n",
    "n_warmup = 1500\n",
    "n_sampling = 1500\n",
    "n_chains = 2\n",
    "n_thin = 1\n",
    "\n",
    "# bayesian model, change default priors:\n",
    "drift_priors = {'mu':1, 'sd':3}\n",
    "threshold_priors = {'mu':-1, 'sd':3}\n",
    "ndt_priors = {'mu':-1, 'sd':1}"
   ],
   "metadata": {
    "collapsed": false,
    "pycharm": {
     "name": "#%%\n"
    }
   }
  },
  {
   "cell_type": "code",
   "execution_count": 6,
   "outputs": [
    {
     "name": "stderr",
     "output_type": "stream",
     "text": [
      "14:06:24 - cmdstanpy - INFO - CmdStan start processing\n"
     ]
    },
    {
     "name": "stdout",
     "output_type": "stream",
     "text": [
      "Fitting the model using the priors:\n",
      "drift_priors {'mu': 1, 'sd': 3}\n",
      "threshold_priors {'mu': -1, 'sd': 3}\n",
      "ndt_priors {'mu': -1, 'sd': 1}\n",
      "rel_sp_priors {'mu': 0, 'sd': 0.8}\n"
     ]
    },
    {
     "data": {
      "text/plain": "chain 1 |          | 00:00 Status",
      "application/vnd.jupyter.widget-view+json": {
       "version_major": 2,
       "version_minor": 0,
       "model_id": "68f3ef2886c3491fac3b0ff9c93b427f"
      }
     },
     "metadata": {},
     "output_type": "display_data"
    },
    {
     "data": {
      "text/plain": "chain 2 |          | 00:00 Status",
      "application/vnd.jupyter.widget-view+json": {
       "version_major": 2,
       "version_minor": 0,
       "model_id": "763658ecf0b34924b3aac31c4cbf353d"
      }
     },
     "metadata": {},
     "output_type": "display_data"
    },
    {
     "name": "stdout",
     "output_type": "stream",
     "text": [
      "                                                                                                                                                                "
     ]
    },
    {
     "name": "stderr",
     "output_type": "stream",
     "text": [
      "14:06:48 - cmdstanpy - INFO - CmdStan done processing.\n",
      "14:06:48 - cmdstanpy - WARNING - Non-fatal error during sampling:\n",
      "Exception: wiener_lpdf: Random variable  = 0.576, but must be greater than nondecision time = 0.665142 (in '/home/andrei/PycharmProjects/rlssm/rlssm/stan_models/DDM/DDM_bias.stan', line 52, column 1 to column 54)\n",
      "\tException: wiener_lpdf: Random variable  = 0.312, but must be greater than nondecision time = 0.313945 (in '/home/andrei/PycharmProjects/rlssm/rlssm/stan_models/DDM/DDM_bias.stan', line 52, column 1 to column 54)\n",
      "\tException: wiener_lpdf: Random variable  = 0.297, but must be greater than nondecision time = 0.307416 (in '/home/andrei/PycharmProjects/rlssm/rlssm/stan_models/DDM/DDM_bias.stan', line 52, column 1 to column 54)\n",
      "\tException: wiener_lpdf: Random variable  = 0.312, but must be greater than nondecision time = 0.357634 (in '/home/andrei/PycharmProjects/rlssm/rlssm/stan_models/DDM/DDM_bias.stan', line 52, column 1 to column 54)\n",
      "\tException: wiener_lpdf: Random variable  = 0.576, but must be greater than nondecision time = 0.693234 (in '/home/andrei/PycharmProjects/rlssm/rlssm/stan_models/DDM/DDM_bias.stan', line 52, column 1 to column 54)\n",
      "\tException: wiener_lpdf: Boundary separation[1] is inf, but must be positive finite! (in '/home/andrei/PycharmProjects/rlssm/rlssm/stan_models/DDM/DDM_bias.stan', line 52, column 1 to column 54)\n",
      "\tException: wiener_lpdf: Boundary separation[1] is inf, but must be positive finite! (in '/home/andrei/PycharmProjects/rlssm/rlssm/stan_models/DDM/DDM_bias.stan', line 52, column 1 to column 54)\n",
      "\tException: wiener_lpdf: Boundary separation[1] is inf, but must be positive finite! (in '/home/andrei/PycharmProjects/rlssm/rlssm/stan_models/DDM/DDM_bias.stan', line 52, column 1 to column 54)\n",
      "\tException: wiener_lpdf: Random variable  = 0.576, but must be greater than nondecision time = 130.635 (in '/home/andrei/PycharmProjects/rlssm/rlssm/stan_models/DDM/DDM_bias.stan', line 52, column 1 to column 54)\n",
      "\tException: wiener_lpdf: Random variable  = 0.576, but must be greater than nondecision time = 31.375 (in '/home/andrei/PycharmProjects/rlssm/rlssm/stan_models/DDM/DDM_bias.stan', line 52, column 1 to column 54)\n",
      "\tException: wiener_lpdf: Random variable  = 0.576, but must be greater than nondecision time = 6.49298 (in '/home/andrei/PycharmProjects/rlssm/rlssm/stan_models/DDM/DDM_bias.stan', line 52, column 1 to column 54)\n",
      "\tException: wiener_lpdf: Random variable  = 0.576, but must be greater than nondecision time = 0.821058 (in '/home/andrei/PycharmProjects/rlssm/rlssm/stan_models/DDM/DDM_bias.stan', line 52, column 1 to column 54)\n",
      "\tException: wiener_lpdf: Random variable  = 0.263, but must be greater than nondecision time = 0.277087 (in '/home/andrei/PycharmProjects/rlssm/rlssm/stan_models/DDM/DDM_bias.stan', line 52, column 1 to column 54)\n",
      "\tException: wiener_lpdf: Boundary separation[1] is inf, but must be positive finite! (in '/home/andrei/PycharmProjects/rlssm/rlssm/stan_models/DDM/DDM_bias.stan', line 52, column 1 to column 54)\n",
      "\tException: wiener_lpdf: Boundary separation[1] is inf, but must be positive finite! (in '/home/andrei/PycharmProjects/rlssm/rlssm/stan_models/DDM/DDM_bias.stan', line 52, column 1 to column 54)\n",
      "\tException: wiener_lpdf: Random variable  = 0.576, but must be greater than nondecision time = 5.74828 (in '/home/andrei/PycharmProjects/rlssm/rlssm/stan_models/DDM/DDM_bias.stan', line 52, column 1 to column 54)\n",
      "\tException: wiener_lpdf: Random variable  = 0.263, but must be greater than nondecision time = 0.27738 (in '/home/andrei/PycharmProjects/rlssm/rlssm/stan_models/DDM/DDM_bias.stan', line 52, column 1 to column 54)\n",
      "\tException: wiener_lpdf: Random variable  = 0.263, but must be greater than nondecision time = 0.284025 (in '/home/andrei/PycharmProjects/rlssm/rlssm/stan_models/DDM/DDM_bias.stan', line 52, column 1 to column 54)\n",
      "\tException: wiener_lpdf: Random variable  = 0.263, but must be greater than nondecision time = 0.292601 (in '/home/andrei/PycharmProjects/rlssm/rlssm/stan_models/DDM/DDM_bias.stan', line 52, column 1 to column 54)\n",
      "\tException: wiener_lpdf: Random variable  = 0.263, but must be greater than nondecision time = 0.279668 (in '/home/andrei/PycharmProjects/rlssm/rlssm/stan_models/DDM/DDM_bias.stan', line 52, column 1 to column 54)\n",
      "\tException: wiener_lpdf: Random variable  = 0.312, but must be greater than nondecision time = 0.385589 (in '/home/andrei/PycharmProjects/rlssm/rlssm/stan_models/DDM/DDM_bias.stan', line 52, column 1 to column 54)\n",
      "\tException: wiener_lpdf: Random variable  = 0.263, but must be greater than nondecision time = 0.271502 (in '/home/andrei/PycharmProjects/rlssm/rlssm/stan_models/DDM/DDM_bias.stan', line 52, column 1 to column 54)\n",
      "Exception: wiener_lpdf: Random variable  = 0.576, but must be greater than nondecision time = 1.8703 (in '/home/andrei/PycharmProjects/rlssm/rlssm/stan_models/DDM/DDM_bias.stan', line 52, column 1 to column 54)\n",
      "\tException: wiener_lpdf: Random variable  = 0.576, but must be greater than nondecision time = 0.749644 (in '/home/andrei/PycharmProjects/rlssm/rlssm/stan_models/DDM/DDM_bias.stan', line 52, column 1 to column 54)\n",
      "\tException: wiener_lpdf: Random variable  = 0.576, but must be greater than nondecision time = 1.07462 (in '/home/andrei/PycharmProjects/rlssm/rlssm/stan_models/DDM/DDM_bias.stan', line 52, column 1 to column 54)\n",
      "\tException: wiener_lpdf: Random variable  = 0.576, but must be greater than nondecision time = 0.646254 (in '/home/andrei/PycharmProjects/rlssm/rlssm/stan_models/DDM/DDM_bias.stan', line 52, column 1 to column 54)\n",
      "\tException: wiener_lpdf: Random variable  = 0.576, but must be greater than nondecision time = 1.90141 (in '/home/andrei/PycharmProjects/rlssm/rlssm/stan_models/DDM/DDM_bias.stan', line 52, column 1 to column 54)\n",
      "\tException: wiener_lpdf: Boundary separation[1] is inf, but must be positive finite! (in '/home/andrei/PycharmProjects/rlssm/rlssm/stan_models/DDM/DDM_bias.stan', line 52, column 1 to column 54)\n",
      "\tException: wiener_lpdf: Boundary separation[1] is inf, but must be positive finite! (in '/home/andrei/PycharmProjects/rlssm/rlssm/stan_models/DDM/DDM_bias.stan', line 52, column 1 to column 54)\n",
      "\tException: wiener_lpdf: Boundary separation[1] is inf, but must be positive finite! (in '/home/andrei/PycharmProjects/rlssm/rlssm/stan_models/DDM/DDM_bias.stan', line 52, column 1 to column 54)\n",
      "\tException: wiener_lpdf: Random variable  = 0.576, but must be greater than nondecision time = 45.5937 (in '/home/andrei/PycharmProjects/rlssm/rlssm/stan_models/DDM/DDM_bias.stan', line 52, column 1 to column 54)\n",
      "\tException: wiener_lpdf: Random variable  = 0.576, but must be greater than nondecision time = 10.074 (in '/home/andrei/PycharmProjects/rlssm/rlssm/stan_models/DDM/DDM_bias.stan', line 52, column 1 to column 54)\n",
      "\tException: wiener_lpdf: Random variable  = 0.576, but must be greater than nondecision time = 1.54178 (in '/home/andrei/PycharmProjects/rlssm/rlssm/stan_models/DDM/DDM_bias.stan', line 52, column 1 to column 54)\n",
      "\tException: wiener_lpdf: Random variable  = 0.312, but must be greater than nondecision time = 0.324034 (in '/home/andrei/PycharmProjects/rlssm/rlssm/stan_models/DDM/DDM_bias.stan', line 52, column 1 to column 54)\n",
      "\tException: wiener_lpdf: Boundary separation[1] is inf, but must be positive finite! (in '/home/andrei/PycharmProjects/rlssm/rlssm/stan_models/DDM/DDM_bias.stan', line 52, column 1 to column 54)\n",
      "\tException: wiener_lpdf: Boundary separation[1] is inf, but must be positive finite! (in '/home/andrei/PycharmProjects/rlssm/rlssm/stan_models/DDM/DDM_bias.stan', line 52, column 1 to column 54)\n",
      "\tException: wiener_lpdf: Random variable  = 0.576, but must be greater than nondecision time = 17.5954 (in '/home/andrei/PycharmProjects/rlssm/rlssm/stan_models/DDM/DDM_bias.stan', line 52, column 1 to column 54)\n",
      "\tException: wiener_lpdf: Random variable  = 0.263, but must be greater than nondecision time = 0.278461 (in '/home/andrei/PycharmProjects/rlssm/rlssm/stan_models/DDM/DDM_bias.stan', line 52, column 1 to column 54)\n",
      "\tException: wiener_lpdf: Random variable  = 0.263, but must be greater than nondecision time = 0.268035 (in '/home/andrei/PycharmProjects/rlssm/rlssm/stan_models/DDM/DDM_bias.stan', line 52, column 1 to column 54)\n",
      "\tException: wiener_lpdf: Random variable  = 0.263, but must be greater than nondecision time = 0.293662 (in '/home/andrei/PycharmProjects/rlssm/rlssm/stan_models/DDM/DDM_bias.stan', line 52, column 1 to column 54)\n",
      "Consider re-running with show_console=True if the above output is unclear!\n"
     ]
    },
    {
     "name": "stdout",
     "output_type": "stream",
     "text": [
      "\n",
      "Checks MCMC diagnostics:\n",
      "n_eff / iter looks reasonable for all parameters\n",
      "0 of 3000 iterations saturated the maximum tree depth of 10 (0.0%)\n",
      "E-BFMI indicated no pathological behavior\n",
      "0.0 of 3000 iterations ended with a divergence (0.0%)\n"
     ]
    }
   ],
   "source": [
    "model_fit = model.fit(\n",
    "    data,\n",
    "    drift_priors=drift_priors,\n",
    "    threshold_priors=threshold_priors,\n",
    "    ndt_priors=ndt_priors,\n",
    "    thin = n_thin,\n",
    "    iter_warmup=n_warmup,\n",
    "    iter_sampling=n_sampling,\n",
    "    chains = n_chains)"
   ],
   "metadata": {
    "collapsed": false,
    "pycharm": {
     "name": "#%%\n"
    }
   }
  },
  {
   "cell_type": "markdown",
   "metadata": {
    "pycharm": {
     "name": "#%% md\n"
    }
   },
   "source": [
    "### get Rhat"
   ]
  },
  {
   "cell_type": "code",
   "execution_count": 7,
   "metadata": {
    "pycharm": {
     "name": "#%%\n"
    }
   },
   "outputs": [
    {
     "data": {
      "text/plain": "                  rhat      variable\nname                                \nlp__          1.001140          lp__\ndrift         1.001710         drift\nthreshold     0.999557     threshold\nndt           1.001130           ndt\nrel_sp        1.003200        rel_sp\n...                ...           ...\nlog_lik[396]  1.000650  log_lik[396]\nlog_lik[397]  1.000030  log_lik[397]\nlog_lik[398]  1.000490  log_lik[398]\nlog_lik[399]  1.000030  log_lik[399]\nlog_lik[400]  0.999870  log_lik[400]\n\n[2809 rows x 2 columns]",
      "text/html": "<div>\n<style scoped>\n    .dataframe tbody tr th:only-of-type {\n        vertical-align: middle;\n    }\n\n    .dataframe tbody tr th {\n        vertical-align: top;\n    }\n\n    .dataframe thead th {\n        text-align: right;\n    }\n</style>\n<table border=\"1\" class=\"dataframe\">\n  <thead>\n    <tr style=\"text-align: right;\">\n      <th></th>\n      <th>rhat</th>\n      <th>variable</th>\n    </tr>\n    <tr>\n      <th>name</th>\n      <th></th>\n      <th></th>\n    </tr>\n  </thead>\n  <tbody>\n    <tr>\n      <th>lp__</th>\n      <td>1.001140</td>\n      <td>lp__</td>\n    </tr>\n    <tr>\n      <th>drift</th>\n      <td>1.001710</td>\n      <td>drift</td>\n    </tr>\n    <tr>\n      <th>threshold</th>\n      <td>0.999557</td>\n      <td>threshold</td>\n    </tr>\n    <tr>\n      <th>ndt</th>\n      <td>1.001130</td>\n      <td>ndt</td>\n    </tr>\n    <tr>\n      <th>rel_sp</th>\n      <td>1.003200</td>\n      <td>rel_sp</td>\n    </tr>\n    <tr>\n      <th>...</th>\n      <td>...</td>\n      <td>...</td>\n    </tr>\n    <tr>\n      <th>log_lik[396]</th>\n      <td>1.000650</td>\n      <td>log_lik[396]</td>\n    </tr>\n    <tr>\n      <th>log_lik[397]</th>\n      <td>1.000030</td>\n      <td>log_lik[397]</td>\n    </tr>\n    <tr>\n      <th>log_lik[398]</th>\n      <td>1.000490</td>\n      <td>log_lik[398]</td>\n    </tr>\n    <tr>\n      <th>log_lik[399]</th>\n      <td>1.000030</td>\n      <td>log_lik[399]</td>\n    </tr>\n    <tr>\n      <th>log_lik[400]</th>\n      <td>0.999870</td>\n      <td>log_lik[400]</td>\n    </tr>\n  </tbody>\n</table>\n<p>2809 rows × 2 columns</p>\n</div>"
     },
     "execution_count": 7,
     "metadata": {},
     "output_type": "execute_result"
    }
   ],
   "source": [
    "model_fit.rhat"
   ]
  },
  {
   "cell_type": "markdown",
   "metadata": {
    "pycharm": {
     "name": "#%% md\n"
    }
   },
   "source": [
    "### calculate wAIC"
   ]
  },
  {
   "cell_type": "code",
   "execution_count": 8,
   "metadata": {
    "pycharm": {
     "name": "#%%\n"
    }
   },
   "outputs": [
    {
     "data": {
      "text/plain": "{'lppd': -140.33926607294404,\n 'p_waic': 3.6956692286428323,\n 'waic': 288.06987060317374,\n 'waic_se': 47.71193579144203}"
     },
     "execution_count": 8,
     "metadata": {},
     "output_type": "execute_result"
    }
   ],
   "source": [
    "model_fit.waic"
   ]
  },
  {
   "cell_type": "markdown",
   "metadata": {
    "pycharm": {
     "name": "#%% md\n"
    }
   },
   "source": [
    "## Posteriors"
   ]
  },
  {
   "cell_type": "code",
   "execution_count": 9,
   "metadata": {
    "pycharm": {
     "name": "#%%\n"
    }
   },
   "outputs": [
    {
     "data": {
      "text/plain": "       transf_drift  transf_threshold   transf_ndt  transf_rel_sp\ncount   3000.000000       3000.000000  3000.000000    3000.000000\nmean       1.004250          1.401450     0.224317       0.573476\nstd        0.108733          0.039354     0.006790       0.021410\nmin        0.657066          1.259510     0.194524       0.489228\n25%        0.929530          1.373913     0.220298       0.559158\n50%        1.004775          1.400645     0.224729       0.574055\n75%        1.080070          1.427590     0.228915       0.587583\nmax        1.441360          1.544400     0.243794       0.642592",
      "text/html": "<div>\n<style scoped>\n    .dataframe tbody tr th:only-of-type {\n        vertical-align: middle;\n    }\n\n    .dataframe tbody tr th {\n        vertical-align: top;\n    }\n\n    .dataframe thead th {\n        text-align: right;\n    }\n</style>\n<table border=\"1\" class=\"dataframe\">\n  <thead>\n    <tr style=\"text-align: right;\">\n      <th></th>\n      <th>transf_drift</th>\n      <th>transf_threshold</th>\n      <th>transf_ndt</th>\n      <th>transf_rel_sp</th>\n    </tr>\n  </thead>\n  <tbody>\n    <tr>\n      <th>count</th>\n      <td>3000.000000</td>\n      <td>3000.000000</td>\n      <td>3000.000000</td>\n      <td>3000.000000</td>\n    </tr>\n    <tr>\n      <th>mean</th>\n      <td>1.004250</td>\n      <td>1.401450</td>\n      <td>0.224317</td>\n      <td>0.573476</td>\n    </tr>\n    <tr>\n      <th>std</th>\n      <td>0.108733</td>\n      <td>0.039354</td>\n      <td>0.006790</td>\n      <td>0.021410</td>\n    </tr>\n    <tr>\n      <th>min</th>\n      <td>0.657066</td>\n      <td>1.259510</td>\n      <td>0.194524</td>\n      <td>0.489228</td>\n    </tr>\n    <tr>\n      <th>25%</th>\n      <td>0.929530</td>\n      <td>1.373913</td>\n      <td>0.220298</td>\n      <td>0.559158</td>\n    </tr>\n    <tr>\n      <th>50%</th>\n      <td>1.004775</td>\n      <td>1.400645</td>\n      <td>0.224729</td>\n      <td>0.574055</td>\n    </tr>\n    <tr>\n      <th>75%</th>\n      <td>1.080070</td>\n      <td>1.427590</td>\n      <td>0.228915</td>\n      <td>0.587583</td>\n    </tr>\n    <tr>\n      <th>max</th>\n      <td>1.441360</td>\n      <td>1.544400</td>\n      <td>0.243794</td>\n      <td>0.642592</td>\n    </tr>\n  </tbody>\n</table>\n</div>"
     },
     "execution_count": 9,
     "metadata": {},
     "output_type": "execute_result"
    }
   ],
   "source": [
    "model_fit.samples.describe()"
   ]
  },
  {
   "cell_type": "code",
   "execution_count": 10,
   "metadata": {
    "pycharm": {
     "name": "#%%\n"
    }
   },
   "outputs": [],
   "source": [
    "import seaborn as sns\n",
    "sns.set(context = \"talk\", \n",
    "        style = \"white\", \n",
    "        palette = \"husl\",\n",
    "        rc={'figure.figsize':(15, 8)})"
   ]
  },
  {
   "cell_type": "markdown",
   "metadata": {
    "pycharm": {
     "name": "#%% md\n"
    }
   },
   "source": [
    "Here we plot the estimated posterior distributions against the generating parameters, to see whether the model parameters are recovering well:"
   ]
  },
  {
   "cell_type": "code",
   "execution_count": 11,
   "metadata": {
    "pycharm": {
     "name": "#%%\n"
    }
   },
   "outputs": [
    {
     "data": {
      "text/plain": "<Figure size 1440x360 with 4 Axes>",
      "image/png": "[encoded data removed]"
     },
     "metadata": {},
     "output_type": "display_data"
    }
   ],
   "source": [
    "g = model_fit.plot_posteriors(height=5, show_intervals='HDI')\n",
    "\n",
    "for i, ax in enumerate(g.axes.flatten()):\n",
    "    ax.axvline(data[['drift', 'threshold', 'ndt', 'rel_sp']].mean().values[i], color='grey', linestyle='--')"
   ]
  }
 ],
 "metadata": {
  "kernelspec": {
   "display_name": "Python 3 (ipykernel)",
   "language": "python",
   "name": "python3"
  },
  "language_info": {
   "codemirror_mode": {
    "name": "ipython",
    "version": 3
   },
   "file_extension": ".py",
   "mimetype": "text/x-python",
   "name": "python",
   "nbconvert_exporter": "python",
   "pygments_lexer": "ipython3",
   "version": "3.8.10"
  }
 },
 "nbformat": 4,
 "nbformat_minor": 4
}