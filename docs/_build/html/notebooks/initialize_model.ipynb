{
 "cells": [
  {
   "cell_type": "markdown",
   "id": "considered-modification",
   "metadata": {},
   "source": [
    "# How to initialize a model"
   ]
  },
  {
   "cell_type": "markdown",
   "id": "attempted-favorite",
   "metadata": {},
   "source": [
    "To initialize a model, you can use one of the following model classes:\n",
    "\n",
    "1. For simple reinforcement learning models: `RLModel_2A`\n",
    "\n",
    "2. For diffusion decision models: `DDModel`\n",
    "\n",
    "3. For reinforcement learning diffusion decision models: `RLDDModel`\n",
    "\n",
    "4. For race models: `RDModel_2A`, `LBAModel_2A`, `ARDModel_2A`, `ALBAModel_2A`\n",
    "\n",
    "5. For reinforcement learning race models: `RLRDModel_2A`, `RLLBAModel_2A`, `RLARDModel_2A`, `RLALBAModel_2A`"
   ]
  },
  {
   "cell_type": "markdown",
   "id": "bacterial-justice",
   "metadata": {},
   "source": [
    "All these classes have 1 non-default argument: `hierarchical_levels`. This should be set to 1 for model fits on individual data, and 2 for model fits on group data.\n",
    "\n",
    "Additional arguments can be specified in order to \"turn on and off\" different model mechanisms that are implemented.\n",
    "\n",
    "For example, let's say I want to specify a **RLDDM for 1 subject**:"
   ]
  },
  {
   "cell_type": "code",
   "execution_count": 1,
   "id": "russian-syndrome",
   "metadata": {},
   "outputs": [],
   "source": [
    "import rlssm"
   ]
  },
  {
   "cell_type": "code",
   "execution_count": 2,
   "id": "sporting-journal",
   "metadata": {},
   "outputs": [
    {
     "name": "stdout",
     "output_type": "stream",
     "text": [
      "Using cached StanModel\n"
     ]
    }
   ],
   "source": [
    "model = rlssm.RLDDModel(hierarchical_levels=1)"
   ]
  },
  {
   "cell_type": "markdown",
   "id": "marine-location",
   "metadata": {},
   "source": [
    "After initialization, you can inspect the model's default priors. You can change these when you fit the model."
   ]
  },
  {
   "cell_type": "code",
   "execution_count": 3,
   "id": "rocky-opera",
   "metadata": {},
   "outputs": [
    {
     "data": {
      "text/plain": [
       "{'alpha_priors': {'mu': 0, 'sd': 1},\n",
       " 'drift_scaling_priors': {'mu': 1, 'sd': 50},\n",
       " 'threshold_priors': {'mu': 1, 'sd': 5},\n",
       " 'ndt_priors': {'mu': 1, 'sd': 1}}"
      ]
     },
     "execution_count": 3,
     "metadata": {},
     "output_type": "execute_result"
    }
   ],
   "source": [
    "model.priors"
   ]
  },
  {
   "cell_type": "markdown",
   "id": "previous-adjustment",
   "metadata": {},
   "source": [
    "Note that, if this is the first time that you initialize this type of model, it's going to take some time to compile it. Otherwise, the cashed model will be automatically loaded.\n",
    "\n",
    "By default, all mechanisms are \"off\", meaning that the simplest model is fit, so you need to set alternative mechanisms to `True` to have them included in your model:"
   ]
  },
  {
   "cell_type": "code",
   "execution_count": 4,
   "id": "quick-thinking",
   "metadata": {},
   "outputs": [
    {
     "name": "stdout",
     "output_type": "stream",
     "text": [
      "Using cached StanModel\n"
     ]
    }
   ],
   "source": [
    "model_complex = rlssm.DDModel(hierarchical_levels=1, \n",
    "                              drift_variability = True,\n",
    "                              starting_point_variability=True)"
   ]
  },
  {
   "cell_type": "code",
   "execution_count": 5,
   "id": "blind-objective",
   "metadata": {},
   "outputs": [
    {
     "data": {
      "text/plain": [
       "{'threshold_priors': {'mu': 0, 'sd': 5},\n",
       " 'ndt_priors': {'mu': 0, 'sd': 5},\n",
       " 'drift_trialmu_priors': {'mu': 1, 'sd': 5},\n",
       " 'drift_trialsd_priors': {'mu': 0, 'sd': 5},\n",
       " 'rel_sp_trialmu_priors': {'mu': 0, 'sd': 0.8},\n",
       " 'rel_sp_trialsd_priors': {'mu': 0, 'sd': 0.5}}"
      ]
     },
     "execution_count": 5,
     "metadata": {},
     "output_type": "execute_result"
    }
   ],
   "source": [
    "model_complex.priors"
   ]
  },
  {
   "cell_type": "markdown",
   "id": "swiss-windows",
   "metadata": {},
   "source": [
    "You can check what are the possible mechanisms for each class in the [API reference](https://rlssm.readthedocs.io/en/latest/models/model_classes.html) guide, or by typing:"
   ]
  },
  {
   "cell_type": "code",
   "execution_count": 6,
   "id": "metropolitan-married",
   "metadata": {},
   "outputs": [
    {
     "data": {
      "text/plain": [
       "\u001b[0;31mInit signature:\u001b[0m\n",
       "\u001b[0mrlssm\u001b[0m\u001b[0;34m.\u001b[0m\u001b[0mDDModel\u001b[0m\u001b[0;34m(\u001b[0m\u001b[0;34m\u001b[0m\n",
       "\u001b[0;34m\u001b[0m    \u001b[0mhierarchical_levels\u001b[0m\u001b[0;34m,\u001b[0m\u001b[0;34m\u001b[0m\n",
       "\u001b[0;34m\u001b[0m    \u001b[0mstarting_point_bias\u001b[0m\u001b[0;34m=\u001b[0m\u001b[0;32mFalse\u001b[0m\u001b[0;34m,\u001b[0m\u001b[0;34m\u001b[0m\n",
       "\u001b[0;34m\u001b[0m    \u001b[0mdrift_variability\u001b[0m\u001b[0;34m=\u001b[0m\u001b[0;32mFalse\u001b[0m\u001b[0;34m,\u001b[0m\u001b[0;34m\u001b[0m\n",
       "\u001b[0;34m\u001b[0m    \u001b[0mstarting_point_variability\u001b[0m\u001b[0;34m=\u001b[0m\u001b[0;32mFalse\u001b[0m\u001b[0;34m,\u001b[0m\u001b[0;34m\u001b[0m\n",
       "\u001b[0;34m\u001b[0m    \u001b[0mdrift_starting_point_correlation\u001b[0m\u001b[0;34m=\u001b[0m\u001b[0;32mFalse\u001b[0m\u001b[0;34m,\u001b[0m\u001b[0;34m\u001b[0m\n",
       "\u001b[0;34m\u001b[0m    \u001b[0mdrift_starting_point_beta_correlation\u001b[0m\u001b[0;34m=\u001b[0m\u001b[0;32mFalse\u001b[0m\u001b[0;34m,\u001b[0m\u001b[0;34m\u001b[0m\n",
       "\u001b[0;34m\u001b[0m    \u001b[0mdrift_starting_point_regression\u001b[0m\u001b[0;34m=\u001b[0m\u001b[0;32mFalse\u001b[0m\u001b[0;34m,\u001b[0m\u001b[0;34m\u001b[0m\n",
       "\u001b[0;34m\u001b[0m\u001b[0;34m)\u001b[0m\u001b[0;34m\u001b[0m\u001b[0;34m\u001b[0m\u001b[0m\n",
       "\u001b[0;31mDocstring:\u001b[0m     \n",
       "DDModel allows to specify a diffusion decision model.\n",
       "\n",
       "When initializing the model, you should specify whether the model is hierarchical or not.\n",
       "Additionally, you can specify the mechanisms that you wish to include or exclude.\n",
       "\n",
       "The underlying stan model will be compiled if no previously compiled model is found.\n",
       "After initializing the model, it can be fitted to a particular dataset using pystan.\n",
       "\u001b[0;31mInit docstring:\u001b[0m\n",
       "Initialize a DDModel object.\n",
       "\n",
       "Note\n",
       "----\n",
       "This model is restricted to two options per trial (coded as correct and incorrect).\n",
       "\n",
       "Parameters\n",
       "----------\n",
       "\n",
       "hierarchical_levels : int\n",
       "    Set to 1 for individual data and to 2 for grouped data.\n",
       "\n",
       "starting_point_bias : bool, default False\n",
       "    By default, there is no starting point bias.\n",
       "    If set to True, the starting point bias is estimated.\n",
       "\n",
       "drift_variability : bool, default False\n",
       "    By default, there is no drift-rate variability across trials.\n",
       "    If set to True, the standard deviation of the drift-rate across trials is estimated.\n",
       "\n",
       "starting_point_variability : bool, default False\n",
       "    By default, there is no starting point bias variability across trials.\n",
       "    If set to True, the standard deviation of the starting point bias across trials\n",
       "    is estimated.\n",
       "\n",
       "drift_starting_point_correlation : bool, default False\n",
       "    By default, the correlation between these 2 parameters is not estimated.\n",
       "    If set to True, the 2 parameters are assumed to come\n",
       "    from a multinormal distribution.\n",
       "    Only relevant when drift_variability and starting_point_variability are True.\n",
       "\n",
       "drift_starting_point_beta_correlation : bool, default False\n",
       "    If True, trial-by-trial drift-rate, rel_sp and an external\n",
       "    variable beta are assumed to come from a multinormal distribution.\n",
       "         Only relevant when drift_variability and starting_point_variability are True.\n",
       "\n",
       "drift_starting_point_regression : bool, default False\n",
       "    If True, two regression coefficients are estimated, for trial drift\n",
       "    and relative starting point, and an external variable beta.\n",
       "    Only relevant when drift_variability and starting_point_variability are True.\n",
       "\n",
       "Attributes\n",
       "----------\n",
       "model_label : str\n",
       "    The label of the fully specified model.\n",
       "\n",
       "n_parameters_individual : int\n",
       "    The number of individual parameters of the fully specified model.\n",
       "\n",
       "n_parameters_trial : int\n",
       "    The number of parameters that are estimated at a trial level.\n",
       "\n",
       "stan_model_path : str\n",
       "    The location of the stan model code.\n",
       "\n",
       "compiled_model : pystan.StanModel\n",
       "    The compiled stan model.\n",
       "\u001b[0;31mFile:\u001b[0m           ~/git/rlssm/rlssm/models_DDM.py\n",
       "\u001b[0;31mType:\u001b[0m           type\n",
       "\u001b[0;31mSubclasses:\u001b[0m     \n"
      ]
     },
     "metadata": {},
     "output_type": "display_data"
    }
   ],
   "source": [
    "rlssm.DDModel?"
   ]
  }
 ],
 "metadata": {
  "kernelspec": {
   "display_name": "Python 3",
   "language": "python",
   "name": "python3"
  },
  "language_info": {
   "codemirror_mode": {
    "name": "ipython",
    "version": 3
   },
   "file_extension": ".py",
   "mimetype": "text/x-python",
   "name": "python",
   "nbconvert_exporter": "python",
   "pygments_lexer": "ipython3",
   "version": "3.7.9"
  }
 },
 "nbformat": 4,
 "nbformat_minor": 5
}
