{
 "cells": [
  {
   "cell_type": "markdown",
   "id": "considered-modification",
   "metadata": {
    "pycharm": {
     "name": "#%% md\n"
    }
   },
   "source": [
    "# How to initialize a model"
   ]
  },
  {
   "cell_type": "markdown",
   "id": "attempted-favorite",
   "metadata": {
    "pycharm": {
     "name": "#%% md\n"
    }
   },
   "source": [
    "To initialize a model, you can use one of the following model classes:\n",
    "\n",
    "1. For simple reinforcement learning models: `RLModel_2A`\n",
    "\n",
    "2. For diffusion decision models: `DDModel`\n",
    "\n",
    "3. For reinforcement learning diffusion decision models: `RLDDModel`\n",
    "\n",
    "4. For race models: `RDModel_2A`, `LBAModel_2A`, `ARDModel_2A`, `ALBAModel_2A`\n",
    "\n",
    "5. For reinforcement learning race models: `RLRDModel_2A`, `RLLBAModel_2A`, `RLARDModel_2A`, `RLALBAModel_2A`"
   ]
  },
  {
   "cell_type": "markdown",
   "id": "bacterial-justice",
   "metadata": {
    "pycharm": {
     "name": "#%% md\n"
    }
   },
   "source": [
    "All these classes have 1 non-default argument: `hierarchical_levels`. This should be set to 1 for model fits on individual data, and 2 for model fits on group data.\n",
    "\n",
    "Additional arguments can be specified in order to \"turn on and off\" different model mechanisms that are implemented.\n",
    "\n",
    "For example, let's say I want to specify a **RLDDM for 1 subject**:"
   ]
  },
  {
   "cell_type": "code",
   "execution_count": 1,
   "id": "russian-syndrome",
   "metadata": {
    "pycharm": {
     "name": "#%%\n"
    }
   },
   "outputs": [],
   "source": [
    "import rlssm"
   ]
  },
  {
   "cell_type": "code",
   "execution_count": 2,
   "id": "sporting-journal",
   "metadata": {
    "pycharm": {
     "name": "#%%\n"
    }
   },
   "outputs": [
    {
     "name": "stdout",
     "output_type": "stream",
     "text": [
      "Using cached StanModel\n"
     ]
    }
   ],
   "source": [
    "model = rlssm.RLDDModel(hierarchical_levels=1)"
   ]
  },
  {
   "cell_type": "markdown",
   "id": "marine-location",
   "metadata": {
    "pycharm": {
     "name": "#%% md\n"
    }
   },
   "source": [
    "After initialization, you can inspect the model's default priors. You can change these when you fit the model."
   ]
  },
  {
   "cell_type": "code",
   "execution_count": 3,
   "id": "rocky-opera",
   "metadata": {
    "pycharm": {
     "name": "#%%\n"
    }
   },
   "outputs": [
    {
     "data": {
      "text/plain": [
       "{'alpha_priors': {'mu': 0, 'sd': 1},\n",
       " 'drift_scaling_priors': {'mu': 1, 'sd': 50},\n",
       " 'threshold_priors': {'mu': 1, 'sd': 5},\n",
       " 'ndt_priors': {'mu': 1, 'sd': 1}}"
      ]
     },
     "execution_count": 3,
     "metadata": {},
     "output_type": "execute_result"
    }
   ],
   "source": [
    "model.priors"
   ]
  },
  {
   "cell_type": "markdown",
   "id": "previous-adjustment",
   "metadata": {
    "pycharm": {
     "name": "#%% md\n"
    }
   },
   "source": [
    "Note that, if this is the first time that you initialize this type of model, it's going to take some time to compile it. Otherwise, the cashed model will be automatically loaded.\n",
    "\n",
    "By default, all mechanisms are \"off\", meaning that the simplest model is fit, so you need to set alternative mechanisms to `True` to have them included in your model:"
   ]
  },
  {
   "cell_type": "code",
   "execution_count": 4,
   "id": "quick-thinking",
   "metadata": {
    "pycharm": {
     "name": "#%%\n"
    }
   },
   "outputs": [
    {
     "name": "stderr",
     "output_type": "stream",
     "text": [
      "20:58:37 - cmdstanpy - INFO - compiling stan file /home/andrei/PycharmProjects/rlssm/rlssm/stan_models/DDM/DDM_driftvar_spvar.stan to exe file /home/andrei/PycharmProjects/rlssm/rlssm/stan_models/DDM/DDM_driftvar_spvar\n",
      "20:58:53 - cmdstanpy - INFO - compiled model executable: /home/andrei/PycharmProjects/rlssm/rlssm/stan_models/DDM/DDM_driftvar_spvar\n",
      "20:58:53 - cmdstanpy - WARNING - Stan compiler has produced 11 warnings:\n",
      "20:58:53 - cmdstanpy - WARNING - \n",
      "--- Translating Stan model to C++ code ---\n",
      "bin/stanc  --o=/home/andrei/PycharmProjects/rlssm/rlssm/stan_models/DDM/DDM_driftvar_spvar.hpp /home/andrei/PycharmProjects/rlssm/rlssm/stan_models/DDM/DDM_driftvar_spvar.stan\n",
      "Warning in '/home/andrei/PycharmProjects/rlssm/rlssm/stan_models/DDM/DDM_driftvar_spvar.stan', line 4, column 1: Declaration\n",
      "    of arrays by placing brackets after a variable name is deprecated and\n",
      "    will be removed in Stan 2.32.0. Instead use the array keyword before the\n",
      "    type. This can be changed automatically using the auto-format flag to\n",
      "    stanc\n",
      "Warning in '/home/andrei/PycharmProjects/rlssm/rlssm/stan_models/DDM/DDM_driftvar_spvar.stan', line 5, column 1: Declaration\n",
      "    of arrays by placing brackets after a variable name is deprecated and\n",
      "    will be removed in Stan 2.32.0. Instead use the array keyword before the\n",
      "    type. This can be changed automatically using the auto-format flag to\n",
      "    stanc\n",
      "Warning in '/home/andrei/PycharmProjects/rlssm/rlssm/stan_models/DDM/DDM_driftvar_spvar.stan', line 6, column 1: Declaration\n",
      "    of arrays by placing brackets after a variable name is deprecated and\n",
      "    will be removed in Stan 2.32.0. Instead use the array keyword before the\n",
      "    type. This can be changed automatically using the auto-format flag to\n",
      "    stanc\n",
      "Warning in '/home/andrei/PycharmProjects/rlssm/rlssm/stan_models/DDM/DDM_driftvar_spvar.stan', line 22, column 1: Declaration\n",
      "    of arrays by placing brackets after a variable name is deprecated and\n",
      "    will be removed in Stan 2.32.0. Instead use the array keyword before the\n",
      "    type. This can be changed automatically using the auto-format flag to\n",
      "    stanc\n",
      "Warning in '/home/andrei/PycharmProjects/rlssm/rlssm/stan_models/DDM/DDM_driftvar_spvar.stan', line 23, column 1: Declaration\n",
      "    of arrays by placing brackets after a variable name is deprecated and\n",
      "    will be removed in Stan 2.32.0. Instead use the array keyword before the\n",
      "    type. This can be changed automatically using the auto-format flag to\n",
      "    stanc\n",
      "Warning in '/home/andrei/PycharmProjects/rlssm/rlssm/stan_models/DDM/DDM_driftvar_spvar.stan', line 26, column 1: Declaration\n",
      "    of arrays by placing brackets after a variable name is deprecated and\n",
      "    will be removed in Stan 2.32.0. Instead use the array keyword before the\n",
      "    type. This can be changed automatically using the auto-format flag to\n",
      "    stanc\n",
      "Warning in '/home/andrei/PycharmProjects/rlssm/rlssm/stan_models/DDM/DDM_driftvar_spvar.stan', line 27, column 1: Declaration\n",
      "    of arrays by placing brackets after a variable name is deprecated and\n",
      "    will be removed in Stan 2.32.0. Instead use the array keyword before the\n",
      "    type. This can be changed automatically using the auto-format flag to\n",
      "    stanc\n",
      "Warning in '/home/andrei/PycharmProjects/rlssm/rlssm/stan_models/DDM/DDM_driftvar_spvar.stan', line 28, column 1: Declaration\n",
      "    of arrays by placing brackets after a variable name is deprecated and\n",
      "    will be removed in Stan 2.32.0. Instead use the array keyword before the\n",
      "    type. This can be changed automatically using the auto-format flag to\n",
      "    stanc\n",
      "Warning in '/home/andrei/PycharmProjects/rlssm/rlssm/stan_models/DDM/DDM_driftvar_spvar.stan', line 29, column 1: Declaration\n",
      "    of arrays by placing brackets after a variable name is deprecated and\n",
      "    will be removed in Stan 2.32.0. Instead use the array keyword before the\n",
      "    type. This can be changed automatically using the auto-format flag to\n",
      "    stanc\n",
      "Warning in '/home/andrei/PycharmProjects/rlssm/rlssm/stan_models/DDM/DDM_driftvar_spvar.stan', line 30, column 1: Declaration\n",
      "    of arrays by placing brackets after a variable name is deprecated and\n",
      "    will be removed in Stan 2.32.0. Instead use the array keyword before the\n",
      "    type. This can be changed automatically using the auto-format flag to\n",
      "    stanc\n",
      "Warning in '/home/andrei/PycharmProjects/rlssm/rlssm/stan_models/DDM/DDM_driftvar_spvar.stan', line 31, column 1: Declaration\n",
      "    of arrays by placing brackets after a variable name is deprecated and\n",
      "    will be removed in Stan 2.32.0. Instead use the array keyword before the\n",
      "    type. This can be changed automatically using the auto-format flag to\n",
      "    stanc\n",
      "\n",
      "--- Compiling, linking C++ code ---\n",
      "g++ -std=c++1y -pthread -D_REENTRANT -Wno-sign-compare -Wno-ignored-attributes      -I stan/lib/stan_math/lib/tbb_2020.3/include    -O3 -I src -I stan/src -I lib/rapidjson_1.1.0/ -I lib/CLI11-1.9.1/ -I stan/lib/stan_math/ -I stan/lib/stan_math/lib/eigen_3.3.9 -I stan/lib/stan_math/lib/boost_1.78.0 -I stan/lib/stan_math/lib/sundials_6.1.1/include -I stan/lib/stan_math/lib/sundials_6.1.1/src/sundials    -DBOOST_DISABLE_ASSERTS          -c -Wno-ignored-attributes   -x c++ -o /home/andrei/PycharmProjects/rlssm/rlssm/stan_models/DDM/DDM_driftvar_spvar.o /home/andrei/PycharmProjects/rlssm/rlssm/stan_models/DDM/DDM_driftvar_spvar.hpp\n",
      "g++ -std=c++1y -pthread -D_REENTRANT -Wno-sign-compare -Wno-ignored-attributes      -I stan/lib/stan_math/lib/tbb_2020.3/include    -O3 -I src -I stan/src -I lib/rapidjson_1.1.0/ -I lib/CLI11-1.9.1/ -I stan/lib/stan_math/ -I stan/lib/stan_math/lib/eigen_3.3.9 -I stan/lib/stan_math/lib/boost_1.78.0 -I stan/lib/stan_math/lib/sundials_6.1.1/include -I stan/lib/stan_math/lib/sundials_6.1.1/src/sundials    -DBOOST_DISABLE_ASSERTS                -Wl,-L,\"/home/andrei/.cmdstan/cmdstan-2.30.0/stan/lib/stan_math/lib/tbb\" -Wl,-rpath,\"/home/andrei/.cmdstan/cmdstan-2.30.0/stan/lib/stan_math/lib/tbb\"      /home/andrei/PycharmProjects/rlssm/rlssm/stan_models/DDM/DDM_driftvar_spvar.o src/cmdstan/main.o        -Wl,-L,\"/home/andrei/.cmdstan/cmdstan-2.30.0/stan/lib/stan_math/lib/tbb\" -Wl,-rpath,\"/home/andrei/.cmdstan/cmdstan-2.30.0/stan/lib/stan_math/lib/tbb\"   stan/lib/stan_math/lib/sundials_6.1.1/lib/libsundials_nvecserial.a stan/lib/stan_math/lib/sundials_6.1.1/lib/libsundials_cvodes.a stan/lib/stan_math/lib/sundials_6.1.1/lib/libsundials_idas.a stan/lib/stan_math/lib/sundials_6.1.1/lib/libsundials_kinsol.a  stan/lib/stan_math/lib/tbb/libtbb.so.2 -o /home/andrei/PycharmProjects/rlssm/rlssm/stan_models/DDM/DDM_driftvar_spvar\n",
      "rm -f /home/andrei/PycharmProjects/rlssm/rlssm/stan_models/DDM/DDM_driftvar_spvar.o\n",
      "\n"
     ]
    }
   ],
   "source": [
    "model_complex = rlssm.DDModel(hierarchical_levels=1, \n",
    "                              drift_variability = True,\n",
    "                              starting_point_variability=True)"
   ]
  },
  {
   "cell_type": "code",
   "execution_count": 5,
   "id": "blind-objective",
   "metadata": {
    "pycharm": {
     "name": "#%%\n"
    }
   },
   "outputs": [
    {
     "data": {
      "text/plain": [
       "{'threshold_priors': {'mu': 0, 'sd': 5},\n",
       " 'ndt_priors': {'mu': 0, 'sd': 5},\n",
       " 'drift_trial_mu_priors': {'mu': 1, 'sd': 5},\n",
       " 'drift_trial_sd_priors': {'mu': 0, 'sd': 5},\n",
       " 'rel_sp_trial_mu_priors': {'mu': 0, 'sd': 0.8},\n",
       " 'rel_sp_trial_sd_priors': {'mu': 0, 'sd': 0.5}}"
      ]
     },
     "execution_count": 5,
     "metadata": {},
     "output_type": "execute_result"
    }
   ],
   "source": [
    "model_complex.priors"
   ]
  },
  {
   "cell_type": "markdown",
   "id": "swiss-windows",
   "metadata": {
    "pycharm": {
     "name": "#%% md\n"
    }
   },
   "source": [
    "You can check what are the possible mechanisms for each class in the [API reference](https://rlssm.readthedocs.io/en/latest/models/model_classes.html) guide, or by typing:"
   ]
  },
  {
   "cell_type": "code",
   "execution_count": 6,
   "id": "metropolitan-married",
   "metadata": {
    "pycharm": {
     "name": "#%%\n"
    }
   },
   "outputs": [],
   "source": [
    "rlssm.DDModel?"
   ]
  }
 ],
 "metadata": {
  "kernelspec": {
   "display_name": "Python 3",
   "language": "python",
   "name": "python3"
  },
  "language_info": {
   "codemirror_mode": {
    "name": "ipython",
    "version": 3
   },
   "file_extension": ".py",
   "mimetype": "text/x-python",
   "name": "python",
   "nbconvert_exporter": "python",
   "pygments_lexer": "ipython3",
   "version": "3.7.9"
  }
 },
 "nbformat": 4,
 "nbformat_minor": 5
}
