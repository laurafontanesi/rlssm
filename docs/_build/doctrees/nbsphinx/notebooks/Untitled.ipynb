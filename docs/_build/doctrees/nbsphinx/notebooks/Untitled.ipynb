{
 "cells": [
  {
   "cell_type": "code",
   "execution_count": 1,
   "id": "weighted-liabilities",
   "metadata": {
    "pycharm": {
     "name": "#%%\n"
    }
   },
   "outputs": [],
   "source": [
    "import rlssm"
   ]
  },
  {
   "cell_type": "code",
   "execution_count": 2,
   "id": "elegant-velvet",
   "metadata": {
    "pycharm": {
     "name": "#%%\n"
    }
   },
   "outputs": [
    {
     "name": "stdout",
     "output_type": "stream",
     "text": [
      "Using cached StanModel\n"
     ]
    }
   ],
   "source": [
    "model = rlssm.RLDDModel(hierarchical_levels=1, separate_learning_rates=True)"
   ]
  },
  {
   "cell_type": "code",
   "execution_count": 3,
   "id": "pursuant-ground",
   "metadata": {
    "pycharm": {
     "name": "#%%\n"
    }
   },
   "outputs": [
    {
     "data": {
      "text/plain": [
       "{'alpha_pos_priors': {'mu': 0, 'sd': 1},\n",
       " 'alpha_neg_priors': {'mu': 0, 'sd': 1},\n",
       " 'drift_scaling_priors': {'mu': 1, 'sd': 50},\n",
       " 'threshold_priors': {'mu': 1, 'sd': 5},\n",
       " 'ndt_priors': {'mu': 1, 'sd': 1}}"
      ]
     },
     "execution_count": 3,
     "metadata": {},
     "output_type": "execute_result"
    }
   ],
   "source": [
    "model.priors"
   ]
  },
  {
   "cell_type": "code",
   "execution_count": 4,
   "id": "rough-monthly",
   "metadata": {
    "pycharm": {
     "name": "#%%\n"
    }
   },
   "outputs": [
    {
     "name": "stdout",
     "output_type": "stream",
     "text": [
      "Using cached StanModel\n"
     ]
    }
   ],
   "source": [
    "model = rlssm.ALBAModel_2A(hierarchical_levels=1)"
   ]
  },
  {
   "cell_type": "code",
   "execution_count": 5,
   "id": "acquired-verse",
   "metadata": {
    "pycharm": {
     "name": "#%%\n"
    }
   },
   "outputs": [
    {
     "data": {
      "text/plain": [
       "{'k_priors': {'mu': 1, 'sd': 1},\n",
       " 'A_priors': {'mu': 0.3, 'sd': 1},\n",
       " 'tau_priors': {'mu': 0, 'sd': 1},\n",
       " 'v0_priors': {'mu': 9, 'sd': 2},\n",
       " 'ws_priors': {'mu': 0, 'sd': 2},\n",
       " 'wd_priors': {'mu': 3, 'sd': 3}}"
      ]
     },
     "execution_count": 5,
     "metadata": {},
     "output_type": "execute_result"
    }
   ],
   "source": [
    "model.priors"
   ]
  },
  {
   "cell_type": "code",
   "execution_count": 6,
   "id": "marine-reverse",
   "metadata": {
    "pycharm": {
     "name": "#%%\n"
    }
   },
   "outputs": [
    {
     "name": "stdout",
     "output_type": "stream",
     "text": [
      "Using cached StanModel\n"
     ]
    }
   ],
   "source": [
    "model = rlssm.RLLBAModel_2A(hierarchical_levels=1)"
   ]
  },
  {
   "cell_type": "code",
   "execution_count": 7,
   "id": "palestinian-morris",
   "metadata": {
    "pycharm": {
     "name": "#%%\n"
    }
   },
   "outputs": [
    {
     "data": {
      "text/plain": [
       "{'k_priors': {'mu': 1, 'sd': 1},\n",
       " 'A_priors': {'mu': 0.3, 'sd': 1},\n",
       " 'tau_priors': {'mu': 0, 'sd': 1},\n",
       " 'alpha_priors': {'mu': 0, 'sd': 1},\n",
       " 'drift_scaling_priors': {'mu': 0, 'sd': 0.5}}"
      ]
     },
     "execution_count": 7,
     "metadata": {},
     "output_type": "execute_result"
    }
   ],
   "source": [
    "model.priors"
   ]
  },
  {
   "cell_type": "code",
   "execution_count": 8,
   "id": "banner-surgeon",
   "metadata": {
    "pycharm": {
     "name": "#%%\n"
    }
   },
   "outputs": [
    {
     "name": "stderr",
     "output_type": "stream",
     "text": [
      "INFO:pystan:COMPILING THE C++ CODE FOR MODEL anon_model_15021e72184f262ca4fde1a7c069aefc NOW.\n"
     ]
    }
   ],
   "source": [
    "model = rlssm.ARDModel_2A(hierarchical_levels=1)"
   ]
  },
  {
   "cell_type": "code",
   "execution_count": 9,
   "id": "blond-soccer",
   "metadata": {
    "pycharm": {
     "name": "#%%\n"
    }
   },
   "outputs": [
    {
     "data": {
      "text/plain": [
       "{'threshold_priors': {'mu': 0, 'sd': 5},\n",
       " 'ndt_priors': {'mu': 0, 'sd': 5},\n",
       " 'v0_priors': {'mu': 9, 'sd': 2},\n",
       " 'ws_priors': {'mu': 0, 'sd': 2},\n",
       " 'wd_priors': {'mu': 3, 'sd': 3}}"
      ]
     },
     "execution_count": 9,
     "metadata": {},
     "output_type": "execute_result"
    }
   ],
   "source": [
    "model.priors"
   ]
  },
  {
   "cell_type": "code",
   "execution_count": 17,
   "id": "knowing-onion",
   "metadata": {
    "pycharm": {
     "name": "#%%\n"
    }
   },
   "outputs": [
    {
     "name": "stderr",
     "output_type": "stream",
     "text": [
      "INFO:pystan:COMPILING THE C++ CODE FOR MODEL anon_model_3173f418600d69519607e7d069898707 NOW.\n"
     ]
    }
   ],
   "source": [
    "model = rlssm.RLARDModel_2A(hierarchical_levels=1, separate_learning_rates=True)"
   ]
  },
  {
   "cell_type": "code",
   "execution_count": 18,
   "id": "critical-reset",
   "metadata": {
    "pycharm": {
     "name": "#%%\n"
    }
   },
   "outputs": [
    {
     "data": {
      "text/plain": [
       "{'threshold_priors': {'mu': 0, 'sd': 5},\n",
       " 'ndt_priors': {'mu': 0, 'sd': 5},\n",
       " 'alpha_pos_priors': {'mu': 0, 'sd': 1},\n",
       " 'alpha_neg_priors': {'mu': 0, 'sd': 1},\n",
       " 'v0_priors': {'mu': 9, 'sd': 2},\n",
       " 'ws_priors': {'mu': 0, 'sd': 2},\n",
       " 'wd_priors': {'mu': 3, 'sd': 3}}"
      ]
     },
     "execution_count": 18,
     "metadata": {},
     "output_type": "execute_result"
    }
   ],
   "source": [
    "model.priors"
   ]
  },
  {
   "cell_type": "code",
   "execution_count": null,
   "id": "formed-springer",
   "metadata": {
    "pycharm": {
     "name": "#%%\n"
    }
   },
   "outputs": [],
   "source": []
  }
 ],
 "metadata": {
  "kernelspec": {
   "display_name": "Python 3",
   "language": "python",
   "name": "python3"
  },
  "language_info": {
   "codemirror_mode": {
    "name": "ipython",
    "version": 3
   },
   "file_extension": ".py",
   "mimetype": "text/x-python",
   "name": "python",
   "nbconvert_exporter": "python",
   "pygments_lexer": "ipython3",
   "version": "3.7.9"
  }
 },
 "nbformat": 4,
 "nbformat_minor": 5
}
